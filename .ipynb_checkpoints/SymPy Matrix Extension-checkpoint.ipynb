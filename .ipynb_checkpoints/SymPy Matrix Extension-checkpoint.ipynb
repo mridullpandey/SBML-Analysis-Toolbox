{
 "cells": [
  {
   "cell_type": "markdown",
   "metadata": {
    "toc": true
   },
   "source": [
    "<h1>Table of Contents<span class=\"tocSkip\"></span></h1>\n",
    "<div class=\"toc\" style=\"margin-top: 1em;\"><ul class=\"toc-item\"><li><ul class=\"toc-item\"><li><ul class=\"toc-item\"><li><span><a href=\"#Notebook-Description\" data-toc-modified-id=\"Notebook-Description-0.0.1\">Notebook Description</a></span></li><li><span><a href=\"#Import-SBML-model\" data-toc-modified-id=\"Import-SBML-model-0.0.2\">Import SBML model</a></span></li><li><span><a href=\"#Construct-SymPy-Matrix\" data-toc-modified-id=\"Construct-SymPy-Matrix-0.0.3\">Construct SymPy Matrix</a></span></li><li><span><a href=\"#Construct-Nullspace-Matrix\" data-toc-modified-id=\"Construct-Nullspace-Matrix-0.0.4\">Construct Nullspace Matrix</a></span></li><li><span><a href=\"#Performance-Comparison\" data-toc-modified-id=\"Performance-Comparison-0.0.5\">Performance Comparison</a></span></li></ul></li></ul></li></ul></div>"
   ]
  },
  {
   "cell_type": "markdown",
   "metadata": {},
   "source": [
    "### Notebook Description\n",
    "\n",
    "This notebook walks through an approach to generating a symbolic matrices from a custom `SciPyModel` class in Python for use in sampling and sensitivity analysis. This notebook will be the basis for implementing an extension of the functionality provided by the SBML2SciPy toolbox."
   ]
  },
  {
   "cell_type": "markdown",
   "metadata": {},
   "source": [
    "### Import SBML model\n",
    "Execute functions to convert SBML model to custom class."
   ]
  },
  {
   "cell_type": "code",
   "execution_count": 1,
   "metadata": {
    "ExecuteTime": {
     "end_time": "2018-04-17T16:45:24.564083Z",
     "start_time": "2018-04-17T16:45:07.761762Z"
    }
   },
   "outputs": [],
   "source": [
    "from utils import SBML2SciPy\n",
    "SciPyModel = SBML2SciPy.importSBMLFile(SBML2SciPy.createSciPyModel())"
   ]
  },
  {
   "cell_type": "markdown",
   "metadata": {},
   "source": [
    "### Construct SymPy Matrix\n",
    "\n",
    "Using the SciPyModel object, construct a symbolic version of the ODE matrix."
   ]
  },
  {
   "cell_type": "code",
   "execution_count": 2,
   "metadata": {
    "ExecuteTime": {
     "end_time": "2018-04-17T16:45:24.612631Z",
     "start_time": "2018-04-17T16:45:24.586402Z"
    }
   },
   "outputs": [],
   "source": [
    "SciPyModel = SBML2SciPy.writeODEFunction( SciPyModel )\n",
    "open('temp.py', 'w+').write(SciPyModel.ToolboxFunctions.DerivativeFunction)"
   ]
  },
  {
   "cell_type": "markdown",
   "metadata": {},
   "source": [
    "Using the SymPy module, create two symbolic vectors for species and parameters."
   ]
  },
  {
   "cell_type": "code",
   "execution_count": 95,
   "metadata": {
    "ExecuteTime": {
     "end_time": "2018-04-17T17:29:40.280162Z",
     "start_time": "2018-04-17T17:29:40.221439Z"
    }
   },
   "outputs": [
    {
     "ename": "TypeError",
     "evalue": "symarray() got an unexpected keyword argument 'positive'",
     "output_type": "error",
     "traceback": [
      "\u001b[0;31m\u001b[0m",
      "\u001b[0;31mTypeError\u001b[0mTraceback (most recent call last)",
      "\u001b[0;32m<ipython-input-95-7c3f0890fc74>\u001b[0m in \u001b[0;36m<module>\u001b[0;34m()\u001b[0m\n\u001b[1;32m      1\u001b[0m \u001b[0;32mimport\u001b[0m \u001b[0msympy\u001b[0m\u001b[0;34m\u001b[0m\u001b[0m\n\u001b[0;32m----> 2\u001b[0;31m \u001b[0my\u001b[0m \u001b[0;34m=\u001b[0m \u001b[0msympy\u001b[0m\u001b[0;34m.\u001b[0m\u001b[0msymarray\u001b[0m\u001b[0;34m(\u001b[0m\u001b[0;34m'y'\u001b[0m\u001b[0;34m,\u001b[0m \u001b[0mlen\u001b[0m\u001b[0;34m(\u001b[0m\u001b[0mSciPyModel\u001b[0m\u001b[0;34m.\u001b[0m\u001b[0mSpecies\u001b[0m\u001b[0;34m.\u001b[0m\u001b[0mNames\u001b[0m\u001b[0;34m)\u001b[0m\u001b[0;34m,\u001b[0m \u001b[0mpositive\u001b[0m\u001b[0;34m=\u001b[0m\u001b[0mTrue\u001b[0m\u001b[0;34m)\u001b[0m\u001b[0;34m\u001b[0m\u001b[0m\n\u001b[0m\u001b[1;32m      3\u001b[0m \u001b[0mp\u001b[0m \u001b[0;34m=\u001b[0m \u001b[0msympy\u001b[0m\u001b[0;34m.\u001b[0m\u001b[0msymarray\u001b[0m\u001b[0;34m(\u001b[0m\u001b[0;34m'p'\u001b[0m\u001b[0;34m,\u001b[0m \u001b[0mlen\u001b[0m\u001b[0;34m(\u001b[0m\u001b[0mSciPyModel\u001b[0m\u001b[0;34m.\u001b[0m\u001b[0mParameters\u001b[0m\u001b[0;34m.\u001b[0m\u001b[0mKinetic\u001b[0m\u001b[0;34m.\u001b[0m\u001b[0mNames\u001b[0m\u001b[0;34m)\u001b[0m\u001b[0;34m)\u001b[0m\u001b[0;34m\u001b[0m\u001b[0m\n",
      "\u001b[0;31mTypeError\u001b[0m: symarray() got an unexpected keyword argument 'positive'"
     ]
    }
   ],
   "source": [
    "import sympy\n",
    "y = sympy.symarray('y', len(SciPyModel.Species.Names))\n",
    "p = sympy.symarray('p', len(SciPyModel.Parameters.Kinetic.Names))"
   ]
  },
  {
   "cell_type": "markdown",
   "metadata": {
    "ExecuteTime": {
     "end_time": "2018-04-16T18:36:23.932735Z",
     "start_time": "2018-04-16T18:36:23.921955Z"
    }
   },
   "source": [
    "Construct symbolic matrices for reaction vector and stoichiometric matrix."
   ]
  },
  {
   "cell_type": "code",
   "execution_count": 4,
   "metadata": {
    "ExecuteTime": {
     "end_time": "2018-04-17T16:45:25.404992Z",
     "start_time": "2018-04-17T16:45:25.372710Z"
    }
   },
   "outputs": [],
   "source": [
    "from temp import rxn_fun\n",
    "R = sympy.Matrix(rxn_fun(y,0,p))\n",
    "S = sympy.Matrix(SciPyModel.Reactions.Stoichiometry)"
   ]
  },
  {
   "cell_type": "markdown",
   "metadata": {},
   "source": [
    "Assemble symbolic derivative matrix. Must be assembled carefully to avoid bad assembly by `reshape`."
   ]
  },
  {
   "cell_type": "code",
   "execution_count": 5,
   "metadata": {
    "ExecuteTime": {
     "end_time": "2018-04-17T16:45:25.549449Z",
     "start_time": "2018-04-17T16:45:25.410449Z"
    }
   },
   "outputs": [
    {
     "data": {
      "text/plain": [
       "Matrix([\n",
       "[-1.0*p_0*y_0, -1.0*p_1*y_0,  1.0*p_2*y_2,            0,            0,            0,            0, 1.0*p_7*y_0,           0],\n",
       "[ 1.0*p_0*y_0,            0,            0,  1.0*p_3*y_3,            0,            0, -1.0*p_6*y_1,           0,           0],\n",
       "[           0,  1.0*p_1*y_0, -1.0*p_2*y_2,            0, -1.0*p_4*y_2,            0,            0,           0, 1.0*p_8*y_2],\n",
       "[           0,            0,            0, -1.0*p_3*y_3,  1.0*p_4*y_2, -1.0*p_5*y_3,            0,           0,           0],\n",
       "[           0,            0,            0,            0,            0,            0,            0,           0,           0],\n",
       "[           0,            0,            0,            0,            0,            0,            0,           0,           0]])"
      ]
     },
     "metadata": {},
     "output_type": "display_data"
    }
   ],
   "source": [
    "DerivativeMatrix = sympy.Matrix(\n",
    "    [S[:,i]*R[i] for i in range(len(R))]).reshape(S.shape[1],S.shape[0]).transpose()\n",
    "display(DerivativeMatrix)"
   ]
  },
  {
   "cell_type": "markdown",
   "metadata": {},
   "source": [
    "### Construct Nullspace Matrix\n",
    "Using the symbolic derivative matrix, we can now solve for the nullspace. Mathematically the operation we will be performing is a follows.\n",
    "\n",
    "Let $X \\in \\mathbb{R}^n$ be a vector of state variables, $K \\in \\mathbb{R}^m$ be a vector of rate constants, $E \\in \\mathbb{p}$ be a vector of shape parameters.  Then let $A: \\mathbb{R}^{n\\times m} \\mapsto \\mathbb{R}^{n}$ be the matrix containing the $m$ ordinary differential equations. We can find the null space by solving the following linear equation.\n",
    "\n",
    "\\begin{equation*}\n",
    "A_{(X,E)}\\cdot K ~=~ \\mathbf{0}\n",
    "\\end{equation*}"
   ]
  },
  {
   "cell_type": "markdown",
   "metadata": {
    "ExecuteTime": {
     "end_time": "2018-04-16T19:07:12.744176Z",
     "start_time": "2018-04-16T19:07:12.721723Z"
    }
   },
   "source": [
    "For efficiency in sampling, we apply the steady-state condition to the matrix $A$. The steady-state condition is given by the state variable and shape parameter vectors. Hence, we are looking to create a function which returns the nullspace with respect to a given steady-state condition in order to find corresponding kinetic parameters."
   ]
  },
  {
   "cell_type": "code",
   "execution_count": 6,
   "metadata": {
    "ExecuteTime": {
     "end_time": "2018-04-17T16:45:25.649189Z",
     "start_time": "2018-04-17T16:45:25.555239Z"
    }
   },
   "outputs": [
    {
     "data": {
      "text/plain": [
       "Matrix([\n",
       "[-1.0*y_0, -1.0*y_0,  1.0*y_2,        0,        0,        0,        0, 1.0*y_0,       0],\n",
       "[ 1.0*y_0,        0,        0,  1.0*y_3,        0,        0, -1.0*y_1,       0,       0],\n",
       "[       0,  1.0*y_0, -1.0*y_2,        0, -1.0*y_2,        0,        0,       0, 1.0*y_2],\n",
       "[       0,        0,        0, -1.0*y_3,  1.0*y_2, -1.0*y_3,        0,       0,       0],\n",
       "[       0,        0,        0,        0,        0,        0,        0,       0,       0],\n",
       "[       0,        0,        0,        0,        0,        0,        0,       0,       0]])"
      ]
     },
     "metadata": {},
     "output_type": "display_data"
    }
   ],
   "source": [
    "M = sympy.Matrix(\n",
    "    sympy.lambdify((p),DerivativeMatrix,'sympy')(*sympy.ones(len(p),1)))\n",
    "display(M)"
   ]
  },
  {
   "cell_type": "code",
   "execution_count": 66,
   "metadata": {
    "ExecuteTime": {
     "end_time": "2018-04-17T17:08:31.634625Z",
     "start_time": "2018-04-17T17:08:31.458433Z"
    }
   },
   "outputs": [
    {
     "name": "stdout",
     "output_type": "stream",
     "text": [
      "This nullspace is spanned by 5 vectors\n",
      "Hence we only have 4 free kinetic parameters\n"
     ]
    }
   ],
   "source": [
    "NullSpace = M.nullspace()\n",
    "print 'This nullspace is spanned by %s vectors' % len(NullSpace)\n",
    "print 'Hence we only have %s free kinetic parameters' % (SciPyModel.Parameters.Kinetic.Quantity - len(\n",
    "    NullSpace))"
   ]
  },
  {
   "cell_type": "markdown",
   "metadata": {},
   "source": [
    "We can see the set of linear equations spanning the nullspace by doting this basis with the kinetic parameters. For each we will set the expression equal to zero."
   ]
  },
  {
   "cell_type": "code",
   "execution_count": 100,
   "metadata": {
    "ExecuteTime": {
     "end_time": "2018-04-17T17:31:41.805101Z",
     "start_time": "2018-04-17T17:31:41.774450Z"
    }
   },
   "outputs": [],
   "source": [
    "NullEqns = []\n",
    "for i in range(len(NullSpace)):\n",
    "    NullEqns.append( sympy.Eq(NullSpace[i].dot(p), 0) )"
   ]
  },
  {
   "cell_type": "markdown",
   "metadata": {},
   "source": [
    "Then we can solve the system of equations using `solve` function in `SymPy`. The flag `manual=True` provides the best solution time for this particular set of problems."
   ]
  },
  {
   "cell_type": "code",
   "execution_count": 101,
   "metadata": {
    "ExecuteTime": {
     "end_time": "2018-04-17T17:31:47.424045Z",
     "start_time": "2018-04-17T17:31:45.165558Z"
    }
   },
   "outputs": [
    {
     "data": {
      "text/plain": [
       "[1.0*p_1*y_2/y_0 + p_2 == 0,\n",
       " -1.0*p_0*y_2/y_0 + 1.0*p_1*y_2/y_0 + 1.0*p_3*y_2/y_3 + p_4 == 0,\n",
       " 1.0*p_3*y_1/y_3 - 1.0*p_5*y_1/y_3 + p_6 == 0,\n",
       " 1.0*p_0 - 1.0*p_3*y_0/y_3 + 1.0*p_5*y_0/y_3 + p_7 == 0,\n",
       " 1.0*p_0*y_2/y_0 - 1.0*p_1*y_2/y_0 - 1.0*p_3*y_2/y_3 + 1.0*p_5*y_2/y_3 + p_8 == 0]"
      ]
     },
     "metadata": {},
     "output_type": "display_data"
    },
    {
     "data": {
      "text/plain": [
       "[{p_0: -p_6*y_0/y_1 - p_7,\n",
       "  p_1: -y_0*(p_7*y_2/y_0 - p_8)/y_2,\n",
       "  p_2: p_7*y_2/y_0 - p_8,\n",
       "  p_3: p_5 - p_6*y_3/y_1,\n",
       "  p_4: -p_5*y_2/y_3 - p_8}]"
      ]
     },
     "metadata": {},
     "output_type": "display_data"
    }
   ],
   "source": [
    "display(NullEqns)\n",
    "NullSample = sympy.solve(NullEqns, manual=True)\n",
    "display(NullSample)"
   ]
  },
  {
   "cell_type": "markdown",
   "metadata": {
    "ExecuteTime": {
     "end_time": "2018-04-17T17:09:57.383029Z",
     "start_time": "2018-04-17T17:09:57.334350Z"
    }
   },
   "source": [
    "Replace parameter declarations with respective function ahead of lamdification."
   ]
  },
  {
   "cell_type": "code",
   "execution_count": 102,
   "metadata": {
    "ExecuteTime": {
     "end_time": "2018-04-17T17:31:50.862673Z",
     "start_time": "2018-04-17T17:31:50.831451Z"
    },
    "scrolled": true
   },
   "outputs": [
    {
     "data": {
      "text/plain": [
       "[-p_6*y_0/y_1 - p_7,\n",
       " -y_0*(p_7*y_2/y_0 - p_8)/y_2,\n",
       " p_7*y_2/y_0 - p_8,\n",
       " p_5 - p_6*y_3/y_1,\n",
       " -p_5*y_2/y_3 - p_8,\n",
       " p_5,\n",
       " p_6,\n",
       " p_7,\n",
       " p_8]"
      ]
     },
     "metadata": {},
     "output_type": "display_data"
    }
   ],
   "source": [
    "pNew = []\n",
    "for key in p:\n",
    "    try:\n",
    "        pNew.append( NullSample[0][key] )\n",
    "    except KeyError:\n",
    "        pNew.append( key )\n",
    "        \n",
    "display(pNew)"
   ]
  },
  {
   "cell_type": "code",
   "execution_count": null,
   "metadata": {},
   "outputs": [],
   "source": [
    "pNewEqns = []\n",
    "for eqn in pNew:\n",
    "    pNewEqns.append( )"
   ]
  },
  {
   "cell_type": "markdown",
   "metadata": {},
   "source": [
    "Create anonymous function which returns kinetic parameter vector inside nullspace based on steady-state condition and free-kinetic parameters."
   ]
  },
  {
   "cell_type": "code",
   "execution_count": 88,
   "metadata": {
    "ExecuteTime": {
     "end_time": "2018-04-17T17:24:23.034852Z",
     "start_time": "2018-04-17T17:24:22.976501Z"
    }
   },
   "outputs": [],
   "source": [
    "NullSpaceFunction = sympy.lambdify(((p),(y)), pNew, 'numpy', dummify=False)"
   ]
  },
  {
   "cell_type": "markdown",
   "metadata": {},
   "source": [
    "Then using `NullSpaceFunction` we can now limit our parameter sampling to only those which satisfy the steady state condition."
   ]
  },
  {
   "cell_type": "markdown",
   "metadata": {},
   "source": [
    "### Performance Comparison\n",
    "\n",
    "Now with a reliable method to obtain the nullspace, we can see the benefit of its use on the simulation of the model. First we can simulate the model using the given initial condition and parameterization."
   ]
  },
  {
   "cell_type": "code",
   "execution_count": 9,
   "metadata": {
    "ExecuteTime": {
     "end_time": "2018-04-17T16:45:28.634564Z",
     "start_time": "2018-04-17T16:45:26.229784Z"
    }
   },
   "outputs": [
    {
     "data": {
      "image/png": "[encoded data removed]",
      "text/plain": [
       "<matplotlib.figure.Figure at 0x7f82bc01a7d0>"
      ]
     },
     "metadata": {},
     "output_type": "display_data"
    }
   ],
   "source": [
    "from temp import ode_fun\n",
    "from scipy.integrate import odeint\n",
    "import numpy\n",
    "from matplotlib import pyplot as plt\n",
    "\n",
    "\n",
    "%matplotlib inline\n",
    "\n",
    "TVec = numpy.linspace(0,10,100)\n",
    "\n",
    "YBase = odeint(ode_fun, SciPyModel.Species.Value, TVec, \n",
    "               args=(SciPyModel.Parameters.Kinetic.Value,))\n",
    "\n",
    "plt.close()\n",
    "plt.figure(figsize=(10,5))\n",
    "\n",
    "LineObjs = plt.plot(TVec,YBase)\n",
    "plt.grid()\n",
    "\n",
    "plt.title('Simulation with Original Parameterization')\n",
    "plt.xlabel('Time')\n",
    "plt.ylabel('Concentrations')\n",
    "\n",
    "plt.legend(LineObjs, SciPyModel.Species.Names)\n",
    "\n",
    "plt.show()"
   ]
  },
  {
   "cell_type": "markdown",
   "metadata": {
    "ExecuteTime": {
     "end_time": "2018-04-16T21:01:29.608421Z",
     "start_time": "2018-04-16T21:01:29.596347Z"
    }
   },
   "source": [
    "Now we can exploit the nullspace to preserve the steady state condition."
   ]
  },
  {
   "cell_type": "code",
   "execution_count": 108,
   "metadata": {
    "ExecuteTime": {
     "end_time": "2018-04-17T18:03:15.796709Z",
     "start_time": "2018-04-17T18:03:15.066434Z"
    },
    "scrolled": true
   },
   "outputs": [
    {
     "data": {
      "image/png": "[encoded data removed]",
      "text/plain": [
       "<matplotlib.figure.Figure at 0x7f82b0045410>"
      ]
     },
     "metadata": {},
     "output_type": "display_data"
    }
   ],
   "source": [
    "import numpy\n",
    "\n",
    "fixedsample = [0,0,0,0,0,1,0,0,0]\n",
    "\n",
    "Sample = NullSpaceFunction( (fixedsample),(SciPyModel.Species.Value) )\n",
    "\n",
    "YAlt = odeint(ode_fun, SciPyModel.Species.Value, TVec, args=(Sample,))\n",
    "\n",
    "plt.close()\n",
    "plt.figure(figsize=(10,5))\n",
    "\n",
    "MoreObjs = plt.plot(TVec,YAlt)\n",
    "plt.grid()\n",
    "\n",
    "plt.title('Comparison Between Parameterizations')\n",
    "plt.xlabel('Time')\n",
    "plt.ylabel('Concentrations')\n",
    "\n",
    "plt.show()"
   ]
  },
  {
   "cell_type": "code",
   "execution_count": 109,
   "metadata": {
    "ExecuteTime": {
     "end_time": "2018-04-17T18:03:19.373673Z",
     "start_time": "2018-04-17T18:03:19.358893Z"
    }
   },
   "outputs": [
    {
     "name": "stdout",
     "output_type": "stream",
     "text": [
      "[0.0, -0.0, 0.0, 1.0, -1.0, 1, 0, 0, 0]\n"
     ]
    }
   ],
   "source": [
    "print Sample"
   ]
  },
  {
   "cell_type": "code",
   "execution_count": null,
   "metadata": {},
   "outputs": [],
   "source": []
  }
 ],
 "metadata": {
  "kernelspec": {
   "display_name": "Python 2",
   "language": "python",
   "name": "python2"
  },
  "language_info": {
   "codemirror_mode": {
    "name": "ipython",
    "version": 2
   },
   "file_extension": ".py",
   "mimetype": "text/x-python",
   "name": "python",
   "nbconvert_exporter": "python",
   "pygments_lexer": "ipython2",
   "version": "2.7.12"
  },
  "toc": {
   "nav_menu": {},
   "number_sections": false,
   "sideBar": true,
   "skip_h1_title": false,
   "toc_cell": true,
   "toc_position": {},
   "toc_section_display": "block",
   "toc_window_display": true
  },
  "varInspector": {
   "cols": {
    "lenName": 16,
    "lenType": 16,
    "lenVar": 40
   },
   "kernels_config": {
    "python": {
     "delete_cmd_postfix": "",
     "delete_cmd_prefix": "del ",
     "library": "var_list.py",
     "varRefreshCmd": "print(var_dic_list())"
    },
    "r": {
     "delete_cmd_postfix": ") ",
     "delete_cmd_prefix": "rm(",
     "library": "var_list.r",
     "varRefreshCmd": "cat(var_dic_list()) "
    }
   },
   "types_to_exclude": [
    "module",
    "function",
    "builtin_function_or_method",
    "instance",
    "_Feature"
   ],
   "window_display": false
  }
 },
 "nbformat": 4,
 "nbformat_minor": 2
}
