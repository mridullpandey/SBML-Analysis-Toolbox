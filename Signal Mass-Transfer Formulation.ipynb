{
 "cells": [
  {
   "cell_type": "markdown",
   "metadata": {
    "toc": true
   },
   "source": [
    "<h1>Table of Contents<span class=\"tocSkip\"></span></h1>\n",
    "<div class=\"toc\" style=\"margin-top: 1em;\"><ul class=\"toc-item\"><li><ul class=\"toc-item\"><li><span><a href=\"#Notebook-Description\" data-toc-modified-id=\"Notebook-Description-0.1\">Notebook Description</a></span></li><li><span><a href=\"#System-Description\" data-toc-modified-id=\"System-Description-0.2\">System Description</a></span><ul class=\"toc-item\"><li><span><a href=\"#Diagram\" data-toc-modified-id=\"Diagram-0.2.1\">Diagram</a></span></li><li><span><a href=\"#Overview\" data-toc-modified-id=\"Overview-0.2.2\">Overview</a></span></li></ul></li><li><span><a href=\"#The-Mathematical-Model\" data-toc-modified-id=\"The-Mathematical-Model-0.3\">The Mathematical Model</a></span><ul class=\"toc-item\"><li><span><a href=\"#Differential-Equations\" data-toc-modified-id=\"Differential-Equations-0.3.1\">Differential Equations</a></span></li><li><span><a href=\"#Variable-Description\" data-toc-modified-id=\"Variable-Description-0.3.2\">Variable Description</a></span></li></ul></li><li><span><a href=\"#System-Analysis\" data-toc-modified-id=\"System-Analysis-0.4\">System Analysis</a></span><ul class=\"toc-item\"><li><span><a href=\"#The-Nullspace-Matrix\" data-toc-modified-id=\"The-Nullspace-Matrix-0.4.1\">The Nullspace Matrix</a></span></li><li><span><a href=\"#The-Steady-State-Condition\" data-toc-modified-id=\"The-Steady-State-Condition-0.4.2\">The Steady-State Condition</a></span></li><li><span><a href=\"#The-Sample-Space\" data-toc-modified-id=\"The-Sample-Space-0.4.3\">The Sample Space</a></span><ul class=\"toc-item\"><li><span><a href=\"#Direct-Sampling\" data-toc-modified-id=\"Direct-Sampling-0.4.3.1\">Direct Sampling</a></span></li><li><span><a href=\"#Nullspace-Informed-Sampling\" data-toc-modified-id=\"Nullspace-Informed-Sampling-0.4.3.2\">Nullspace-Informed Sampling</a></span></li><li><span><a href=\"#Sampling-Comparison\" data-toc-modified-id=\"Sampling-Comparison-0.4.3.3\">Sampling Comparison</a></span></li></ul></li><li><span><a href=\"#Simulation-Comparison\" data-toc-modified-id=\"Simulation-Comparison-0.4.4\">Simulation Comparison</a></span></li></ul></li></ul></li></ul></div>"
   ]
  },
  {
   "cell_type": "markdown",
   "metadata": {},
   "source": [
    "## Notebook Description\n",
    "\n",
    "This notebook provides a walk-through for the formulation of the differential equation describing intercellular signal mass-transfer across the basal membrane. \n",
    "\n",
    "There are three sections: system description, differential equations, and system analysis. The system description section provides a visualization for the system of interest, an explicit statement of the system of ODEs, and a description of the parameters and state variables. The differential equation section covers"
   ]
  },
  {
   "cell_type": "markdown",
   "metadata": {},
   "source": [
    "## System Description\n",
    "\n",
    "Mass-transfer across a membrane can often be modeled using diffusion equations, specifically Fick's laws. In the case of large systems models, higher order representations often prove too costly to employ thus a linear approximation is used instead. In this notebook we are concerned with a system of diffusion across a membrane of variable permeability.\n",
    "\n",
    "In particular, we are interested in a system where dermal cellular processes produce a signal that has its intended target in the epidermis. Hence, the membrane under consideration is collagen-rich the basal membrane. When wounded, the permeability of the membrane increases dramatically allowing intercellular signals to facilitate interaction between the dermal and epidermal cellular machinery.\n",
    "\n",
    "### Diagram\n",
    "\n",
    "The specific system of interest can be represented by the diagram below. This diagram uses a traditional Source/Sink formalism in order to replicate an open system."
   ]
  },
  {
   "cell_type": "markdown",
   "metadata": {},
   "source": [
    "![Title](MassTransferKinetics_Diagram.png) "
   ]
  },
  {
   "cell_type": "markdown",
   "metadata": {},
   "source": [
    "### Overview\n",
    "\n",
    "Here we see that **Signal** is produced only in the dermis. Starting from its production from **Source**, we see that **Signal** can be either removed from the system or transfered to the epidermal compartment. The transfer into the epidermal compartment is modulated by the concentrations of **Collagen** and **Fibronectin**, which are assumed to be constant for the purposes of this analysis. Finally once in the epidermis, **Signal** can either be removed from the system or transfered back across the membrane into the dermis.\n",
    "\n",
    "The forward and reverse mass-transport equations when summed determine the direction and rate of **Signal** mass-transport across the membrane. **Collagen** acts an an inhibitory factor to mass-transport while **Fibronectin** acts as a promoter.\n",
    "\n",
    "The quantities **Source** and **Sink**, $\\Phi$ in the system, are considered boundary conditions and hence are not subject to the system dynamics."
   ]
  },
  {
   "cell_type": "markdown",
   "metadata": {},
   "source": [
    "## The Mathematical Model\n",
    "\n",
    "This system can be modeled most straight-forwardly as a system of differential equations. The differential equations will contain 4 state variables, or species, since **Source** and **Sink** are considered boundary conditions. We will assume uniform populations and a well-mixed system."
   ]
  },
  {
   "cell_type": "markdown",
   "metadata": {},
   "source": [
    "### Differential Equations\n",
    "\n",
    "The equations can be written as follows. For **Signal** in the dermis we have:\n",
    "\n",
    "\\begin{equation} \\frac{d}{dt}[S_D] ~=~ ~+~ \\underbrace{k_1}_{production} ~-~ \\underbrace{k_2 [S_D]}_{clearance} ~-~ \\underbrace{k_3 [S_D] \\frac{E_1}{[C]+E_1} \\frac{[F]}{[F]+E_2}}_{mass-transport D\\rightarrow E} ~+~ \\underbrace{k_4 [S_E] \\frac{E_1}{[C]+E_1} \\frac{[F]}{[F]+E_2}}_{mass-transport E\\rightarrow D} \\end{equation}\n",
    "\n",
    "For **Signal** in the epidermis we have:\n",
    "\n",
    "\\begin{equation}\n",
    "\\frac{d}{dt}[S_E] ~=~ ~+~ \\underbrace{k_3 [S_D] \\frac{E_1}{[C]+E_1} \\frac{[F]}{[F]+E_2}}_{mass-transport D\\rightarrow E} ~-~ \\underbrace{k_4 [S_E] \\frac{E_1}{[C]+E_1} \\frac{[F]}{[F]+E_2}}_{mass-transport E\\rightarrow D} ~-~ \\underbrace{k_5 [S_E]}_{clearance}\n",
    "\\end{equation}\n",
    "\n",
    "Hence compiling these equations into a single derivative matrix of the form $\\frac{d\\hat{X}}{dt} = f(\\hat{X},\\hat{K},\\hat{E})$ gives the following matrix.\n",
    "\n",
    "\\begin{equation}\n",
    "\\frac{d}{dt}[X] ~=~ \\begin{bmatrix}  \n",
    "k_1 & -k_2 [S_D] & -k_3 [S_D] \\frac{E_1}{[C]+E_1} \\frac{[F]}{[F]+E_2} & k_4 [S_E] \\frac{E_1}{[C]+E_1} \\frac{[F]}{[F]+E_2} & 0 \\\\\n",
    "0 & 0 & k_3 [S_D] \\frac{E_1}{[C]+E_1} \\frac{[F]}{[F]+E_2} & -k_4 [S_E] \\frac{E_1}{[C]+E_1} \\frac{[F]}{[F]+E_2} & -k_5[S_E]\n",
    "\\end{bmatrix}\n",
    "\\end{equation}"
   ]
  },
  {
   "cell_type": "markdown",
   "metadata": {},
   "source": [
    "### Variable Description\n",
    "\n",
    "For clarity, the variables used in the model are described in the table below.\n",
    "\n",
    "| Variable | Description                                                    |\n",
    "| -------- |:-------------------------------------------------------------- |\n",
    "| $[S_D]$  | Signal in dermis                                               |\n",
    "| $[S_E]$  | Signal in epidermis                                            |\n",
    "| $[C]$    | Collagen in dermal membrane                                    |\n",
    "| $[F]$    | Fibronectin in dermal membrane                                 |\n",
    "| $k_1$    | Rate of Signal production                                      |\n",
    "| $k_2$    | Rate constant of Signal clearance in dermis                    |\n",
    "| $k_3$    | Rate constant of Signal mass-transfer from dermis to epidermis |\n",
    "| $k_4$    | Rate constant of Signal mass-transfer from epidermis to dermis |\n",
    "| $k_5$    | Rate constant of Signal clearance in epidermis                 |\n",
    "| $E_1$    | Half-maximal Cc of Collagen inhibiting mass-transport          |\n",
    "| $E_2$    | Half-maximal Cc of Fibronectin promoting mass-transport        |"
   ]
  },
  {
   "cell_type": "markdown",
   "metadata": {},
   "source": [
    "## System Analysis\n",
    "\n",
    "Our goal is to understand and characterize the steady-state dynamics of this system of differential equations. As a first attempt we can attempt to find the nullspace for the kinetic rate constants in the model. Then using the nullspace, we can determine appropriate linear combinations of the rate constants based on the desired steady-state condition composed of state-variables and Michaelis constants."
   ]
  },
  {
   "cell_type": "markdown",
   "metadata": {},
   "source": [
    "### The Nullspace Matrix\n",
    "\n",
    "In order to solve for the nullspace, we must first rewrite the differential equations in the form $\\frac{d[\\hat{X}]}{dt} = f(\\hat{X},\\hat{E})\\dot\\hat{K}$. For our system this can be seen as the following matrix.\n",
    "\n",
    "\\begin{equation*}\n",
    "\\frac{d}{dt}[X] ~=~ \\begin{bmatrix}  \n",
    "1 & -[S_D] & -[S_D] \\frac{E_1}{[C]+E_1} \\frac{[F]}{[F]+E_2} & [S_E] \\frac{E_1}{[C]+E_1} \\frac{[F]}{[F]+E_2} & 0 \\\\\n",
    "0 & 0 & [S_D] \\frac{E_1}{[C]+E_1} \\frac{[F]}{[F]+E_2} & -[S_E] \\frac{E_1}{[C]+E_1} \\frac{[F]}{[F]+E_2} & -[S_E]\n",
    "\\end{bmatrix}\n",
    "\\begin{bmatrix} k_1 \\\\ k_2 \\\\ k_3 \\\\ k_4 \\\\ k_5 \\end{bmatrix}\n",
    "\\end{equation*}\n",
    "\n",
    "Then the nullspace can be found by solving the homogeneous system $Ax = 0$. In this case, solving $Ax=0$ is the equivalent to solving the derivative matrix at steady-state since it requires that $\\frac{d[X]}{dt} = 0$. By hand we can first row-reduce the matrix to make the solutions more apparent.\n",
    "\n",
    "\\begin{equation*} \n",
    "\\begin{bmatrix}\n",
    "1 & -[S_D] & 0 & 0 & -[S_E] \\\\\n",
    "0 & 0 & 1 & -\\frac{[S_E]}{[S_D]} & -\\frac{[S_E]([F]+E_1)([F]+E_2)}{[S_D][F]E_1}\n",
    "\\end{bmatrix}\n",
    "\\end{equation*} \n",
    "\n",
    "\n",
    "Solving the homogeneous system gives us the following equation for the basis of the nullspace.\n",
    "\n",
    "\\begin{equation*}\n",
    "\\nu ~=~\n",
    "\\alpha \\begin{bmatrix} [S_D] \\\\ 1 \\\\ 0 \\\\ 0 \\\\ 0 \\end{bmatrix}\n",
    "~+~ \\beta \\begin{bmatrix} 0 \\\\ 0 \\\\ \\frac{[S_E]}{[S_D]} \\\\ 1 \\\\ 0 \\end{bmatrix}\n",
    "~+~ \\gamma \\begin{bmatrix} [S_E] \\\\ 0 \\\\ \\frac{[S_E]([F]+E_1)([F]+E_2)}{[S_D][F]E_1} \\\\ 0 \\\\ 1 \\end{bmatrix}\n",
    "\\quad \\text{where } \\alpha,\\beta,\\gamma \\in \\mathbb{R}\n",
    "\\end{equation*}\n",
    "\n",
    "Hence we see the nullspace is in $\\mathbb{R}^3$. Thus we have a new linear equation to consider given by the nullspace.\n",
    "\n",
    "\\begin{equation*}\n",
    "\\begin{bmatrix}\n",
    "k_1 \\\\ k_2 \\\\ k_3 \\\\ k_4 \\\\ k_5\n",
    "\\end{bmatrix}\n",
    "~=~\n",
    "\\begin{bmatrix}\n",
    "[S_D] & 0 & [S_E] \\\\\n",
    "1 & 0 & 0 \\\\\n",
    "0 & \\frac{[S_E]}{[S_D]} & \\frac{[S_E]([F]+E_1)([F]+E_2)}{[S_D][F]E_1} \\\\\n",
    "0 & 1 & 0 \\\\\n",
    "0 & 0 & 1\n",
    "\\end{bmatrix}\n",
    "\\begin{bmatrix}\n",
    "\\alpha \\\\ \\beta \\\\ \\gamma\n",
    "\\end{bmatrix}\n",
    "\\end{equation*}\n",
    "\n",
    "One important consideration to highlight is that the nullspace was found by solving $Ax = 0$, which does not restrict the directionality of each differential equation. Thus each $k_i \\in \\mathbb{R}$ rather than the desired $\\mathbb{R}_+$. As a result, when sampling from $\\{(\\alpha,\\beta,\\gamma) : (\\alpha,\\beta,\\gamma) \\in \\mathbb{R}^3\\}$, combinations which result in nonpositive rate constants must be rejected. This shortfall can be mitigated by instead solving the system of homogeneous linear inequalities given by $N\\cdot G = K \\geq 0$ which will typically produce a convex polyhedral cone and thus can be sampled from directly. However this approach is much more difficult and has less support from standard implementations."
   ]
  },
  {
   "cell_type": "markdown",
   "metadata": {},
   "source": [
    "### The Steady-State Condition\n",
    "\n",
    "For the purposes of this analysis we will assume the normalized steady-state condition, i.e. $[X_i] = 1$ for $i \\in 1,2,3,4$. The values of both $E_1$ and $E_2$ will be left as variables initially since they will be varied during sensitivity analysis. Hence applying the steady-state condition the *nullspace equation* becomes the following.\n",
    "\n",
    "\\begin{equation*}\n",
    "\\begin{bmatrix}\n",
    "k_1 \\\\ k_2 \\\\ k_3 \\\\ k_4 \\\\ k_5\n",
    "\\end{bmatrix}\n",
    "~=~\n",
    "\\begin{bmatrix}\n",
    "1 & 0 & 1 \\\\\n",
    "1 & 0 & 0 \\\\\n",
    "0 & 1 & \\frac{(1+E_1)(1+E_2)}{E_1} \\\\\n",
    "0 & 1 & 0 \\\\\n",
    "0 & 0 & 1\n",
    "\\end{bmatrix}\n",
    "\\begin{bmatrix}\n",
    "\\alpha \\\\ \\beta \\\\ \\gamma\n",
    "\\end{bmatrix}\n",
    "\\end{equation*}"
   ]
  },
  {
   "cell_type": "markdown",
   "metadata": {},
   "source": [
    "### The Sample Space\n",
    "\n",
    "Before continuing to simulation, it is useful to visualize the sample space of the model. For this analysis we will be drawing samples through two routes: direct sampling and nullspace-informed sampling of $\\mathbb{R}^7_+$. The direct sampling will most likely contain parameter sets that do not lay on our desired steady-state condition while the nullspace-informed samples may contain negative rate constants. \n",
    "\n",
    "We are looking to compare the ability of the sample to represent the whole of the valid space. We will be employing a Latin hypercube sampling technique where each parameter is positive with a maximum value of 2. For direct sampling the approach is a straight-forward implementation. For nullspace-informed sampling \n",
    "\n",
    "#### Direct Sampling\n",
    "\n",
    "Latin hypercube sampling first divides the range of each random variable into $M$ equally probably intervals. Then $M$ samples are placed to satisfy that each sample is the only one in each axis-aligned hyperplane containing it. This is easiest when the space considered is euclidean as no tensors or linear transformations are required to ensure the sample conditions are met.\n",
    "\n",
    "A Python implementation for this process is given below."
   ]
  },
  {
   "cell_type": "code",
   "execution_count": 1,
   "metadata": {
    "ExecuteTime": {
     "end_time": "2018-04-23T00:08:21.625989Z",
     "start_time": "2018-04-23T00:08:21.453649Z"
    }
   },
   "outputs": [],
   "source": [
    "# Import required packages\n",
    "import numpy as np\n",
    "\n",
    "def lhsu( xmin, xmax, nsample ):\n",
    "    # Number of random variables\n",
    "    nvar = len( xmin ) \n",
    "    \n",
    "    # Uniform random sample array\n",
    "    ran  = np.random.uniform( 0, 1, [nsample, nvar] )\n",
    "    \n",
    "    # Initialization of sample array\n",
    "    s    = np.zeros( [nsample, nvar] )\n",
    "    \n",
    "    # For loop to divide sample space and ensure conditions are met\n",
    "    for x_idx in range( nvar ):\n",
    "        idx = np.random.permutation( nsample )\n",
    "        P   = ( np.transpose(idx) - ran[:,x_idx] )/nsample\n",
    "        s[:,x_idx] = xmin[x_idx] + P * ( xmax[x_idx] - xmin[x_idx] )\n",
    "\n",
    "    return s"
   ]
  },
  {
   "cell_type": "markdown",
   "metadata": {},
   "source": [
    "Then applying this approach to our sample space we can draw our direct sample."
   ]
  },
  {
   "cell_type": "code",
   "execution_count": 2,
   "metadata": {
    "ExecuteTime": {
     "end_time": "2018-04-23T00:08:21.651026Z",
     "start_time": "2018-04-23T00:08:21.632097Z"
    }
   },
   "outputs": [],
   "source": [
    "# Number of samples to draw\n",
    "NumSamples = 100\n",
    "\n",
    "# Sample space bounds\n",
    "PMin = [0, 0, 0, 0, 0, 0, 0]\n",
    "PMax = [2, 2, 2, 2, 2, 2, 2]\n",
    "\n",
    "# Direct Latin-Hypercube Sampling\n",
    "DirectSample = lhsu(PMin, PMax, NumSamples)"
   ]
  },
  {
   "cell_type": "markdown",
   "metadata": {},
   "source": [
    "#### Nullspace-Informed Sampling\n",
    "\n",
    "In order to sample using the nullspace matrix we must sample each $(\\alpha,\\beta,\\gamma) \\in \\mathbb{R}^3$ rather than each $k_i \\in \\mathbb{R}_+$ for $i \\in 1,...,5$. Hence our sample space has been reduced from $\\mathbb{R}^7$ to a one-to-one linear projection from $\\mathbb{R}^5$ to $\\mathbb{R}^7$. Note that this mapping is not a bijection since it does not span the whole of $\\mathbb{R}^7$.\n",
    "\n",
    "There is an extra step once we use the `lhsu` function. Since $\\hat{K} = f(\\hat{E},\\hat{G})$ we need to apply the whole sample to the nullspace matrix and recollect the resulting vector $\\hat{K}$ with the sampled vector $\\hat{E}$.\n",
    "\n",
    "We will be using different bounds since $(\\alpha,\\beta,\\gamma) \\in [0,2]^3$ is a meaningless constraint due to the effect of the linear mapping. Thus we will use the bounds $(\\alpha,\\beta,\\gamma) \\in [-5,5]$. The nullspace-informed sample can be obtained as follows."
   ]
  },
  {
   "cell_type": "code",
   "execution_count": 8,
   "metadata": {
    "ExecuteTime": {
     "end_time": "2018-04-23T00:09:57.387045Z",
     "start_time": "2018-04-23T00:09:51.546073Z"
    }
   },
   "outputs": [
    {
     "ename": "AttributeError",
     "evalue": "'NoneType' object has no attribute 'getFormula'",
     "output_type": "error",
     "traceback": [
      "\u001b[0;31m\u001b[0m",
      "\u001b[0;31mAttributeError\u001b[0mTraceback (most recent call last)",
      "\u001b[0;32m<ipython-input-8-0b789bd34bb3>\u001b[0m in \u001b[0;36m<module>\u001b[0;34m()\u001b[0m\n\u001b[1;32m      1\u001b[0m \u001b[0;32mfrom\u001b[0m \u001b[0mutils\u001b[0m \u001b[0;32mimport\u001b[0m \u001b[0mSBML2SciPy\u001b[0m\u001b[0;34m\u001b[0m\u001b[0m\n\u001b[1;32m      2\u001b[0m \u001b[0;34m\u001b[0m\u001b[0m\n\u001b[0;32m----> 3\u001b[0;31m \u001b[0mSciPyModel\u001b[0m \u001b[0;34m=\u001b[0m \u001b[0mSBML2SciPy\u001b[0m\u001b[0;34m.\u001b[0m\u001b[0mimportSBMLFile\u001b[0m\u001b[0;34m(\u001b[0m \u001b[0mSBML2SciPy\u001b[0m\u001b[0;34m.\u001b[0m\u001b[0mcreateSciPyModel\u001b[0m\u001b[0;34m(\u001b[0m\u001b[0;34m)\u001b[0m \u001b[0;34m)\u001b[0m\u001b[0;34m\u001b[0m\u001b[0m\n\u001b[0m",
      "\u001b[0;32m/home/kevin/Documents/SBML-Analysis-Toolbox/utils/SBML2SciPy.pyc\u001b[0m in \u001b[0;36mimportSBMLFile\u001b[0;34m(SciPyModel)\u001b[0m\n\u001b[1;32m    132\u001b[0m         \u001b[0mSciPyModel\u001b[0m\u001b[0;34m.\u001b[0m\u001b[0mReactions\u001b[0m\u001b[0;34m.\u001b[0m\u001b[0mNames\u001b[0m\u001b[0;34m.\u001b[0m\u001b[0mappend\u001b[0m\u001b[0;34m(\u001b[0m\u001b[0mcurrent_reaction\u001b[0m\u001b[0;34m.\u001b[0m\u001b[0mname\u001b[0m\u001b[0;34m)\u001b[0m\u001b[0;34m\u001b[0m\u001b[0m\n\u001b[1;32m    133\u001b[0m         SciPyModel.Reactions.Formulas.append(\n\u001b[0;32m--> 134\u001b[0;31m             current_reaction.getKineticLaw().getFormula())\n\u001b[0m\u001b[1;32m    135\u001b[0m \u001b[0;34m\u001b[0m\u001b[0m\n\u001b[1;32m    136\u001b[0m         \u001b[0;31m# Try-Except in order to see if Names or MetaID are used in the functions\u001b[0m\u001b[0;34m\u001b[0m\u001b[0;34m\u001b[0m\u001b[0m\n",
      "\u001b[0;31mAttributeError\u001b[0m: 'NoneType' object has no attribute 'getFormula'"
     ]
    }
   ],
   "source": [
    "from utils import SBML2SciPy\n",
    "\n",
    "SciPyModel = SBML2SciPy.importSBMLFile( SBML2SciPy.createSciPyModel() )"
   ]
  },
  {
   "cell_type": "code",
   "execution_count": 3,
   "metadata": {
    "ExecuteTime": {
     "end_time": "2018-04-23T00:08:21.717854Z",
     "start_time": "2018-04-23T00:08:21.660457Z"
    }
   },
   "outputs": [],
   "source": [
    "# Sample space bounds\n",
    "GMin = [-5, -5, -5, 0, 0]\n",
    "GMax = [5, 5, 5, 2, 2]\n",
    "\n",
    "# First Latin-Hypercube Sample\n",
    "PreSample = lhsu(GMin, GMax, NumSamples)\n",
    "\n",
    "# Map R^5 sample to R^7 via nullspace\n",
    "def NullSpaceFunction(E, G):\n",
    "    # Evaluate nullspace at given Michaelis consts\n",
    "    NullSpace = np.array([[1, 0, 1], [1, 0, 0],\n",
    "                           [1, 0, (1 + E[0]) * (1 + E[1]) / E[0]],\n",
    "                           [0, 1, 0], [0, 0, 1]])\n",
    "\n",
    "    # Evaluate K=N*G\n",
    "    return NullSpace.dot(G)\n",
    "\n",
    "# Initialize array to capture output\n",
    "KSample = np.empty((NumSamples, 5))\n",
    "# Apply nullspace to each presample vector\n",
    "for i in range(NumSamples):\n",
    "    KSample[i,:] = NullSpaceFunction(PreSample[i,-2:], PreSample[i,:-2]) \n",
    "# Collect result into vector for comparison\n",
    "NullSample = np.concatenate((KSample, PreSample[:,-2:]), axis=1)"
   ]
  },
  {
   "cell_type": "markdown",
   "metadata": {},
   "source": [
    "#### Sampling Comparison\n",
    "\n",
    "Now with both the samples drawn from direct sampling and null-space informed sampling, we can visualize the sample space by plotting each sample in a two-dimensional scatterplot projection. The desired sample domain ($[0,2]^7$) will be highlighted for clarity. The direct sample is shown in blue and the nullspace-informed sample is shown in orange."
   ]
  },
  {
   "cell_type": "code",
   "execution_count": 4,
   "metadata": {
    "ExecuteTime": {
     "end_time": "2018-04-23T00:08:35.489109Z",
     "start_time": "2018-04-23T00:08:21.737111Z"
    },
    "hide_input": true
   },
   "outputs": [
    {
     "name": "stderr",
     "output_type": "stream",
     "text": [
      "/usr/local/lib/python2.7/dist-packages/matplotlib/cbook/deprecation.py:106: MatplotlibDeprecationWarning: Adding an axes using the same arguments as a previous axes currently reuses the earlier instance.  In a future version, a new instance will always be created and returned.  Meanwhile, this warning can be suppressed, and the future behavior ensured, by passing a unique label to each axes instance.\n",
      "  warnings.warn(message, mplDeprecation, stacklevel=1)\n"
     ]
    },
    {
     "data": {
      "image/png": "[encoded data removed]",
      "text/plain": [
       "<matplotlib.figure.Figure at 0x7f65e4fe7cd0>"
      ]
     },
     "metadata": {},
     "output_type": "display_data"
    }
   ],
   "source": [
    "from matplotlib import pyplot as plt\n",
    "from matplotlib import patches as patches\n",
    "%matplotlib inline\n",
    "\n",
    "plt.close()\n",
    "\n",
    "plt.figure(figsize=(15,15))\n",
    "\n",
    "for i in range(len(PMax)):\n",
    "    for j in range(len(PMax)):\n",
    "        if j == 0 and i == 0:\n",
    "            plt.subplot(7,7,i*7+j+1)\n",
    "            ax = plt.gca()\n",
    "            ax.add_patch(patches.Rectangle((0, 0),2,2,hatch='\\\\',fill=False))\n",
    "            plt.scatter(DirectSample[i,:],DirectSample[j,:])\n",
    "            plt.scatter(NullSample[i,:],NullSample[j,:])\n",
    "            plt.ylim((-0.1,2.1)); plt.xlim((-0.1,2.1))\n",
    "            plt.grid()\n",
    "            plt.tick_params( axis='x', which='both', bottom='off', top='on', labelbottom = 'off', labeltop = 'on')\n",
    "        elif (j == 0 and i != 0) and (j==0 and i != 6):\n",
    "            plt.subplot(7,7,i*7+j+1)\n",
    "            ax = plt.gca()\n",
    "            ax.add_patch(patches.Rectangle((0, 0),2,2,hatch='\\\\',fill=False))\n",
    "            plt.scatter(DirectSample[i,:],DirectSample[j,:])\n",
    "            plt.scatter(NullSample[i,:],NullSample[j,:])\n",
    "            plt.ylim((-0.1,2.1)); plt.xlim((-0.1,2.1))\n",
    "            plt.grid()\n",
    "            plt.tick_params( axis='x', which='both', bottom='off', top='off', labelbottom = 'off')\n",
    "        elif (i == 0 and j != 0) and (i==0 and j != 6):\n",
    "            plt.subplot(7,7,i*7+j+1)\n",
    "            ax = plt.gca()\n",
    "            ax.add_patch(patches.Rectangle((0, 0),2,2,hatch='\\\\',fill=False))\n",
    "            plt.scatter(DirectSample[i,:],DirectSample[j,:])\n",
    "            plt.scatter(NullSample[i,:],NullSample[j,:])\n",
    "            plt.ylim((-0.1,2.1)); plt.xlim((-0.1,2.1))\n",
    "            plt.grid()\n",
    "            plt.tick_params( axis='x', which='both', bottom='off', top='on', labelbottom = 'off', labeltop = 'on')\n",
    "            plt.tick_params( axis='y', which='both', left='off', labelleft = 'off')\n",
    "        elif i == 6 and j == 0:\n",
    "            plt.subplot(7,7,i*7+j+1)\n",
    "            ax = plt.gca()\n",
    "            ax.add_patch(patches.Rectangle((0, 0),2,2,hatch='\\\\',fill=False))\n",
    "            plt.scatter(DirectSample[i,:],DirectSample[j,:])\n",
    "            plt.scatter(NullSample[i,:],NullSample[j,:])\n",
    "            plt.ylim((-0.1,2.1)); plt.xlim((-0.1,2.1))\n",
    "            plt.grid()\n",
    "            plt.tick_params( axis='x', which='both', bottom='on', top='off', labelbottom = 'on', labeltop = 'off')\n",
    "            plt.tick_params( axis='y', which='both', left='on', right='off', labelleft = 'on', labelright = 'off')\n",
    "        elif i == 0 and j == 6:\n",
    "            plt.subplot(7,7,i*7+j+1)\n",
    "            ax = plt.gca()\n",
    "            ax.add_patch(patches.Rectangle((0, 0),2,2,hatch='\\\\',fill=False))\n",
    "            plt.scatter(DirectSample[i,:],DirectSample[j,:])\n",
    "            plt.scatter(NullSample[i,:],NullSample[j,:])\n",
    "            plt.ylim((-0.1,2.1)); plt.xlim((-0.1,2.1))\n",
    "            plt.grid()\n",
    "            plt.tick_params( axis='x', which='both', bottom='off', top='on', labelbottom = 'off', labeltop = 'on')\n",
    "            plt.tick_params( axis='y', which='both', left='off', right='on', labelleft = 'off', labelright = 'on')\n",
    "        elif (i != 0 and j == 6) and (i!=6 and j==6):\n",
    "            plt.subplot(7,7,i*7+j+1)\n",
    "            ax = plt.gca()\n",
    "            ax.add_patch(patches.Rectangle((0, 0),2,2,hatch='\\\\',fill=False))\n",
    "            plt.scatter(DirectSample[i,:],DirectSample[j,:])\n",
    "            plt.scatter(NullSample[i,:],NullSample[j,:])\n",
    "            plt.ylim((-0.1,2.1)); plt.xlim((-0.1,2.1))\n",
    "            plt.grid()\n",
    "            plt.tick_params( axis='x', which='both', bottom='off', top='off', labelbottom = 'off', labeltop = 'off')\n",
    "            plt.tick_params( axis='y', which='both', left='off', right='on', labelleft = 'off', labelright = 'on')\n",
    "        elif i == 6 and j == 6:\n",
    "            plt.subplot(7,7,i*7+j+1)\n",
    "            ax = plt.gca()\n",
    "            ax.add_patch(patches.Rectangle((0, 0),2,2,hatch='\\\\',fill=False))\n",
    "            plt.scatter(DirectSample[i,:],DirectSample[j,:])\n",
    "            plt.scatter(NullSample[i,:],NullSample[j,:])\n",
    "            plt.ylim((-0.1,2.1)); plt.xlim((-0.1,2.1))\n",
    "            plt.grid()\n",
    "            plt.tick_params( axis='x', which='both', bottom='on', top='off', labelbottom = 'on', labeltop = 'off')\n",
    "            plt.tick_params( axis='y', which='both', left='off', right='on', labelleft = 'off', labelright = 'on')\n",
    "        elif (i == 6 and j!=0) and (i==6 and j!=6):\n",
    "            plt.subplot(7,7,i*7+j+1)\n",
    "            ax = plt.gca()\n",
    "            ax.add_patch(patches.Rectangle((0, 0),2,2,hatch='\\\\',fill=False))\n",
    "            plt.scatter(DirectSample[i,:],DirectSample[j,:])\n",
    "            plt.scatter(NullSample[i,:],NullSample[j,:])\n",
    "            plt.ylim((-0.1,2.1)); plt.xlim((-0.1,2.1))\n",
    "            plt.grid()\n",
    "            plt.tick_params( axis='x', which='both', bottom='on', top='off', labelbottom = 'on', labeltop = 'off')\n",
    "            plt.tick_params( axis='y', which='both', left='off', right='off', labelleft = 'off', labelright = 'off')\n",
    "        else:\n",
    "            plt.subplot(7,7,i*7+j+1)\n",
    "            ax = plt.gca()\n",
    "            ax.add_patch(patches.Rectangle((0, 0),2,2,hatch='\\\\',fill=False))\n",
    "            plt.scatter(DirectSample[i,:],DirectSample[j,:])\n",
    "            plt.scatter(NullSample[i,:],NullSample[j,:])\n",
    "            plt.ylim((-0.1,2.1)); plt.xlim((-0.1,2.1))\n",
    "            plt.grid()\n",
    "            plt.tick_params( axis='x', which='both', bottom='off', top='off', labelbottom = 'off', labeltop = 'off')\n",
    "            plt.tick_params( axis='y', which='both', left='off', right='off', labelleft = 'off', labelright = 'off')\n",
    "\n",
    "Labels = ['k_1', 'k_2', 'k_3', 'k_4', 'k_5', 'E_1', 'E_2']\n",
    "for i in range(len(PMax)):\n",
    "    for j in range(len(PMax)):\n",
    "        if i == j:\n",
    "            plt.subplot(7,7,i*7+j+1)\n",
    "            plt.ylabel(Labels[j])\n",
    "            ax = plt.gca()\n",
    "            plt.xlabel(Labels[i])\n",
    "            ax.xaxis.set_label_position('top')            \n",
    "            plt.tick_params( axis='x', which='both', bottom='off', top='off', labelbottom = 'off', labeltop = 'off')\n",
    "            plt.tick_params( axis='y', which='both', left='off', right='off', labelleft = 'off', labelright = 'off')\n",
    "\n",
    "plt.show()"
   ]
  },
  {
   "cell_type": "markdown",
   "metadata": {
    "hide_input": false
   },
   "source": [
    "Hence clearly from visual inspection we can already see that the nullspace-informed sampling approach results in fewer valid samples without the use of any linear programming. In particular the exact number of valid samples can be seen below."
   ]
  },
  {
   "cell_type": "code",
   "execution_count": 5,
   "metadata": {
    "ExecuteTime": {
     "end_time": "2018-04-23T00:08:35.537688Z",
     "start_time": "2018-04-23T00:08:35.497838Z"
    },
    "hide_input": false
   },
   "outputs": [
    {
     "name": "stdout",
     "output_type": "stream",
     "text": [
      "The number of valid direct samples is 93\n",
      "The number of valid nullspace-informed samples is 1\n"
     ]
    }
   ],
   "source": [
    "print 'The number of valid direct samples is %s' % int(NumSamples - sum([\n",
    "    any(DirectSample[i, :] < 0) or any(DirectSample[i, :] > 2)\n",
    "    for i in range(NumSamples)\n",
    "]))\n",
    "print 'The number of valid nullspace-informed samples is %s' % int(\n",
    "    NumSamples - sum([\n",
    "        any(NullSample[i, :] < 0) or any(NullSample[i, :] > 2)\n",
    "        for i in range(NumSamples)\n",
    "    ]))"
   ]
  },
  {
   "cell_type": "markdown",
   "metadata": {
    "ExecuteTime": {
     "end_time": "2018-04-19T22:59:22.495172Z",
     "start_time": "2018-04-19T22:59:22.474092Z"
    }
   },
   "source": [
    "Thus to employ the nullspace-informed sampling approach, we must increase the number of samples drawn. While this at first appears to be more computationally expensive than the direct approach, we will see the benefit once we begin to simulate the model. To continue with this comparison, we will draw nullspace-informed samples until we obtain one which falls within our desired sampling domain."
   ]
  },
  {
   "cell_type": "code",
   "execution_count": 6,
   "metadata": {
    "ExecuteTime": {
     "end_time": "2018-04-23T00:08:35.853614Z",
     "start_time": "2018-04-23T00:08:35.552749Z"
    }
   },
   "outputs": [
    {
     "ename": "NameError",
     "evalue": "name 'DiffEqn' is not defined",
     "output_type": "error",
     "traceback": [
      "\u001b[0;31m\u001b[0m",
      "\u001b[0;31mNameError\u001b[0mTraceback (most recent call last)",
      "\u001b[0;32m<ipython-input-6-c99714c7d579>\u001b[0m in \u001b[0;36m<module>\u001b[0;34m()\u001b[0m\n\u001b[1;32m      7\u001b[0m \u001b[0;34m\u001b[0m\u001b[0m\n\u001b[1;32m      8\u001b[0m     \u001b[0;32mif\u001b[0m \u001b[0;32mnot\u001b[0m \u001b[0;34m(\u001b[0m\u001b[0;34m(\u001b[0m\u001b[0mKSample\u001b[0m \u001b[0;34m<\u001b[0m \u001b[0;36m0\u001b[0m\u001b[0;34m)\u001b[0m\u001b[0;34m.\u001b[0m\u001b[0many\u001b[0m\u001b[0;34m(\u001b[0m\u001b[0;34m)\u001b[0m \u001b[0;32mor\u001b[0m \u001b[0;34m(\u001b[0m\u001b[0mKSample\u001b[0m \u001b[0;34m>\u001b[0m \u001b[0;36m2\u001b[0m\u001b[0;34m)\u001b[0m\u001b[0;34m.\u001b[0m\u001b[0many\u001b[0m\u001b[0;34m(\u001b[0m\u001b[0;34m)\u001b[0m\u001b[0;34m)\u001b[0m\u001b[0;34m:\u001b[0m\u001b[0;34m\u001b[0m\u001b[0m\n\u001b[0;32m----> 9\u001b[0;31m         \u001b[0;32mif\u001b[0m \u001b[0;32mnot\u001b[0m \u001b[0;34m(\u001b[0m\u001b[0mDiffEqn\u001b[0m\u001b[0;34m(\u001b[0m\u001b[0;34m[\u001b[0m\u001b[0;36m1.\u001b[0m\u001b[0;34m,\u001b[0m\u001b[0;36m1.\u001b[0m\u001b[0;34m,\u001b[0m\u001b[0;36m1.\u001b[0m\u001b[0;34m,\u001b[0m\u001b[0;36m1.\u001b[0m\u001b[0;34m]\u001b[0m\u001b[0;34m,\u001b[0m\u001b[0;36m0\u001b[0m\u001b[0;34m,\u001b[0m\u001b[0mKSample\u001b[0m\u001b[0;34m,\u001b[0m\u001b[0mESample\u001b[0m\u001b[0;34m)\u001b[0m \u001b[0;34m!=\u001b[0m \u001b[0;36m0\u001b[0m\u001b[0;34m)\u001b[0m\u001b[0;34m.\u001b[0m\u001b[0many\u001b[0m\u001b[0;34m(\u001b[0m\u001b[0;34m)\u001b[0m\u001b[0;34m:\u001b[0m\u001b[0;34m\u001b[0m\u001b[0m\n\u001b[0m\u001b[1;32m     10\u001b[0m             \u001b[0;32mprint\u001b[0m \u001b[0mDiffEqn\u001b[0m\u001b[0;34m(\u001b[0m\u001b[0;34m[\u001b[0m\u001b[0;36m1.\u001b[0m\u001b[0;34m,\u001b[0m\u001b[0;36m1.\u001b[0m\u001b[0;34m,\u001b[0m\u001b[0;36m1.\u001b[0m\u001b[0;34m,\u001b[0m\u001b[0;36m1.\u001b[0m\u001b[0;34m]\u001b[0m\u001b[0;34m,\u001b[0m\u001b[0;36m0\u001b[0m\u001b[0;34m,\u001b[0m\u001b[0mKSample\u001b[0m\u001b[0;34m,\u001b[0m\u001b[0mESample\u001b[0m\u001b[0;34m)\u001b[0m\u001b[0;34m\u001b[0m\u001b[0m\n\u001b[1;32m     11\u001b[0m             \u001b[0;32mbreak\u001b[0m\u001b[0;34m\u001b[0m\u001b[0m\n",
      "\u001b[0;31mNameError\u001b[0m: name 'DiffEqn' is not defined"
     ]
    }
   ],
   "source": [
    "counter = 0\n",
    "KSample = np.array([np.inf, np.inf, np.inf, np.inf, np.inf])\n",
    "while counter < 10000:\n",
    "    RanSample = np.random.rand(5)\n",
    "    ESample = RanSample[3:]\n",
    "    KSample = NullSpaceFunction(ESample,RanSample[:3])\n",
    "    \n",
    "    if not ((KSample < 0).any() or (KSample > 2).any()):\n",
    "        if not (DiffEqn([1.,1.,1.,1.],0,KSample,ESample) != 0).any():\n",
    "            print DiffEqn([1.,1.,1.,1.],0,KSample,ESample)\n",
    "            break\n",
    "        \n",
    "    counter += 1\n",
    "    \n",
    "print 'It took %s iterations to find one satisfactory condtion.' % int(counter+1)"
   ]
  },
  {
   "cell_type": "markdown",
   "metadata": {},
   "source": [
    "### Simulation Comparison\n",
    "\n",
    "With our nullspace-informed sample we can now draw a direct comparison to the direct samples. The plot below is initialized at the steady-state condition where all state variables are normalized to one. Any motion observed is the model settling towards the steady-state condition given by the nullspace of an alternative steady-state condition."
   ]
  },
  {
   "cell_type": "code",
   "execution_count": null,
   "metadata": {
    "ExecuteTime": {
     "end_time": "2018-04-23T00:08:35.867525Z",
     "start_time": "2018-04-23T00:08:21.561Z"
    }
   },
   "outputs": [],
   "source": [
    "def DiffEqn(x,t,k,e):\n",
    "    rxns = np.empty((5,1))\n",
    "\n",
    "    rxns[0] = k[0]\n",
    "    rxns[1] = k[1]*x[0]\n",
    "    rxns[2] = k[2]*x[0]*(e[0]/(x[2]+e[0]))*(x[3]/(x[3]+e[1]))\n",
    "    rxns[3] = k[3]*x[1]*(e[0]/(x[2]+e[0]))*(x[3]/(x[3]+e[1]))\n",
    "    rxns[4] = k[4]*x[1]\n",
    "\n",
    "    S = np.array([[1,-1,-1, 1, 0],\n",
    "                  [0, 0, 1,-1,-1],\n",
    "                  [0, 0, 0, 0, 0],\n",
    "                  [0, 0, 0, 0, 0]])\n",
    "    \n",
    "    return S.dot(rxns).flatten()"
   ]
  },
  {
   "cell_type": "code",
   "execution_count": 62,
   "metadata": {
    "ExecuteTime": {
     "end_time": "2018-04-23T00:04:42.164882Z",
     "start_time": "2018-04-23T00:04:42.142719Z"
    },
    "deletable": false,
    "editable": false,
    "run_control": {
     "frozen": true
    }
   },
   "outputs": [],
   "source": [
    "from scipy.integrate import odeint\n",
    "\n",
    "x0 = np.array([1.,1.,1.,1.])\n",
    "tVec = np.linspace(0,10,100)\n",
    "\n",
    "GSample = [1.,1.,2.0]\n",
    "ESample = np.array([1.,1.])\n",
    "KSample = NullSpaceFunction(ESample,GSample)\n",
    "\n",
    "yOut = odeint(DiffEqn,x0,tVec,args=(CurSample[:5],CurSample[5:]))"
   ]
  },
  {
   "cell_type": "code",
   "execution_count": null,
   "metadata": {
    "ExecuteTime": {
     "end_time": "2018-04-23T00:03:53.708680Z",
     "start_time": "2018-04-23T00:03:38.029Z"
    },
    "deletable": false,
    "editable": false,
    "run_control": {
     "frozen": true
    }
   },
   "outputs": [],
   "source": [
    "from matplotlib import pyplot as plt\n",
    "%matplotlib inline\n",
    "plt.close()\n",
    "\n",
    "plt.figure(figsize=(10,5))\n",
    "\n",
    "plt.subplot(1,2,1)\n",
    "plt.plot(tVec, yOut[:,0])\n",
    "plt.grid()\n",
    "\n",
    "plt.subplot(1,2,2)\n",
    "plt.plot(tVec, yOut[:,1])\n",
    "plt.grid()\n",
    "\n",
    "plt.show()"
   ]
  },
  {
   "cell_type": "code",
   "execution_count": null,
   "metadata": {
    "ExecuteTime": {
     "end_time": "2018-04-23T00:08:35.878490Z",
     "start_time": "2018-04-23T00:08:21.590Z"
    }
   },
   "outputs": [],
   "source": [
    "yOut[:,0]"
   ]
  },
  {
   "cell_type": "code",
   "execution_count": null,
   "metadata": {},
   "outputs": [],
   "source": []
  }
 ],
 "metadata": {
  "kernelspec": {
   "display_name": "Python 2",
   "language": "python",
   "name": "python2"
  },
  "language_info": {
   "codemirror_mode": {
    "name": "ipython",
    "version": 2
   },
   "file_extension": ".py",
   "mimetype": "text/x-python",
   "name": "python",
   "nbconvert_exporter": "python",
   "pygments_lexer": "ipython2",
   "version": "2.7.12"
  },
  "toc": {
   "nav_menu": {},
   "number_sections": false,
   "sideBar": true,
   "skip_h1_title": false,
   "toc_cell": true,
   "toc_position": {},
   "toc_section_display": "block",
   "toc_window_display": true
  },
  "varInspector": {
   "cols": {
    "lenName": 16,
    "lenType": 16,
    "lenVar": 40
   },
   "kernels_config": {
    "python": {
     "delete_cmd_postfix": "",
     "delete_cmd_prefix": "del ",
     "library": "var_list.py",
     "varRefreshCmd": "print(var_dic_list())"
    },
    "r": {
     "delete_cmd_postfix": ") ",
     "delete_cmd_prefix": "rm(",
     "library": "var_list.r",
     "varRefreshCmd": "cat(var_dic_list()) "
    }
   },
   "types_to_exclude": [
    "module",
    "function",
    "builtin_function_or_method",
    "instance",
    "_Feature"
   ],
   "window_display": false
  }
 },
 "nbformat": 4,
 "nbformat_minor": 2
}
