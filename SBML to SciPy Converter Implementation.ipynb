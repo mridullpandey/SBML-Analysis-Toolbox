{
 "cells": [
  {
   "cell_type": "markdown",
   "metadata": {
    "toc": true
   },
   "source": [
    "<h1>Table of Contents<span class=\"tocSkip\"></span></h1>\n",
    "<div class=\"toc\" style=\"margin-top: 1em;\"><ul class=\"toc-item\"><li><ul class=\"toc-item\"><li><ul class=\"toc-item\"><li><span><a href=\"#Notebook-Description\" data-toc-modified-id=\"Notebook-Description-0.0.1\">Notebook Description</a></span></li><li><span><a href=\"#Importing-SBML-Model\" data-toc-modified-id=\"Importing-SBML-Model-0.0.2\">Importing SBML Model</a></span><ul class=\"toc-item\"><li><span><a href=\"#Construct-SciPyModel-Instance\" data-toc-modified-id=\"Construct-SciPyModel-Instance-0.0.2.1\">Construct SciPyModel Instance</a></span></li><li><span><a href=\"#User-File-Selection\" data-toc-modified-id=\"User-File-Selection-0.0.2.2\">User File Selection</a></span></li><li><span><a href=\"#Clean-SBML-File\" data-toc-modified-id=\"Clean-SBML-File-0.0.2.3\">Clean SBML File</a></span></li><li><span><a href=\"#Extract-MetaData\" data-toc-modified-id=\"Extract-MetaData-0.0.2.4\">Extract MetaData</a></span></li><li><span><a href=\"#Extract-Compartment-Data\" data-toc-modified-id=\"Extract-Compartment-Data-0.0.2.5\">Extract Compartment Data</a></span></li><li><span><a href=\"#Extract-Species-Data\" data-toc-modified-id=\"Extract-Species-Data-0.0.2.6\">Extract Species Data</a></span></li><li><span><a href=\"#Extract-Parameter-Data\" data-toc-modified-id=\"Extract-Parameter-Data-0.0.2.7\">Extract Parameter Data</a></span></li><li><span><a href=\"#Extract-Reaction-Data\" data-toc-modified-id=\"Extract-Reaction-Data-0.0.2.8\">Extract Reaction Data</a></span></li><li><span><a href=\"#Vectorize-Reaction-Declarations\" data-toc-modified-id=\"Vectorize-Reaction-Declarations-0.0.2.9\">Vectorize Reaction Declarations</a></span></li></ul></li><li><span><a href=\"#Constructing-Model-Function\" data-toc-modified-id=\"Constructing-Model-Function-0.0.3\">Constructing Model Function</a></span><ul class=\"toc-item\"><li><span><a href=\"#Create-Function-String\" data-toc-modified-id=\"Create-Function-String-0.0.3.1\">Create Function String</a></span></li><li><span><a href=\"#Write-Temporary-File\" data-toc-modified-id=\"Write-Temporary-File-0.0.3.2\">Write Temporary File</a></span></li></ul></li><li><span><a href=\"#Simulating-SciPyModel\" data-toc-modified-id=\"Simulating-SciPyModel-0.0.4\">Simulating SciPyModel</a></span><ul class=\"toc-item\"><li><span><a href=\"#Using-Internal-Declarations\" data-toc-modified-id=\"Using-Internal-Declarations-0.0.4.1\">Using Internal Declarations</a></span></li><li><span><a href=\"#Deterministically-Simulating-SciPyModel\" data-toc-modified-id=\"Deterministically-Simulating-SciPyModel-0.0.4.2\">Deterministically Simulating SciPyModel</a></span></li><li><span><a href=\"#Plotting-Simulation\" data-toc-modified-id=\"Plotting-Simulation-0.0.4.3\">Plotting Simulation</a></span></li><li><span><a href=\"#Final-Notes\" data-toc-modified-id=\"Final-Notes-0.0.4.4\">Final Notes</a></span></li></ul></li></ul></li></ul></li></ul></div>"
   ]
  },
  {
   "cell_type": "markdown",
   "metadata": {
    "deletable": false,
    "editable": false,
    "run_control": {
     "frozen": true
    }
   },
   "source": [
    "### Notebook Description\n",
    "\n",
    "This notebook walks through the way in which an SBML version model is converted into a custom class `SciPyModel`. The process includes reading/storing the model information, automatically writing a function for use with `odeint`, and simulating the internal model."
   ]
  },
  {
   "cell_type": "markdown",
   "metadata": {
    "deletable": false,
    "editable": false,
    "run_control": {
     "frozen": true
    }
   },
   "source": [
    "### Importing SBML Model\n",
    "\n",
    "#### Construct SciPyModel Instance\n",
    "Using the `libSBML` module, we are able to read the required information to construct the SciPyModel correctly."
   ]
  },
  {
   "cell_type": "code",
   "execution_count": 1,
   "metadata": {
    "ExecuteTime": {
     "end_time": "2018-04-17T16:00:29.625602Z",
     "start_time": "2018-04-17T16:00:29.122570Z"
    },
    "deletable": false,
    "editable": false,
    "run_control": {
     "frozen": true
    }
   },
   "outputs": [],
   "source": [
    "from utils import SBML2SciPy  # Used to create empty SciPyModel object\n",
    "import libsbml\n",
    "\n",
    "SciPyModel = SBML2SciPy.createSciPyModel()"
   ]
  },
  {
   "cell_type": "markdown",
   "metadata": {
    "deletable": false,
    "editable": false,
    "run_control": {
     "frozen": true
    }
   },
   "source": [
    "#### User File Selection\n",
    "\n",
    "The `Tkinter` module provides a quick way to open a file browser for user selection. A conditional statement is used to check if a model has already been opened in this session."
   ]
  },
  {
   "cell_type": "code",
   "execution_count": 2,
   "metadata": {
    "ExecuteTime": {
     "end_time": "2018-04-17T16:00:38.904867Z",
     "start_time": "2018-04-17T16:00:29.636519Z"
    },
    "deletable": false,
    "editable": false,
    "run_control": {
     "frozen": true
    }
   },
   "outputs": [],
   "source": [
    "import Tkinter, tkFileDialog\n",
    "\n",
    "if SciPyModel.MetaData.FilePath == None:\n",
    "    Tkinter.Tk().withdraw()\n",
    "    SciPyModel.MetaData.FilePath = tkFileDialog.askopenfilename()\n",
    "else:\n",
    "    pass"
   ]
  },
  {
   "cell_type": "markdown",
   "metadata": {
    "deletable": false,
    "editable": false,
    "run_control": {
     "frozen": true
    }
   },
   "source": [
    "#### Clean SBML File\n",
    "\n",
    "Now we can open the SBML document in the file and make edits to ensure uniformity of input."
   ]
  },
  {
   "cell_type": "code",
   "execution_count": 3,
   "metadata": {
    "ExecuteTime": {
     "end_time": "2018-04-17T16:00:39.035362Z",
     "start_time": "2018-04-17T16:00:38.915180Z"
    },
    "deletable": false,
    "editable": false,
    "run_control": {
     "frozen": true
    }
   },
   "outputs": [],
   "source": [
    "# Read in SBML model file into SBML Document variable\n",
    "SBMLDoc = libsbml.readSBMLFromFile(SciPyModel.MetaData.FilePath)\n",
    "\n",
    "# Check if any major errors in reading SBML model\n",
    "# e.g. Filepath does not exist\n",
    "if SBMLDoc.getNumErrors() > 0:\n",
    "    print('ERROR: File reading errors.')\n",
    "    print(SBMLDoc.getErrorLog().toString())\n",
    "\n",
    "# Make all parameters of the model global parameters.\n",
    "# Enables all parameters to be vectorized.\n",
    "Properties = libsbml.ConversionProperties()\n",
    "Properties.addOption('promoteLocalParameters', True)\n",
    "if SBMLDoc.convert(Properties) != libsbml.LIBSBML_OPERATION_SUCCESS:\n",
    "    print('ERROR: Unable to convert parameters to global.')\n",
    "    print(SBMLDoc.getErrorLog().toString())\n",
    "\n",
    "# Write out all reaction-specific function definitions.\n",
    "# Enables all variables in reactions to be swapped with vectorized\n",
    "# versions.\n",
    "Properties = libsbml.ConversionProperties()\n",
    "Properties.addOption('expandFunctionDefinitions', True)\n",
    "if SBMLDoc.convert(Properties) != libsbml.LIBSBML_OPERATION_SUCCESS:\n",
    "    print('ERROR: Unable to expand internal function usage.')\n",
    "    print(SBMLDoc.getErrorLog().toString())\n",
    "\n",
    "# Write out all state variable and parameter initializations.\n",
    "# Enables this data to be placed into required SciPyModel object\n",
    "# places.\n",
    "Properties = libsbml.ConversionProperties()\n",
    "Properties.addOption('expandInitialAssignments', True)\n",
    "if SBMLDoc.convert(Properties) != libsbml.LIBSBML_OPERATION_SUCCESS:\n",
    "    print('ERROR: Unable to expand initial assignments.')\n",
    "    print(SBMLDoc.getErrorLog().toString())\n",
    "\n",
    "# Extract SBML Model object from SBML Document object.\n",
    "SBMLModel = SBMLDoc.getModel()"
   ]
  },
  {
   "cell_type": "markdown",
   "metadata": {
    "deletable": false,
    "editable": false,
    "run_control": {
     "frozen": true
    }
   },
   "source": [
    "#### Extract MetaData"
   ]
  },
  {
   "cell_type": "code",
   "execution_count": 4,
   "metadata": {
    "ExecuteTime": {
     "end_time": "2018-04-17T16:00:39.056669Z",
     "start_time": "2018-04-17T16:00:39.043227Z"
    },
    "deletable": false,
    "editable": false,
    "run_control": {
     "frozen": true
    }
   },
   "outputs": [],
   "source": [
    "# -- Name, VolumeUnits, SubstanceUnits, TimeUnits\n",
    "SciPyModel.MetaData.Name = SBMLModel.getName()\n",
    "SciPyModel.MetaData.VolumeUnits = SBMLModel.getVolumeUnits()\n",
    "SciPyModel.MetaData.SubstanceUnits = SBMLModel.getSubstanceUnits()\n",
    "SciPyModel.MetaData.TimeUnits = SBMLModel.getTimeUnits()"
   ]
  },
  {
   "cell_type": "markdown",
   "metadata": {
    "deletable": false,
    "editable": false,
    "run_control": {
     "frozen": true
    }
   },
   "source": [
    "#### Extract Compartment Data"
   ]
  },
  {
   "cell_type": "code",
   "execution_count": 5,
   "metadata": {
    "ExecuteTime": {
     "end_time": "2018-04-17T16:00:39.109494Z",
     "start_time": "2018-04-17T16:00:39.075906Z"
    },
    "deletable": false,
    "editable": false,
    "run_control": {
     "frozen": true
    }
   },
   "outputs": [],
   "source": [
    "# -- Quantity, Names, VectorIndex\n",
    "SciPyModel.Compartments.Quantity = SBMLModel.getNumCompartments()\n",
    "for i in range(SBMLModel.getNumCompartments()):\n",
    "    current_compartment = SBMLModel.getCompartment(i)\n",
    "    SciPyModel.Compartments.Names.append(current_compartment.name)\n",
    "    SciPyModel.Compartments.VectorIndex.append(i)\n",
    "    SciPyModel.Compartments.MetaID.append(current_compartment.meta_id)"
   ]
  },
  {
   "cell_type": "markdown",
   "metadata": {
    "deletable": false,
    "editable": false,
    "run_control": {
     "frozen": true
    }
   },
   "source": [
    "#### Extract Species Data"
   ]
  },
  {
   "cell_type": "code",
   "execution_count": 6,
   "metadata": {
    "ExecuteTime": {
     "end_time": "2018-04-17T16:00:39.162738Z",
     "start_time": "2018-04-17T16:00:39.122619Z"
    },
    "deletable": false,
    "editable": false,
    "run_control": {
     "frozen": true
    }
   },
   "outputs": [],
   "source": [
    "# -- Quanity, Names, Value, VectorIndex, BoundaryValue\n",
    "SciPyModel.Species.Quantity = SBMLModel.getNumSpecies()\n",
    "for i in range(SBMLModel.getNumSpecies()):\n",
    "    current_species = SBMLModel.getSpecies(i)\n",
    "    SciPyModel.Species.Names.append(current_species.name)\n",
    "    SciPyModel.Species.Value.append(current_species.initial_amount)\n",
    "    SciPyModel.Species.VectorIndex.append(i)\n",
    "    SciPyModel.Species.BoundaryValue.append(current_species.boundary_condition)\n",
    "    SciPyModel.Species.MetaID.append(current_species.meta_id)"
   ]
  },
  {
   "cell_type": "markdown",
   "metadata": {
    "deletable": false,
    "editable": false,
    "run_control": {
     "frozen": true
    }
   },
   "source": [
    "#### Extract Parameter Data"
   ]
  },
  {
   "cell_type": "code",
   "execution_count": 7,
   "metadata": {
    "ExecuteTime": {
     "end_time": "2018-04-17T16:00:39.212566Z",
     "start_time": "2018-04-17T16:00:39.176216Z"
    },
    "deletable": false,
    "editable": false,
    "run_control": {
     "frozen": true
    }
   },
   "outputs": [],
   "source": [
    "# -- Quantity, Names, Value, VectorIndex\n",
    "SciPyModel.Parameters.Kinetic.Quantity = SBMLModel.getNumParameters()\n",
    "for i in range(SBMLModel.getNumParameters()):\n",
    "    current_parameter = SBMLModel.getParameter(i)\n",
    "    SciPyModel.Parameters.Kinetic.Names.append(current_parameter.name)\n",
    "    SciPyModel.Parameters.Kinetic.Value.append(current_parameter.value)\n",
    "    SciPyModel.Parameters.Kinetic.VectorIndex.append(i)\n",
    "    SciPyModel.Parameters.Kinetic.MetaID.append(current_parameter.meta_id)"
   ]
  },
  {
   "cell_type": "markdown",
   "metadata": {
    "deletable": false,
    "editable": false,
    "run_control": {
     "frozen": true
    }
   },
   "source": [
    "#### Extract Reaction Data\n",
    "\n",
    "Requires use of `NumPy` module."
   ]
  },
  {
   "cell_type": "code",
   "execution_count": 8,
   "metadata": {
    "ExecuteTime": {
     "end_time": "2018-04-17T16:00:39.571740Z",
     "start_time": "2018-04-17T16:00:39.225594Z"
    },
    "deletable": false,
    "editable": false,
    "run_control": {
     "frozen": true
    }
   },
   "outputs": [],
   "source": [
    "import numpy\n",
    "\n",
    "# -- Names, Formulas, Stoichiometry\n",
    "SciPyModel.Reactions.Stoichiometry = numpy.zeros(\n",
    "    [SBMLModel.getNumSpecies(),\n",
    "     SBMLModel.getNumReactions()])\n",
    "SciPyModel.Reactions.Quantity = SBMLModel.getNumReactions()\n",
    "for i in range(SBMLModel.getNumReactions()):\n",
    "    current_reaction = SBMLModel.getReaction(i)\n",
    "    SciPyModel.Reactions.Names.append(current_reaction.name)\n",
    "    SciPyModel.Reactions.Formulas.append(\n",
    "        current_reaction.getKineticLaw().getFormula())\n",
    "\n",
    "    # Try-Except in order to see if Names or MetaID are used in the functions\n",
    "    try:\n",
    "        for r in current_reaction.getListOfReactants():\n",
    "            SciPyModel.Reactions.Stoichiometry[SciPyModel.Species.Names.index(\n",
    "                r.getSpecies()), i] -= r.getStoichiometry()\n",
    "        for p in current_reaction.getListOfProducts():\n",
    "            SciPyModel.Reactions.Stoichiometry[SciPyModel.Species.Names.index(\n",
    "                p.getSpecies()), i] += p.getStoichiometry()\n",
    "    except ValueError:\n",
    "        for r in current_reaction.getListOfReactants():\n",
    "            SciPyModel.Reactions.Stoichiometry[SciPyModel.Species.MetaID.index(\n",
    "                r.getSpecies()), i] -= r.getStoichiometry()\n",
    "        for p in current_reaction.getListOfProducts():\n",
    "            SciPyModel.Reactions.Stoichiometry[SciPyModel.Species.MetaID.index(\n",
    "                p.getSpecies()), i] += p.getStoichiometry()\n",
    "    else:\n",
    "        print 'ERROR: Unable to create Stoichiometric Matrix. Check species name/metaid.'\n",
    "\n",
    "    # Remove Stoichiometry of Boundary State Variables\n",
    "    for s in range(SciPyModel.Species.Quantity):\n",
    "        if SciPyModel.Species.BoundaryValue[s]:\n",
    "            SciPyModel.Reactions.Stoichiometry[s, :] = numpy.zeros(\n",
    "                (1, SciPyModel.Reactions.Quantity))"
   ]
  },
  {
   "cell_type": "markdown",
   "metadata": {
    "ExecuteTime": {
     "end_time": "2018-04-17T14:09:02.920405Z",
     "start_time": "2018-04-17T14:09:02.746860Z"
    },
    "deletable": false,
    "editable": false,
    "run_control": {
     "frozen": true
    }
   },
   "source": [
    "#### Vectorize Reaction Declarations"
   ]
  },
  {
   "cell_type": "code",
   "execution_count": 9,
   "metadata": {
    "ExecuteTime": {
     "end_time": "2018-04-17T16:00:39.663523Z",
     "start_time": "2018-04-17T16:00:39.588895Z"
    },
    "deletable": false,
    "editable": false,
    "run_control": {
     "frozen": true
    }
   },
   "outputs": [],
   "source": [
    "# Vectorize Functions within SciPyModel object.\n",
    "for rxn_ix in range(SciPyModel.Reactions.Quantity):\n",
    "\n",
    "    # Get information about the current reaction\n",
    "    Formula = SciPyModel.Reactions.Formulas[rxn_ix]\n",
    "\n",
    "    # Removes usage of compartments from reaction equations.\n",
    "    for j in reversed(range(SciPyModel.Compartments.Quantity)):\n",
    "        if SciPyModel.Compartments.Names[j] != '':  # If name isn't empty\n",
    "            Formula = Formula.replace(SciPyModel.Compartments.Names[j] + ' * ',\n",
    "                                      '')\n",
    "            Formula = Formula.replace(' * ' + SciPyModel.Compartments.Names[j],\n",
    "                                      '')\n",
    "            Formula = Formula.replace(' / ' + SciPyModel.Compartments.Names[j],\n",
    "                                      '')\n",
    "\n",
    "    # Replace parameter names with index of vectorized parameter array.\n",
    "    # Iterates through parameter names sorted by length of name.\n",
    "    for key in sorted(\n",
    "            SciPyModel.Parameters.Kinetic.Names, key=len, reverse=True):\n",
    "        if key != '':\n",
    "            Formula = Formula.replace(key, 'p[' + str(\n",
    "                SciPyModel.Parameters.Kinetic.Names.index(key)) + ']')\n",
    "\n",
    "    for key in sorted(\n",
    "            SciPyModel.Parameters.Kinetic.MetaID, key=len, reverse=True):\n",
    "        if key != '':\n",
    "            Formula = Formula.replace(key, 'p[' + str(\n",
    "                SciPyModel.Parameters.Kinetic.MetaID.index(key)) + ']')\n",
    "\n",
    "    # Replace species names with index of species parameter array.\n",
    "    for key in sorted(SciPyModel.Species.Names, key=len, reverse=True):\n",
    "        if key != '':\n",
    "            Formula = Formula.replace(\n",
    "                key, 'y[' + str(SciPyModel.Species.Names.index(key)) + ']')\n",
    "\n",
    "    for key in sorted(SciPyModel.Species.MetaID, key=len, reverse=True):\n",
    "        if key != '':\n",
    "            Formula = Formula.replace(\n",
    "                key, 'y[' + str(SciPyModel.Species.MetaID.index(key)) + ']')\n",
    "\n",
    "    # Reset formula declaration in SciPyModel class\n",
    "    SciPyModel.Reactions.Formulas[rxn_ix] = Formula"
   ]
  },
  {
   "cell_type": "markdown",
   "metadata": {
    "ExecuteTime": {
     "end_time": "2018-04-17T14:47:43.933148Z",
     "start_time": "2018-04-17T14:47:43.834928Z"
    },
    "deletable": false,
    "editable": false,
    "run_control": {
     "frozen": true
    }
   },
   "source": [
    "### Constructing Model Function\n",
    "\n",
    "#### Create Function String\n",
    "\n",
    "Creating the actual function to evaluate the time-derivative of the model is straight-forward once in the SciPyModel class format. We simply create and extend a bytearray containing the lines of code required for execution."
   ]
  },
  {
   "cell_type": "code",
   "execution_count": 10,
   "metadata": {
    "ExecuteTime": {
     "end_time": "2018-04-17T16:00:39.797896Z",
     "start_time": "2018-04-17T16:00:39.678681Z"
    },
    "deletable": false,
    "editable": false,
    "run_control": {
     "frozen": true
    }
   },
   "outputs": [],
   "source": [
    "# Write header information for the derivative function file.\n",
    "generated_code = bytearray('')\n",
    "generated_code.extend('from __future__ import division \\n')\n",
    "generated_code.extend('import numpy, sympy \\n')\n",
    "generated_code.extend('\\n')\n",
    "generated_code.extend('def ode_fun( y, t, p ): \\n')\n",
    "generated_code.extend('\\n')\n",
    "generated_code.extend(\n",
    "    '    rxn = numpy.zeros([' + str(SciPyModel.Reactions.Quantity) + ']) \\n')\n",
    "\n",
    "# Loop over each reaction within the SciPyModel object.\n",
    "for rxn_ix in range(SciPyModel.Reactions.Quantity):\n",
    "\n",
    "    # Get information about the current reaction\n",
    "    Formula = SciPyModel.Reactions.Formulas[rxn_ix]\n",
    "\n",
    "    # Append each formula declaration to the growing output bytearray.\n",
    "    generated_code.extend(\n",
    "        '    # ' + SciPyModel.Reactions.Names[rxn_ix] + '\\n')\n",
    "    generated_code.extend('    rxn[' + str(rxn_ix) + '] = ' + Formula + '\\n')\n",
    "\n",
    "# Write out footer information for the derivative function file\n",
    "generated_code.extend('\\n')\n",
    "generated_code.extend('    S = numpy.' + repr(SciPyModel.Reactions.Stoichiometry) \n",
    "                      + '\\n')\n",
    "generated_code.extend('    \\n')\n",
    "generated_code.extend('    dy = S.dot(rxn) \\n')\n",
    "generated_code.extend('    return dy \\n')\n",
    "\n",
    "\n",
    "# Write function definition for reactions -- edit this to isolate shape/kinetic parameters\n",
    "generated_code.extend('\\n')\n",
    "generated_code.extend('\\n')\n",
    "generated_code.extend('def rxn_fun( y, t, p ): \\n')\n",
    "generated_code.extend('\\n')\n",
    "generated_code.extend(\n",
    "    '    rxn = sympy.zeros(' + str(SciPyModel.Reactions.Quantity) + ',1) \\n')\n",
    "for rxn_ix in range(SciPyModel.Reactions.Quantity):\n",
    "    Formula = SciPyModel.Reactions.Formulas[rxn_ix]\n",
    "    generated_code.extend(\n",
    "        '    # ' + SciPyModel.Reactions.Names[rxn_ix] + '\\n')\n",
    "    generated_code.extend('    rxn[' + str(rxn_ix) + '] = ' + Formula + '\\n')\n",
    "generated_code.extend('    return rxn \\n')\n",
    "\n",
    "\n",
    "# Place generated bytearray code into the derivative function\n",
    "SciPyModel.ToolboxFunctions.DerivativeFunction = generated_code"
   ]
  },
  {
   "cell_type": "markdown",
   "metadata": {
    "ExecuteTime": {
     "end_time": "2018-04-17T15:02:19.996491Z",
     "start_time": "2018-04-17T15:02:19.982717Z"
    },
    "deletable": false,
    "editable": false,
    "run_control": {
     "frozen": true
    }
   },
   "source": [
    "#### Write Temporary File\n",
    "\n",
    "In order to use the file it needs to be written to a temporary file. To keep the name unique we use the model name with the current date and time in the name of the temporary file."
   ]
  },
  {
   "cell_type": "code",
   "execution_count": 11,
   "metadata": {
    "ExecuteTime": {
     "end_time": "2018-04-17T16:00:39.837957Z",
     "start_time": "2018-04-17T16:00:39.804547Z"
    },
    "deletable": false,
    "editable": false,
    "run_control": {
     "frozen": true
    }
   },
   "outputs": [],
   "source": [
    "import datetime\n",
    "TempName = SciPyModel.MetaData.Name+datetime.datetime.now().strftime(\"%I%M%p%B%d%Y\")+'.py'\n",
    "open(TempName, 'w+').write(SciPyModel.ToolboxFunctions.DerivativeFunction)"
   ]
  },
  {
   "cell_type": "markdown",
   "metadata": {
    "deletable": false,
    "editable": false,
    "run_control": {
     "frozen": true
    }
   },
   "source": [
    "Then we can import the function from the file using a temporary module declaration."
   ]
  },
  {
   "cell_type": "code",
   "execution_count": 12,
   "metadata": {
    "ExecuteTime": {
     "end_time": "2018-04-17T16:00:40.857897Z",
     "start_time": "2018-04-17T16:00:39.852948Z"
    },
    "deletable": false,
    "editable": false,
    "run_control": {
     "frozen": true
    }
   },
   "outputs": [],
   "source": [
    "TempModule = __import__(TempName[:-3])"
   ]
  },
  {
   "cell_type": "markdown",
   "metadata": {
    "ExecuteTime": {
     "end_time": "2018-04-17T15:16:37.831298Z",
     "start_time": "2018-04-17T15:16:37.816677Z"
    },
    "deletable": false,
    "editable": false,
    "run_control": {
     "frozen": true
    }
   },
   "source": [
    "### Simulating SciPyModel\n",
    "\n",
    "#### Using Internal Declarations\n",
    "\n",
    "The `SciPyModel` object contains vectors of each state variable and parameter. This makes simulation using `SciPy` straightforward."
   ]
  },
  {
   "cell_type": "code",
   "execution_count": 13,
   "metadata": {
    "ExecuteTime": {
     "end_time": "2018-04-17T16:00:40.895432Z",
     "start_time": "2018-04-17T16:00:40.880735Z"
    },
    "deletable": false,
    "editable": false,
    "run_control": {
     "frozen": true
    }
   },
   "outputs": [],
   "source": [
    "SciPyModel.SimulationData.TimeStart = 0\n",
    "SciPyModel.SimulationData.TimeEnd = 100\n",
    "SciPyModel.SimulationData.DataPoints = 100"
   ]
  },
  {
   "cell_type": "markdown",
   "metadata": {
    "deletable": false,
    "editable": false,
    "run_control": {
     "frozen": true
    }
   },
   "source": [
    "#### Deterministically Simulating SciPyModel\n",
    "\n",
    "Using the `odeint` function we simply need to call our information from `SciPyModel`."
   ]
  },
  {
   "cell_type": "code",
   "execution_count": 14,
   "metadata": {
    "ExecuteTime": {
     "end_time": "2018-04-17T16:00:41.272225Z",
     "start_time": "2018-04-17T16:00:40.906151Z"
    },
    "deletable": false,
    "editable": false,
    "run_control": {
     "frozen": true
    }
   },
   "outputs": [],
   "source": [
    "from scipy.integrate import odeint\n",
    "import numpy\n",
    "\n",
    "SciPyModel.SimulationData.Deterministic.Data = (odeint(\n",
    "    TempModule.ode_fun,\n",
    "    SciPyModel.Species.Value,\n",
    "    numpy.linspace(SciPyModel.SimulationData.TimeStart,\n",
    "                   SciPyModel.SimulationData.TimeEnd,\n",
    "                   SciPyModel.SimulationData.DataPoints),\n",
    "    args=(SciPyModel.Parameters.Kinetic.Value, )))"
   ]
  },
  {
   "cell_type": "markdown",
   "metadata": {
    "ExecuteTime": {
     "end_time": "2018-04-17T15:24:42.622857Z",
     "start_time": "2018-04-17T15:24:42.610884Z"
    },
    "deletable": false,
    "editable": false,
    "run_control": {
     "frozen": true
    }
   },
   "source": [
    "#### Plotting Simulation\n",
    "\n",
    "Then for standard plotting we can use `matplotlib`, specifically `pyplot`, to visualize the simulation."
   ]
  },
  {
   "cell_type": "code",
   "execution_count": 15,
   "metadata": {
    "ExecuteTime": {
     "end_time": "2018-04-17T16:00:42.778158Z",
     "start_time": "2018-04-17T16:00:41.280371Z"
    },
    "deletable": false,
    "editable": false,
    "run_control": {
     "frozen": true
    }
   },
   "outputs": [
    {
     "data": {
      "image/png": "[encoded data removed]",
      "text/plain": [
       "<matplotlib.figure.Figure at 0x7fb817065990>"
      ]
     },
     "metadata": {},
     "output_type": "display_data"
    }
   ],
   "source": [
    "from matplotlib import pyplot\n",
    "%matplotlib inline\n",
    "\n",
    "pyplot.close()\n",
    "\n",
    "pyplot.figure(figsize=(10, 5))\n",
    "\n",
    "pltObjs = pyplot.plot(\n",
    "    numpy.linspace(SciPyModel.SimulationData.TimeStart,\n",
    "                   SciPyModel.SimulationData.TimeEnd,\n",
    "                   SciPyModel.SimulationData.DataPoints),\n",
    "    SciPyModel.SimulationData.Deterministic.Data)\n",
    "\n",
    "pyplot.title('Standard Simulation of '+SciPyModel.MetaData.FilePath)\n",
    "pyplot.ylabel('Cc')\n",
    "pyplot.xlabel('Time')\n",
    "pyplot.grid()\n",
    "\n",
    "pyplot.legend( pltObjs, SciPyModel.Species.Names )\n",
    "\n",
    "pyplot.show()"
   ]
  },
  {
   "cell_type": "markdown",
   "metadata": {
    "deletable": false,
    "editable": false,
    "run_control": {
     "frozen": true
    }
   },
   "source": [
    "#### Final Notes\n",
    "\n",
    "Once the desired simulations with the model are completed, the simulation data can be exported and the temporary files can be deleted."
   ]
  },
  {
   "cell_type": "code",
   "execution_count": 16,
   "metadata": {
    "ExecuteTime": {
     "end_time": "2018-04-17T16:00:42.813976Z",
     "start_time": "2018-04-17T16:00:42.784854Z"
    },
    "deletable": false,
    "editable": false,
    "run_control": {
     "frozen": true
    },
    "scrolled": true
   },
   "outputs": [
    {
     "name": "stdout",
     "output_type": "stream",
     "text": [
      "ERROR: Unknown error. Unable to remove 1200PMApril172018.py\n"
     ]
    }
   ],
   "source": [
    "import os\n",
    "try:\n",
    "    os.remove(TempName)\n",
    "except OSError:\n",
    "    print 'ERROR: Temporary file has already been deleted.'\n",
    "else:\n",
    "    print 'ERROR: Unknown error. Unable to remove '+TempName"
   ]
  },
  {
   "cell_type": "code",
   "execution_count": null,
   "metadata": {},
   "outputs": [],
   "source": []
  }
 ],
 "metadata": {
  "kernelspec": {
   "display_name": "Python 2",
   "language": "python",
   "name": "python2"
  },
  "language_info": {
   "codemirror_mode": {
    "name": "ipython",
    "version": 2
   },
   "file_extension": ".py",
   "mimetype": "text/x-python",
   "name": "python",
   "nbconvert_exporter": "python",
   "pygments_lexer": "ipython2",
   "version": "2.7.12"
  },
  "toc": {
   "nav_menu": {},
   "number_sections": false,
   "sideBar": true,
   "skip_h1_title": false,
   "toc_cell": true,
   "toc_position": {},
   "toc_section_display": "block",
   "toc_window_display": true
  },
  "varInspector": {
   "cols": {
    "lenName": 16,
    "lenType": 16,
    "lenVar": 40
   },
   "kernels_config": {
    "python": {
     "delete_cmd_postfix": "",
     "delete_cmd_prefix": "del ",
     "library": "var_list.py",
     "varRefreshCmd": "print(var_dic_list())"
    },
    "r": {
     "delete_cmd_postfix": ") ",
     "delete_cmd_prefix": "rm(",
     "library": "var_list.r",
     "varRefreshCmd": "cat(var_dic_list()) "
    }
   },
   "types_to_exclude": [
    "module",
    "function",
    "builtin_function_or_method",
    "instance",
    "_Feature"
   ],
   "window_display": false
  }
 },
 "nbformat": 4,
 "nbformat_minor": 2
}
