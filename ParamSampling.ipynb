{
 "cells": [
  {
   "cell_type": "markdown",
   "metadata": {
    "toc": true
   },
   "source": [
    "<h1>Table of Contents<span class=\"tocSkip\"></span></h1>\n",
    "<div class=\"toc\" style=\"margin-top: 1em;\"><ul class=\"toc-item\"><li><ul class=\"toc-item\"><li><ul class=\"toc-item\"><li><span><a href=\"#Notebook-Description\" data-toc-modified-id=\"Notebook-Description-0.0.1\">Notebook Description</a></span></li><li><span><a href=\"#Import-Required-Packages\" data-toc-modified-id=\"Import-Required-Packages-0.0.2\">Import Required Packages</a></span></li><li><span><a href=\"#Initial-Implementation\" data-toc-modified-id=\"Initial-Implementation-0.0.3\">Initial Implementation</a></span><ul class=\"toc-item\"><li><span><a href=\"#Latin-Hypercube-Sampling\" data-toc-modified-id=\"Latin-Hypercube-Sampling-0.0.3.1\">Latin Hypercube Sampling</a></span></li><li><span><a href=\"#Direct-Sampling\" data-toc-modified-id=\"Direct-Sampling-0.0.3.2\">Direct Sampling</a></span></li><li><span><a href=\"#Nullspace-Informed-Sampling\" data-toc-modified-id=\"Nullspace-Informed-Sampling-0.0.3.3\">Nullspace-Informed Sampling</a></span></li><li><span><a href=\"#Initialize-SciPyModel\" data-toc-modified-id=\"Initialize-SciPyModel-0.0.3.4\">Initialize SciPyModel</a></span></li><li><span><a href=\"#Select-Best-Parameter-Set\" data-toc-modified-id=\"Select-Best-Parameter-Set-0.0.3.5\">Select Best Parameter Set</a></span></li><li><span><a href=\"#Run-Model-Using-Sampling-Method\" data-toc-modified-id=\"Run-Model-Using-Sampling-Method-0.0.3.6\">Run Model Using Sampling Method</a></span></li><li><span><a href=\"#Interpret-Data\" data-toc-modified-id=\"Interpret-Data-0.0.3.7\">Interpret Data</a></span></li></ul></li><li><span><a href=\"#Recommended-Implementation\" data-toc-modified-id=\"Recommended-Implementation-0.0.4\">Recommended Implementation</a></span><ul class=\"toc-item\"><li><span><a href=\"#Initialize-SciPyModel\" data-toc-modified-id=\"Initialize-SciPyModel-0.0.4.1\">Initialize SciPyModel</a></span></li><li><span><a href=\"#Parameter-Sampling\" data-toc-modified-id=\"Parameter-Sampling-0.0.4.2\">Parameter Sampling</a></span></li><li><span><a href=\"#Parameter-Estimation\" data-toc-modified-id=\"Parameter-Estimation-0.0.4.3\">Parameter Estimation</a></span></li><li><span><a href=\"#Notes\" data-toc-modified-id=\"Notes-0.0.4.4\">Notes</a></span></li></ul></li></ul></li></ul></li></ul></div>"
   ]
  },
  {
   "cell_type": "markdown",
   "metadata": {},
   "source": [
    "### Notebook Description\n",
    "\n",
    "This notebook is a direct implementation of the code in `ParamSampling.py` in order to better organize it for clarity."
   ]
  },
  {
   "cell_type": "markdown",
   "metadata": {},
   "source": [
    "### Import Required Packages"
   ]
  },
  {
   "cell_type": "code",
   "execution_count": 1,
   "metadata": {
    "ExecuteTime": {
     "end_time": "2018-04-25T16:27:23.915531Z",
     "start_time": "2018-04-25T16:27:21.421530Z"
    }
   },
   "outputs": [],
   "source": [
    "import numpy as np\n",
    "import sympy\n",
    "from utils import SBML2SciPy\n",
    "from scipy.integrate import odeint\n",
    "from matplotlib import pyplot as plt"
   ]
  },
  {
   "cell_type": "markdown",
   "metadata": {},
   "source": [
    "### Initial Implementation\n",
    "\n",
    "#### Latin Hypercube Sampling\n",
    "\n",
    "This has now been implemented in `SBML2SciPy` so it might not be necessary."
   ]
  },
  {
   "cell_type": "code",
   "execution_count": 2,
   "metadata": {
    "ExecuteTime": {
     "end_time": "2018-04-25T16:27:23.947333Z",
     "start_time": "2018-04-25T16:27:23.923733Z"
    }
   },
   "outputs": [],
   "source": [
    "def lhsu(xmin, xmax, nsample):\n",
    "    # TODO: Function documentation\n",
    "    # Number of random variables\n",
    "    nvar = xmin.size\n",
    "\n",
    "    # Uniform random sample array\n",
    "    ran = np.random.uniform(0, 1, [nsample, nvar])\n",
    "\n",
    "    # Initialization of sample array\n",
    "    s = np.zeros([nsample, nvar])\n",
    "\n",
    "    # For loop to divide sample space and ensure conditions are met\n",
    "    for x_idx in range(nvar):\n",
    "        idx = np.random.permutation(nsample)+1\n",
    "        P = (np.transpose(idx) - ran[:, x_idx]) / nsample\n",
    "        s[:, x_idx] = xmin[x_idx] + P*(xmax[x_idx] - xmin[x_idx])\n",
    "\n",
    "    return s"
   ]
  },
  {
   "cell_type": "markdown",
   "metadata": {},
   "source": [
    "#### Direct Sampling\n",
    "\n",
    "I'm a bit confused as to why this is necessary. The bounds for the parameters will often not be square so I'd stray away from this type of implementation."
   ]
  },
  {
   "cell_type": "code",
   "execution_count": 3,
   "metadata": {
    "ExecuteTime": {
     "end_time": "2018-04-25T16:27:23.988444Z",
     "start_time": "2018-04-25T16:27:23.958701Z"
    }
   },
   "outputs": [],
   "source": [
    "def directSample(minVal, maxVal, nvar, nsample):\n",
    "    # TODO: This should follow nullSample and use SciPyModel variable parameters\n",
    "    # TODO: Function documentation\n",
    "    # Sample Space Bounds\n",
    "    pmin = np.ones([nvar, 1])*minVal\n",
    "    pmax = np.ones([nvar, 1])*maxVal\n",
    "\n",
    "    # Direct Latin-Hypercube Sampling\n",
    "    sample = lhsu(pmin, pmax, nsample)\n",
    "\n",
    "    return sample"
   ]
  },
  {
   "cell_type": "markdown",
   "metadata": {},
   "source": [
    "#### Nullspace-Informed Sampling\n",
    "\n",
    "Line 8: That is always going to be zero. I think you meant to put np.ones instead of np.zeros?"
   ]
  },
  {
   "cell_type": "code",
   "execution_count": 4,
   "metadata": {
    "ExecuteTime": {
     "end_time": "2018-04-25T16:27:24.093412Z",
     "start_time": "2018-04-25T16:27:23.996114Z"
    }
   },
   "outputs": [],
   "source": [
    "def nullSample(SciPyModel, minkVal, maxkVal, nsample):\n",
    "    # TODO: Function documentation\n",
    "    # TODO: Implement lhsu() for RanSample?\n",
    "    # Specify the number of parameter sets to draw from the sample space\n",
    "    SciPyModel.SimulationData.Sensitivity.Global.NumSamples = nsample\n",
    "\n",
    "    # Specify the minimum bounds for each parameter\n",
    "    SciPyModel.Parameters.MinimumValue = np.zeros(SciPyModel.Parameters.Quantity) * minkVal\n",
    "\n",
    "    # Specify the maximum bounds for each parameter\n",
    "    SciPyModel.Parameters.MaximumValue = np.ones(SciPyModel.Parameters.Quantity) * maxkVal\n",
    "\n",
    "    # Initialize Parameter Array\n",
    "    SciPyModel.SimulationData.Sensitivity.Global.ParameterSets = np.zeros([\n",
    "        SciPyModel.SimulationData.Sensitivity.Global.NumSamples,\n",
    "        SciPyModel.Parameters.Quantity])\n",
    "\n",
    "    # Generate Parameter Sets\n",
    "    for i in range(SciPyModel.SimulationData.Sensitivity.Global.NumSamples):\n",
    "\n",
    "        KSample = np.ones(sum(SciPyModel.Parameters.KineticFlag)) * np.inf\n",
    "\n",
    "        counter = 0\n",
    "        while counter < 10000:\n",
    "\n",
    "            RanSample = np.random.rand(\n",
    "                SciPyModel.Parameters.NullSpaceDimension +\n",
    "                sum([not c for c in SciPyModel.Parameters.KineticFlag]))\n",
    "\n",
    "            ESample = RanSample[SciPyModel.Parameters.NullSpaceDimension:]\n",
    "\n",
    "            KSample = SciPyModel.ToolboxFunctions.NullSpaceFunction(\n",
    "                list(ESample), list(SciPyModel.Species.Value)).dot(\n",
    "                list(RanSample[:SciPyModel.Parameters.NullSpaceDimension]))\n",
    "\n",
    "            if not ((KSample < SciPyModel.Parameters.MinimumValue[SciPyModel.Parameters.KineticFlag]).any() or\n",
    "                    (KSample > SciPyModel.Parameters.MaximumValue[SciPyModel.Parameters.KineticFlag]).any()):\n",
    "                break\n",
    "\n",
    "            counter += 1\n",
    "\n",
    "        SciPyModel.SimulationData.Sensitivity.Global.ParameterSets[i, :] = \\\n",
    "            np.concatenate([KSample.tolist(), ESample.tolist()])\n",
    "\n",
    "\n",
    "    return SciPyModel"
   ]
  },
  {
   "cell_type": "markdown",
   "metadata": {},
   "source": [
    "#### Initialize SciPyModel\n",
    "\n",
    "You don't need lines 6 to 18 since the createNullSpace function already performs that approach. The only thing that you will need (which I added) is the dimension of the nullspace so that you can create a random sample to apply to the nullspace."
   ]
  },
  {
   "cell_type": "code",
   "execution_count": 5,
   "metadata": {
    "ExecuteTime": {
     "end_time": "2018-04-25T16:27:24.214645Z",
     "start_time": "2018-04-25T16:27:24.117032Z"
    }
   },
   "outputs": [],
   "source": [
    "def constructModel():\n",
    "    # TODO: Function documentation\n",
    "    # Import SBML Model\n",
    "    SciPyModel = SBML2SciPy.importSBMLFile(SBML2SciPy.createSciPyModel())\n",
    "\n",
    "    # Construct Model Matrices\n",
    "    SciPyModel.Parameters.KineticFlag = []\n",
    "\n",
    "    [\n",
    "        SciPyModel.Parameters.KineticFlag.append(False)\n",
    "        for i in range(SciPyModel.Parameters.Quantity)\n",
    "    ]\n",
    "\n",
    "    for rxn in SciPyModel.Reactions.Formulas:\n",
    "        if SciPyModel.Reactions.Formulas[0][0] == 'p':\n",
    "            SciPyModel.Parameters.KineticFlag[int(\n",
    "                rxn.split(']')[0].split('[')[1])] = True\n",
    "\n",
    "\n",
    "    # Write Derivative Function\n",
    "    SciPyModel = SBML2SciPy.writeODEFunction(SciPyModel)\n",
    "    open('temp.py', 'w+').write(SciPyModel.ToolboxFunctions.DerivativeFunction)\n",
    "\n",
    "    #  Initialize Symbolic Species and Parameter vectors\n",
    "    y = sympy.symarray('y', len(SciPyModel.Species.Names))\n",
    "    p = sympy.symarray('p', len(SciPyModel.Parameters.Names))\n",
    "\n",
    "    # Construct Symbolic Reactions and Stoichiometric matrix\n",
    "    from temp import rxn_fun\n",
    "    R = sympy.Matrix(rxn_fun(y, 0, p))\n",
    "    S = sympy.Matrix(SciPyModel.Reactions.Stoichiometry)\n",
    "\n",
    "    # Assemble Symbolic Derivative Matrix\n",
    "    DerivativeMatrix = sympy.Matrix(\n",
    "        [S[:, i] * R[i] for i in range(len(R))]).reshape(S.shape[1],\n",
    "                                                         S.shape[0]).transpose()\n",
    "    # Construct Nullspace Matrix\n",
    "    M = sympy.Matrix(\n",
    "        sympy.lambdify((p[SciPyModel.Parameters.KineticFlag]), DerivativeMatrix,\n",
    "                       'sympy')(*sympy.ones(\n",
    "            len(p[SciPyModel.Parameters.KineticFlag]), 1)))\n",
    "\n",
    "    # Obtain basis for nullspace\n",
    "    N = M.nullspace()\n",
    "\n",
    "    SciPyModel = SBML2SciPy.createNullSpaceFunction(SciPyModel)\n",
    "\n",
    "    return SciPyModel, p, S, R, N"
   ]
  },
  {
   "cell_type": "markdown",
   "metadata": {},
   "source": [
    "#### Select Best Parameter Set"
   ]
  },
  {
   "cell_type": "code",
   "execution_count": 6,
   "metadata": {
    "ExecuteTime": {
     "end_time": "2018-04-25T16:27:24.295421Z",
     "start_time": "2018-04-25T16:27:24.228189Z"
    }
   },
   "outputs": [],
   "source": [
    "def selectParamSet(SciPyModel):\n",
    "    # TODO: filter input (maybe input a time, species, and condition?)\n",
    "    # TODO: Function Documentation\n",
    "    # Extracts a parameter sets from the sample space to meet desired filter\n",
    "\n",
    "    ParamIdx = -1   # Initialize\n",
    "    ParamSet = SciPyModel.Parameters.Value  # Default Param Values\n",
    "\n",
    "    # Loop over sample space\n",
    "    for i in range(SciPyModel.SimulationData.Sensitivity.Global.NumSamples):\n",
    "        SciPyModel.Parameters.Value = SciPyModel.SimulationData.Sensitivity.Global.ParameterSets[i, :]\n",
    "        SciPyModel = SBML2SciPy.integrateODEFunction(SciPyModel)    # Solve system for given parameter set\n",
    "\n",
    "        ## TEMP: currently finding first simulation/parameter set to give Kq >.95 @ t = 25\n",
    "        tIdx = np.where(np.round(SciPyModel.SimulationData.Deterministic.TimeVector, decimals=1) == 25)\n",
    "        if (SciPyModel.SimulationData.Deterministic.Data[tIdx,3] > 0.95) & \\\n",
    "                (SciPyModel.SimulationData.Deterministic.Data[tIdx,3] < 1.05):\n",
    "            ParamIdx = i\n",
    "            break\n",
    "\n",
    "    if ParamIdx < 0:\n",
    "        print 'WARNING: No Parameter Set Found to Match Condition'\n",
    "    else:\n",
    "        ParamSet = SciPyModel.Parameters.Value\n",
    "        for i in range(len(ParamSet)):\n",
    "            print SciPyModel.Parameters.MetaID[i],; print('='),; print ParamSet[i]\n",
    "        plt.figure()\n",
    "        plt.plot(SciPyModel.SimulationData.Deterministic.TimeVector, SciPyModel.SimulationData.Deterministic.Data)\n",
    "        plt.legend(SciPyModel.Species.Names)\n",
    "        plt.grid()\n",
    "\n",
    "    return ParamSet, ParamIdx"
   ]
  },
  {
   "cell_type": "markdown",
   "metadata": {},
   "source": [
    "#### Run Model Using Sampling Method"
   ]
  },
  {
   "cell_type": "code",
   "execution_count": 7,
   "metadata": {
    "ExecuteTime": {
     "end_time": "2018-04-25T16:27:24.467180Z",
     "start_time": "2018-04-25T16:27:24.314346Z"
    }
   },
   "outputs": [],
   "source": [
    "def runModel(tVec, sType):\n",
    "    #\n",
    "    # Inputs:   tVec - time vector\n",
    "    #           sType - sampling type: 0 = direct, 1 = nullspace, 2 = compare 0 and 1\n",
    "\n",
    "    SciPyModel, p, S, R, N = constructModel()\n",
    "    from temp import ode_fun\n",
    "    nvar = len(p)\n",
    "\n",
    "    if sType == 0:\n",
    "        # Direct Sampling\n",
    "        # ***Note: These should be inputs maybe\n",
    "        nsample = 100\n",
    "        minkVal = 0\n",
    "        maxkVal = 2\n",
    "\n",
    "        sample = directSample(minkVal, maxkVal, nvar, nsample)\n",
    "\n",
    "        # ***Note: Not really sure how best to store/plot different Ys\n",
    "        for i in range(len(sample)):\n",
    "            Y = odeint(ode_fun, SciPyModel.Species.Value, tVec, args=(sample[i,],))\n",
    "\n",
    "\n",
    "        plt.close()\n",
    "        plt.figure(figsize=(10, 5))\n",
    "        LineObjs = plt.plot(tVec, Y)\n",
    "        plt.grid()\n",
    "\n",
    "        plt.title('Simulation with Original Parameterization')\n",
    "        plt.xlabel('Time')\n",
    "        plt.ylabel('Concentrations')\n",
    "\n",
    "        plt.legend(LineObjs, SciPyModel.Species.Names)\n",
    "\n",
    "        plt.show()\n",
    "\n",
    "    elif sType == 1:\n",
    "        # Null Space Sampling\n",
    "\n",
    "        # TODO: These should be inputs\n",
    "        nsample = 100\n",
    "        minkVal = 0\n",
    "        maxkVal = 2\n",
    "\n",
    "        SciPyModel = nullSample(SciPyModel, minkVal, maxkVal, nsample)\n",
    "\n",
    "        SciPyModel.SimulationData.TimeStart = tVec[0]\n",
    "        SciPyModel.SimulationData.TimeEnd = tVec[len(tVec)-1]\n",
    "        SciPyModel.SimulationData.DataPoints = len(tVec)\n",
    "\n",
    "        for i in range(SciPyModel.SimulationData.Sensitivity.Global.NumSamples):\n",
    "            SciPyModel.Parameters.Value = SciPyModel.SimulationData.Sensitivity.Global.ParameterSets[i, :]\n",
    "            SciPyModel = SBML2SciPy.integrateODEFunction(SciPyModel)\n",
    "            plt.plot(SciPyModel.SimulationData.Deterministic.TimeVector,\n",
    "                SciPyModel.SimulationData.Deterministic.Data)\n",
    "            # plt.legend(SciPyModel.Species.Names)\n",
    "            plt.grid()\n",
    "            plt.draw()\n",
    "\n",
    "        plt.figure(figsize=(10, 3 * SciPyModel.Parameters.Quantity))\n",
    "        for i in range(SciPyModel.Parameters.Quantity):\n",
    "            plt.subplot(SciPyModel.Parameters.Quantity, 1, i + 1)\n",
    "\n",
    "            plt.hlines(1, SciPyModel.Parameters.MinimumValue[i],\n",
    "                       SciPyModel.Parameters.MaximumValue[i])  # Draw a horizontal line\n",
    "\n",
    "            plt.eventplot(\n",
    "                SciPyModel.SimulationData.Sensitivity.Global.ParameterSets[:, i],\n",
    "                orientation='horizontal',\n",
    "                colors='b')\n",
    "            plt.axis('off')\n",
    "            plt.title(SciPyModel.Parameters.Names[i])\n",
    "        selectParamSet(SciPyModel)\n",
    "    elif sType == 2:\n",
    "        print 'Not ready yet'\n",
    "    return"
   ]
  },
  {
   "cell_type": "markdown",
   "metadata": {},
   "source": [
    "#### Interpret Data"
   ]
  },
  {
   "cell_type": "code",
   "execution_count": 8,
   "metadata": {
    "ExecuteTime": {
     "end_time": "2018-04-25T16:27:32.392612Z",
     "start_time": "2018-04-25T16:27:24.485688Z"
    }
   },
   "outputs": [
    {
     "data": {
      "image/png": "[encoded data removed]",
      "text/plain": [
       "<matplotlib.figure.Figure at 0x7fd3dbfe30d0>"
      ]
     },
     "metadata": {},
     "output_type": "display_data"
    }
   ],
   "source": [
    "# Main\n",
    "tVec = np.linspace(0, 30, 300)\n",
    "# runModel(tVec, 0)   # Direct Sampling\n",
    "runModel(tVec, 0)   # Null space sampling\n",
    "plt.show()"
   ]
  },
  {
   "cell_type": "markdown",
   "metadata": {},
   "source": [
    "### Recommended Implementation\n",
    "\n",
    "#### Initialize SciPyModel\n",
    "\n",
    "As we move forward it may be handy to write a script to execute these all. For now though it helps to keep things separate in case a change in one is required."
   ]
  },
  {
   "cell_type": "code",
   "execution_count": 47,
   "metadata": {
    "ExecuteTime": {
     "end_time": "2018-04-25T16:47:41.860304Z",
     "start_time": "2018-04-25T16:47:39.748560Z"
    }
   },
   "outputs": [],
   "source": [
    "SciPyModel = SBML2SciPy.importSBMLFile(SBML2SciPy.createSciPyModel())\n",
    "SciPyModel = SBML2SciPy.writeODEFunction(SciPyModel)\n",
    "SciPyModel = SBML2SciPy.createNullSpaceFunction(SciPyModel)"
   ]
  },
  {
   "cell_type": "markdown",
   "metadata": {},
   "source": [
    "#### Parameter Sampling\n",
    "\n",
    "Here we can decide to either use the direct sampling, or the nullspace-informed sampling (should come up with an acronym for that)."
   ]
  },
  {
   "cell_type": "code",
   "execution_count": 48,
   "metadata": {
    "ExecuteTime": {
     "end_time": "2018-04-25T16:47:44.943460Z",
     "start_time": "2018-04-25T16:47:44.923464Z"
    }
   },
   "outputs": [],
   "source": [
    "import numpy\n",
    "\n",
    "# Set number of samples to draw\n",
    "SciPyModel.SimulationData.Sensitivity.Global.NumSamples = 10\n",
    "# Set parameter bounds\n",
    "SciPyModel.Parameters.MinimumValue = numpy.zeros(SciPyModel.Parameters.Quantity)\n",
    "SciPyModel.Parameters.MaximumValue = numpy.ones(SciPyModel.Parameters.Quantity) * 2.\n",
    "\n",
    "# LHSU Method\n",
    "SciPyModel = SBML2SciPy.sampleLHSU( SciPyModel )\n",
    "\n",
    "# NI-LHSU Method\n",
    "# SciPyModel = SBML2SciPy.sampleNullSpace( SciPyModel )"
   ]
  },
  {
   "cell_type": "markdown",
   "metadata": {},
   "source": [
    "#### Parameter Estimation\n",
    "\n",
    "I really like your approach here. Once we have our workflow established this will let us implement a parallel loop to see if there are multiple sets that fit the criteria."
   ]
  },
  {
   "cell_type": "code",
   "execution_count": 55,
   "metadata": {
    "ExecuteTime": {
     "end_time": "2018-04-25T16:50:25.371291Z",
     "start_time": "2018-04-25T16:50:25.314732Z"
    }
   },
   "outputs": [],
   "source": [
    "ParamIdx = -1\n",
    "\n",
    "ParamSet = SciPyModel.Parameters.Value\n",
    "\n",
    "SciPyModel.Parameters.Value = (\n",
    "    SciPyModel.SimulationData.Sensitivity.Global.ParameterSets[0, :])\n",
    "\n",
    "\n",
    "SciPyModel.SimulationData.TimeStart = 0\n",
    "SciPyModel.SimulationData.TimeEnd = 30\n",
    "SciPyModel.SimulationData.DataPoints = 100\n",
    "\n",
    "SciPyModel = SBML2SciPy.integrateODEFunction(SciPyModel)\n",
    "\n",
    "tIdx = np.where(\n",
    "        np.round(\n",
    "            SciPyModel.SimulationData.Deterministic.TimeVector, decimals=1) ==\n",
    "        25)"
   ]
  },
  {
   "cell_type": "code",
   "execution_count": 56,
   "metadata": {
    "ExecuteTime": {
     "end_time": "2018-04-25T16:50:32.292221Z",
     "start_time": "2018-04-25T16:50:32.276333Z"
    }
   },
   "outputs": [
    {
     "name": "stdout",
     "output_type": "stream",
     "text": [
      "(array([], dtype=int64),)\n"
     ]
    }
   ],
   "source": [
    "print tIdx"
   ]
  },
  {
   "cell_type": "code",
   "execution_count": null,
   "metadata": {},
   "outputs": [],
   "source": [
    "# Loop over sample space\n",
    "for i in range(SciPyModel.SimulationData.Sensitivity.Global.NumSamples):\n",
    "    SciPyModel.Parameters.Value = SciPyModel.SimulationData.Sensitivity.Global.ParameterSets[\n",
    "        i, :]\n",
    "    SciPyModel = SBML2SciPy.integrateODEFunction(\n",
    "        SciPyModel)  # Solve system for given parameter set\n",
    "\n",
    "    ## TEMP: currently finding first simulation/parameter set to give Kq >.95 @ t = 25\n",
    "    tIdx = np.where(\n",
    "        np.round(\n",
    "            SciPyModel.SimulationData.Deterministic.TimeVector, decimals=1) ==\n",
    "        25)\n",
    "    if (SciPyModel.SimulationData.Deterministic.Data[tIdx,3] > 0.95) & \\\n",
    "            (SciPyModel.SimulationData.Deterministic.Data[tIdx,3] < 1.05):\n",
    "        ParamIdx = i\n",
    "        break\n",
    "\n",
    "if ParamIdx < 0:\n",
    "    print 'WARNING: No Parameter Set Found to Match Condition'\n",
    "else:\n",
    "    ParamSet = SciPyModel.Parameters.Value\n",
    "    for i in range(len(ParamSet)):\n",
    "        print SciPyModel.Parameters.MetaID[i],\n",
    "        print('='),\n",
    "        print ParamSet[i]\n",
    "    plt.figure()\n",
    "    plt.plot(SciPyModel.SimulationData.Deterministic.TimeVector,\n",
    "             SciPyModel.SimulationData.Deterministic.Data)\n",
    "    plt.legend(SciPyModel.Species.Names)\n",
    "    plt.grid()"
   ]
  },
  {
   "cell_type": "markdown",
   "metadata": {},
   "source": [
    "#### Notes\n",
    "\n",
    "For a good chunk of this, I already implemented the methods in the SBML2SciPy script. That includes some rough help guidelines for understanding inputs. I haven't implemented all the conditionals to reject SciPyModel objects that don't have the required data, but when the code hits those points they are rather self-explanatory."
   ]
  },
  {
   "cell_type": "code",
   "execution_count": null,
   "metadata": {
    "ExecuteTime": {
     "end_time": "2018-04-25T16:27:35.163174Z",
     "start_time": "2018-04-25T16:27:21.518Z"
    }
   },
   "outputs": [],
   "source": [
    "help( SBML2SciPy.sampleLHSU )"
   ]
  },
  {
   "cell_type": "code",
   "execution_count": null,
   "metadata": {},
   "outputs": [],
   "source": []
  }
 ],
 "metadata": {
  "kernelspec": {
   "display_name": "Python 2",
   "language": "python",
   "name": "python2"
  },
  "language_info": {
   "codemirror_mode": {
    "name": "ipython",
    "version": 2
   },
   "file_extension": ".py",
   "mimetype": "text/x-python",
   "name": "python",
   "nbconvert_exporter": "python",
   "pygments_lexer": "ipython2",
   "version": "2.7.12"
  },
  "toc": {
   "nav_menu": {},
   "number_sections": false,
   "sideBar": true,
   "skip_h1_title": false,
   "toc_cell": true,
   "toc_position": {},
   "toc_section_display": "block",
   "toc_window_display": true
  },
  "varInspector": {
   "cols": {
    "lenName": 16,
    "lenType": 16,
    "lenVar": 40
   },
   "kernels_config": {
    "python": {
     "delete_cmd_postfix": "",
     "delete_cmd_prefix": "del ",
     "library": "var_list.py",
     "varRefreshCmd": "print(var_dic_list())"
    },
    "r": {
     "delete_cmd_postfix": ") ",
     "delete_cmd_prefix": "rm(",
     "library": "var_list.r",
     "varRefreshCmd": "cat(var_dic_list()) "
    }
   },
   "types_to_exclude": [
    "module",
    "function",
    "builtin_function_or_method",
    "instance",
    "_Feature"
   ],
   "window_display": false
  }
 },
 "nbformat": 4,
 "nbformat_minor": 2
}
