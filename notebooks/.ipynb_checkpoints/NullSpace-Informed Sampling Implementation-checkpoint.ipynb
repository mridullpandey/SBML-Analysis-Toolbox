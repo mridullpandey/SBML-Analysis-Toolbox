{
 "cells": [
  {
   "cell_type": "markdown",
   "metadata": {},
   "source": [
    "### Notebook Description\n",
    "\n",
    "This notebook walks through the approach for implementing a method for generating parameter samples leveraging the properties of the nullspace matrix. The goal of this implementation is to establish a preliminary baseline method for initial deployment and subsequent improvement.\n",
    "\n",
    "The approach demonstrated here follows a one-at-a-time process, where single parameter samples are chosen from the sample space and collected into a full set to be output from the function. In later versions, this process will be replaced with a Latin-Hypercube styled approach to achieve more robust representation of the parameter space."
   ]
  },
  {
   "cell_type": "markdown",
   "metadata": {},
   "source": [
    "### Import SBML Model\n",
    "\n",
    "Before we begin the implementation, we must use previously discussed methods to create a SciPyModel of the proper form."
   ]
  },
  {
   "cell_type": "code",
   "execution_count": 1,
   "metadata": {
    "ExecuteTime": {
     "end_time": "2018-04-25T22:26:57.293419Z",
     "start_time": "2018-04-25T22:26:32.207669Z"
    }
   },
   "outputs": [],
   "source": [
    "import os, sys\n",
    "NotebookDirectory = os.path.split(os.getcwd())[0]\n",
    "if NotebookDirectory not in sys.path:\n",
    "    sys.path.append(NotebookDirectory)\n",
    "import toolbox\n",
    "\n",
    "SciPyModel = toolbox.sbml.importSBMLFile(toolbox.createSciPyModel())\n",
    "SciPyModel = toolbox.simulation.writeODEFunction( SciPyModel )\n",
    "SciPyModel = toolbox.sampling.createNullSpaceFunction(SciPyModel)"
   ]
  },
  {
   "cell_type": "markdown",
   "metadata": {},
   "source": [
    "### Specify Required Data\n",
    "\n",
    "First the user must specify data on the sample space in the `SciPyModel` structure."
   ]
  },
  {
   "cell_type": "code",
   "execution_count": 2,
   "metadata": {
    "ExecuteTime": {
     "end_time": "2018-04-25T22:26:57.316238Z",
     "start_time": "2018-04-25T22:26:57.299906Z"
    }
   },
   "outputs": [],
   "source": [
    "import numpy\n",
    "\n",
    "# Specify the number of parameter sets to draw from the sample space\n",
    "SciPyModel.SimulationData.Sensitivity.Global.NumSamples = 100\n",
    "\n",
    "# Specify the minimum bounds for each parameter\n",
    "SciPyModel.Parameters.MinimumValue = numpy.zeros(SciPyModel.Parameters.Quantity)\n",
    "\n",
    "# Specify the maximum bounds for each parameter\n",
    "SciPyModel.Parameters.MaximumValue = numpy.ones(SciPyModel.Parameters.Quantity)*2."
   ]
  },
  {
   "cell_type": "markdown",
   "metadata": {},
   "source": [
    "### Initialize Parameter Array\n",
    "\n",
    "An empty numpy array is required to capture the parameter sets as they are generated one-at-a-time."
   ]
  },
  {
   "cell_type": "code",
   "execution_count": 3,
   "metadata": {
    "ExecuteTime": {
     "end_time": "2018-04-25T22:26:57.368978Z",
     "start_time": "2018-04-25T22:26:57.326102Z"
    }
   },
   "outputs": [],
   "source": [
    "SciPyModel.SimulationData.Sensitivity.Global.ParameterSets = numpy.zeros([\n",
    "    SciPyModel.SimulationData.Sensitivity.Global.NumSamples,\n",
    "    SciPyModel.Parameters.Quantity\n",
    "])"
   ]
  },
  {
   "cell_type": "markdown",
   "metadata": {},
   "source": [
    "### Latin-Hypercube Sampling of Nullspace\n",
    "\n",
    "The direct Latin-hypercube sampling approach is used to generate samples of the nullspace that are a good representation of the related system. The bounds for the nullspace parameters are given by solving the nullspace equation $K = N\\cdot G$ for the steady-state nullspace given the lower and upper bounds of the parameters."
   ]
  },
  {
   "cell_type": "code",
   "execution_count": 4,
   "metadata": {
    "ExecuteTime": {
     "end_time": "2018-04-25T22:26:57.482160Z",
     "start_time": "2018-04-25T22:26:57.378989Z"
    }
   },
   "outputs": [],
   "source": [
    "# Get minimum bound of Michaelis constants\n",
    "MinimumEBound = SciPyModel.Parameters.MinimumValue[[\n",
    "    not KineticFlag for KineticFlag in SciPyModel.Parameters.KineticFlag\n",
    "]]\n",
    "# Check if any bounds are zero. If so, make them a small number instead.\n",
    "MinimumEBound[(MinimumEBound == 0.)] = numpy.ones(sum(\n",
    "    (MinimumEBound == 0.))) * 1e-6\n",
    "\n",
    "# Create the nullspace matrix at the minimum bound.\n",
    "MinimumNullSpace = SciPyModel.ToolboxFunctions.NullSpaceFunction(\n",
    "    MinimumEBound, SciPyModel.Species.Value)\n",
    "\n",
    "# Using minimum bound of kinetic rate constants solve Ng=k\n",
    "MinimumGBound = numpy.linalg.lstsq(\n",
    "    MinimumNullSpace,\n",
    "    SciPyModel.Parameters.MinimumValue[SciPyModel.Parameters.KineticFlag])[0]"
   ]
  },
  {
   "cell_type": "markdown",
   "metadata": {},
   "source": [
    "Repeat process for maximum bound."
   ]
  },
  {
   "cell_type": "code",
   "execution_count": 5,
   "metadata": {
    "ExecuteTime": {
     "end_time": "2018-04-25T22:26:57.534845Z",
     "start_time": "2018-04-25T22:26:57.498325Z"
    }
   },
   "outputs": [],
   "source": [
    "# Get maximum bound of Michaelis constants\n",
    "MaximumEBound = SciPyModel.Parameters.MaximumValue[[\n",
    "    not KineticFlag for KineticFlag in SciPyModel.Parameters.KineticFlag\n",
    "]]\n",
    "# Check if any bounds are zero. If so, make them a small number instead.\n",
    "MaximumEBound[(MaximumEBound == 0.)] = numpy.ones(sum(\n",
    "    (MaximumEBound == 0.))) * 1e-6\n",
    "\n",
    "# Create the nullspace matrix at the maximum bound.\n",
    "MaximumNullSpace = SciPyModel.ToolboxFunctions.NullSpaceFunction(\n",
    "    MaximumEBound, SciPyModel.Species.Value)\n",
    "\n",
    "# Using maximum bound of kinetic rate constants solve Ng=k\n",
    "MaximumGBound = numpy.linalg.lstsq(\n",
    "    MaximumNullSpace,\n",
    "    SciPyModel.Parameters.MaximumValue[SciPyModel.Parameters.KineticFlag])[0]"
   ]
  },
  {
   "cell_type": "markdown",
   "metadata": {},
   "source": [
    "Apply Latin-Hypercube sampling method to the sample space given by the min/max bounds of the Michaelis constants and nullspace parameters."
   ]
  },
  {
   "cell_type": "code",
   "execution_count": 6,
   "metadata": {
    "ExecuteTime": {
     "end_time": "2018-04-25T22:26:57.650560Z",
     "start_time": "2018-04-25T22:26:57.555270Z"
    }
   },
   "outputs": [],
   "source": [
    "# Initialize sample space boundary\n",
    "MinimumBound = numpy.concatenate([MinimumGBound, MinimumEBound])\n",
    "MaximumBound = numpy.concatenate([MaximumGBound, MaximumEBound])\n",
    "\n",
    "# Uniform random sample array\n",
    "RanSet = numpy.random.uniform(0, 1, [\n",
    "    SciPyModel.SimulationData.Sensitivity.Global.NumSamples,\n",
    "    SciPyModel.Parameters.Quantity - sum(SciPyModel.Parameters.KineticFlag) +\n",
    "    SciPyModel.Parameters.NullSpaceDimension\n",
    "])\n",
    "\n",
    "# Initialization of sample array\n",
    "PreParameterSets = numpy.zeros([\n",
    "    SciPyModel.SimulationData.Sensitivity.Global.NumSamples,\n",
    "    SciPyModel.Parameters.Quantity - sum(SciPyModel.Parameters.KineticFlag) +\n",
    "    SciPyModel.Parameters.NullSpaceDimension\n",
    "])\n",
    "\n",
    "# For loop to divide sample space and ensure conditions are met\n",
    "for x_idx in range(\n",
    "        SciPyModel.Parameters.Quantity - sum(SciPyModel.Parameters.KineticFlag)\n",
    "        + SciPyModel.Parameters.NullSpaceDimension):\n",
    "    idx = numpy.random.permutation(\n",
    "        SciPyModel.SimulationData.Sensitivity.Global.NumSamples) + 1\n",
    "    P = (numpy.transpose(idx) - RanSet[:, x_idx]\n",
    "         ) / SciPyModel.SimulationData.Sensitivity.Global.NumSamples\n",
    "    PreParameterSets[:, x_idx] = (MinimumBound[x_idx] + P *\n",
    "                                  (MaximumBound[x_idx] - MinimumBound[x_idx]))"
   ]
  },
  {
   "cell_type": "markdown",
   "metadata": {},
   "source": [
    "### Generate Parameter Sets\n",
    "\n",
    "Finally we loop over each sample, apply the sample to the nullspace and recollect the result."
   ]
  },
  {
   "cell_type": "code",
   "execution_count": 7,
   "metadata": {
    "ExecuteTime": {
     "end_time": "2018-04-25T22:26:57.758010Z",
     "start_time": "2018-04-25T22:26:57.657320Z"
    }
   },
   "outputs": [],
   "source": [
    "# Initialize colelction array\n",
    "SciPyModel.SimulationData.Sensitivity.Global.ParameterSets = (numpy.empty([\n",
    "    SciPyModel.SimulationData.Sensitivity.Global.NumSamples,\n",
    "    SciPyModel.Parameters.Quantity\n",
    "]))\n",
    "\n",
    "# Loop over each sample\n",
    "for i in range(SciPyModel.SimulationData.Sensitivity.Global.NumSamples):\n",
    "\n",
    "    # Calculate kinetic rate constants based on current sample\n",
    "    KSample = SciPyModel.ToolboxFunctions.NullSpaceFunction(\n",
    "        list(PreParameterSets[i, SciPyModel.Parameters.NullSpaceDimension:]),\n",
    "        list(SciPyModel.Species.Value)).dot(\n",
    "            list(PreParameterSets[i, :\n",
    "                                  SciPyModel.Parameters.NullSpaceDimension]))\n",
    "\n",
    "    # Check if kinetic rate constant\n",
    "    if ((KSample <\n",
    "         SciPyModel.Parameters.MinimumValue[SciPyModel.Parameters.KineticFlag]\n",
    "         ).any() or\n",
    "        (KSample >\n",
    "         SciPyModel.Parameters.MaximumValue[SciPyModel.Parameters.KineticFlag]\n",
    "         ).any()):\n",
    "        pass\n",
    "\n",
    "    SciPyModel.SimulationData.Sensitivity.Global.ParameterSets[i, :] = (\n",
    "        numpy.concatenate([\n",
    "            KSample.tolist()[0], PreParameterSets[\n",
    "                i, SciPyModel.Parameters.NullSpaceDimension:].tolist()\n",
    "        ]))"
   ]
  },
  {
   "cell_type": "markdown",
   "metadata": {
    "ExecuteTime": {
     "end_time": "2018-04-23T23:38:05.835492Z",
     "start_time": "2018-04-23T23:38:05.812431Z"
    }
   },
   "source": [
    "### Validate Parameter Sets"
   ]
  },
  {
   "cell_type": "code",
   "execution_count": 8,
   "metadata": {
    "ExecuteTime": {
     "end_time": "2018-04-25T22:26:59.361005Z",
     "start_time": "2018-04-25T22:26:57.769775Z"
    },
    "code_folding": []
   },
   "outputs": [
    {
     "ename": "ValueError",
     "evalue": "x and y must not be None",
     "output_type": "error",
     "traceback": [
      "\u001b[0;31m\u001b[0m",
      "\u001b[0;31mValueError\u001b[0mTraceback (most recent call last)",
      "\u001b[0;32m<ipython-input-8-ea89359fc1e3>\u001b[0m in \u001b[0;36m<module>\u001b[0;34m()\u001b[0m\n\u001b[0;32m----> 1\u001b[0;31m \u001b[0mtoolbox\u001b[0m\u001b[0;34m.\u001b[0m\u001b[0mvisuals\u001b[0m\u001b[0;34m.\u001b[0m\u001b[0msimplePlot\u001b[0m\u001b[0;34m(\u001b[0m\u001b[0mSciPyModel\u001b[0m\u001b[0;34m)\u001b[0m\u001b[0;34m\u001b[0m\u001b[0m\n\u001b[0m",
      "\u001b[0;32m/home/kevin/Documents/SBML-Analysis-Toolbox/toolbox/visuals/simplePlot.py\u001b[0m in \u001b[0;36msimplePlot\u001b[0;34m(SciPyModel)\u001b[0m\n\u001b[1;32m     39\u001b[0m     \u001b[0;31m# Plot all state variables\u001b[0m\u001b[0;34m\u001b[0m\u001b[0;34m\u001b[0m\u001b[0m\n\u001b[1;32m     40\u001b[0m     PlotHandles = pyplot.plot(SciPyModel.SimulationData.Deterministic.TimeVector,\n\u001b[0;32m---> 41\u001b[0;31m                               SciPyModel.SimulationData.Deterministic.Data)\n\u001b[0m\u001b[1;32m     42\u001b[0m \u001b[0;34m\u001b[0m\u001b[0m\n\u001b[1;32m     43\u001b[0m     \u001b[0;31m# Title plot with model name\u001b[0m\u001b[0;34m\u001b[0m\u001b[0;34m\u001b[0m\u001b[0m\n",
      "\u001b[0;32m/usr/local/lib/python2.7/dist-packages/matplotlib/pyplot.pyc\u001b[0m in \u001b[0;36mplot\u001b[0;34m(*args, **kwargs)\u001b[0m\n\u001b[1;32m   3259\u001b[0m                       mplDeprecation)\n\u001b[1;32m   3260\u001b[0m     \u001b[0;32mtry\u001b[0m\u001b[0;34m:\u001b[0m\u001b[0;34m\u001b[0m\u001b[0m\n\u001b[0;32m-> 3261\u001b[0;31m         \u001b[0mret\u001b[0m \u001b[0;34m=\u001b[0m \u001b[0max\u001b[0m\u001b[0;34m.\u001b[0m\u001b[0mplot\u001b[0m\u001b[0;34m(\u001b[0m\u001b[0;34m*\u001b[0m\u001b[0margs\u001b[0m\u001b[0;34m,\u001b[0m \u001b[0;34m**\u001b[0m\u001b[0mkwargs\u001b[0m\u001b[0;34m)\u001b[0m\u001b[0;34m\u001b[0m\u001b[0m\n\u001b[0m\u001b[1;32m   3262\u001b[0m     \u001b[0;32mfinally\u001b[0m\u001b[0;34m:\u001b[0m\u001b[0;34m\u001b[0m\u001b[0m\n\u001b[1;32m   3263\u001b[0m         \u001b[0max\u001b[0m\u001b[0;34m.\u001b[0m\u001b[0m_hold\u001b[0m \u001b[0;34m=\u001b[0m \u001b[0mwashold\u001b[0m\u001b[0;34m\u001b[0m\u001b[0m\n",
      "\u001b[0;32m/usr/local/lib/python2.7/dist-packages/matplotlib/__init__.pyc\u001b[0m in \u001b[0;36minner\u001b[0;34m(ax, *args, **kwargs)\u001b[0m\n\u001b[1;32m   1715\u001b[0m                     warnings.warn(msg % (label_namer, func.__name__),\n\u001b[1;32m   1716\u001b[0m                                   RuntimeWarning, stacklevel=2)\n\u001b[0;32m-> 1717\u001b[0;31m             \u001b[0;32mreturn\u001b[0m \u001b[0mfunc\u001b[0m\u001b[0;34m(\u001b[0m\u001b[0max\u001b[0m\u001b[0;34m,\u001b[0m \u001b[0;34m*\u001b[0m\u001b[0margs\u001b[0m\u001b[0;34m,\u001b[0m \u001b[0;34m**\u001b[0m\u001b[0mkwargs\u001b[0m\u001b[0;34m)\u001b[0m\u001b[0;34m\u001b[0m\u001b[0m\n\u001b[0m\u001b[1;32m   1718\u001b[0m         \u001b[0mpre_doc\u001b[0m \u001b[0;34m=\u001b[0m \u001b[0minner\u001b[0m\u001b[0;34m.\u001b[0m\u001b[0m__doc__\u001b[0m\u001b[0;34m\u001b[0m\u001b[0m\n\u001b[1;32m   1719\u001b[0m         \u001b[0;32mif\u001b[0m \u001b[0mpre_doc\u001b[0m \u001b[0;32mis\u001b[0m \u001b[0mNone\u001b[0m\u001b[0;34m:\u001b[0m\u001b[0;34m\u001b[0m\u001b[0m\n",
      "\u001b[0;32m/usr/local/lib/python2.7/dist-packages/matplotlib/axes/_axes.pyc\u001b[0m in \u001b[0;36mplot\u001b[0;34m(self, *args, **kwargs)\u001b[0m\n\u001b[1;32m   1370\u001b[0m         \u001b[0mkwargs\u001b[0m \u001b[0;34m=\u001b[0m \u001b[0mcbook\u001b[0m\u001b[0;34m.\u001b[0m\u001b[0mnormalize_kwargs\u001b[0m\u001b[0;34m(\u001b[0m\u001b[0mkwargs\u001b[0m\u001b[0;34m,\u001b[0m \u001b[0m_alias_map\u001b[0m\u001b[0;34m)\u001b[0m\u001b[0;34m\u001b[0m\u001b[0m\n\u001b[1;32m   1371\u001b[0m \u001b[0;34m\u001b[0m\u001b[0m\n\u001b[0;32m-> 1372\u001b[0;31m         \u001b[0;32mfor\u001b[0m \u001b[0mline\u001b[0m \u001b[0;32min\u001b[0m \u001b[0mself\u001b[0m\u001b[0;34m.\u001b[0m\u001b[0m_get_lines\u001b[0m\u001b[0;34m(\u001b[0m\u001b[0;34m*\u001b[0m\u001b[0margs\u001b[0m\u001b[0;34m,\u001b[0m \u001b[0;34m**\u001b[0m\u001b[0mkwargs\u001b[0m\u001b[0;34m)\u001b[0m\u001b[0;34m:\u001b[0m\u001b[0;34m\u001b[0m\u001b[0m\n\u001b[0m\u001b[1;32m   1373\u001b[0m             \u001b[0mself\u001b[0m\u001b[0;34m.\u001b[0m\u001b[0madd_line\u001b[0m\u001b[0;34m(\u001b[0m\u001b[0mline\u001b[0m\u001b[0;34m)\u001b[0m\u001b[0;34m\u001b[0m\u001b[0m\n\u001b[1;32m   1374\u001b[0m             \u001b[0mlines\u001b[0m\u001b[0;34m.\u001b[0m\u001b[0mappend\u001b[0m\u001b[0;34m(\u001b[0m\u001b[0mline\u001b[0m\u001b[0;34m)\u001b[0m\u001b[0;34m\u001b[0m\u001b[0m\n",
      "\u001b[0;32m/usr/local/lib/python2.7/dist-packages/matplotlib/axes/_base.pyc\u001b[0m in \u001b[0;36m_grab_next_args\u001b[0;34m(self, *args, **kwargs)\u001b[0m\n\u001b[1;32m    402\u001b[0m                 \u001b[0mthis\u001b[0m \u001b[0;34m+=\u001b[0m \u001b[0margs\u001b[0m\u001b[0;34m[\u001b[0m\u001b[0;36m0\u001b[0m\u001b[0;34m]\u001b[0m\u001b[0;34m,\u001b[0m\u001b[0;34m\u001b[0m\u001b[0m\n\u001b[1;32m    403\u001b[0m                 \u001b[0margs\u001b[0m \u001b[0;34m=\u001b[0m \u001b[0margs\u001b[0m\u001b[0;34m[\u001b[0m\u001b[0;36m1\u001b[0m\u001b[0;34m:\u001b[0m\u001b[0;34m]\u001b[0m\u001b[0;34m\u001b[0m\u001b[0m\n\u001b[0;32m--> 404\u001b[0;31m             \u001b[0;32mfor\u001b[0m \u001b[0mseg\u001b[0m \u001b[0;32min\u001b[0m \u001b[0mself\u001b[0m\u001b[0;34m.\u001b[0m\u001b[0m_plot_args\u001b[0m\u001b[0;34m(\u001b[0m\u001b[0mthis\u001b[0m\u001b[0;34m,\u001b[0m \u001b[0mkwargs\u001b[0m\u001b[0;34m)\u001b[0m\u001b[0;34m:\u001b[0m\u001b[0;34m\u001b[0m\u001b[0m\n\u001b[0m\u001b[1;32m    405\u001b[0m                 \u001b[0;32myield\u001b[0m \u001b[0mseg\u001b[0m\u001b[0;34m\u001b[0m\u001b[0m\n\u001b[1;32m    406\u001b[0m \u001b[0;34m\u001b[0m\u001b[0m\n",
      "\u001b[0;32m/usr/local/lib/python2.7/dist-packages/matplotlib/axes/_base.pyc\u001b[0m in \u001b[0;36m_plot_args\u001b[0;34m(self, tup, kwargs)\u001b[0m\n\u001b[1;32m    365\u001b[0m         \u001b[0;31m# downstream.\u001b[0m\u001b[0;34m\u001b[0m\u001b[0;34m\u001b[0m\u001b[0m\n\u001b[1;32m    366\u001b[0m         \u001b[0;32mif\u001b[0m \u001b[0many\u001b[0m\u001b[0;34m(\u001b[0m\u001b[0mv\u001b[0m \u001b[0;32mis\u001b[0m \u001b[0mNone\u001b[0m \u001b[0;32mfor\u001b[0m \u001b[0mv\u001b[0m \u001b[0;32min\u001b[0m \u001b[0mtup\u001b[0m\u001b[0;34m)\u001b[0m\u001b[0;34m:\u001b[0m\u001b[0;34m\u001b[0m\u001b[0m\n\u001b[0;32m--> 367\u001b[0;31m             \u001b[0;32mraise\u001b[0m \u001b[0mValueError\u001b[0m\u001b[0;34m(\u001b[0m\u001b[0;34m\"x and y must not be None\"\u001b[0m\u001b[0;34m)\u001b[0m\u001b[0;34m\u001b[0m\u001b[0m\n\u001b[0m\u001b[1;32m    368\u001b[0m \u001b[0;34m\u001b[0m\u001b[0m\n\u001b[1;32m    369\u001b[0m         \u001b[0mkw\u001b[0m \u001b[0;34m=\u001b[0m \u001b[0;34m{\u001b[0m\u001b[0;34m}\u001b[0m\u001b[0;34m\u001b[0m\u001b[0m\n",
      "\u001b[0;31mValueError\u001b[0m: x and y must not be None"
     ]
    }
   ],
   "source": [
    "from matplotlib import pyplot as plt\n",
    "%matplotlib inline\n",
    "plt.close()\n",
    "plt.figure(figsize=(10, 5))\n",
    "\n",
    "SciPyModel.SimulationData.TimeStart = 0\n",
    "SciPyModel.SimulationData.TimeEnd = 10\n",
    "SciPyModel.SimulationData.DataPoints = 100\n",
    "\n",
    "for i in range(SciPyModel.SimulationData.Sensitivity.Global.NumSamples):\n",
    "\n",
    "    SciPyModel.Parameters.Value = SciPyModel.SimulationData.Sensitivity.Global.ParameterSets[\n",
    "        i, :]\n",
    "    SciPyModel = toolbox.simulation.integrateODEFunction(SciPyModel)\n",
    "    plt.plot(SciPyModel.SimulationData.Deterministic.TimeVector,\n",
    "             SciPyModel.SimulationData.Deterministic.Data)\n",
    "    \n",
    "plt.grid()\n",
    "plt.show()"
   ]
  },
  {
   "cell_type": "markdown",
   "metadata": {},
   "source": [
    "### Plot Sample Space"
   ]
  },
  {
   "cell_type": "code",
   "execution_count": null,
   "metadata": {
    "ExecuteTime": {
     "end_time": "2018-04-25T22:26:59.364979Z",
     "start_time": "2018-04-25T22:26:32.245Z"
    }
   },
   "outputs": [],
   "source": [
    "toolbox.visuals.sampleSpace(SciPyModel)"
   ]
  },
  {
   "cell_type": "markdown",
   "metadata": {},
   "source": [
    "### Notes\n",
    "\n",
    "There should be an initialization of the sample space using the initial parameter values. Something like a square centered on the initial values and with min/max that are +/- 10% of the nominal value."
   ]
  },
  {
   "cell_type": "code",
   "execution_count": null,
   "metadata": {},
   "outputs": [],
   "source": []
  }
 ],
 "metadata": {
  "kernelspec": {
   "display_name": "Python 2",
   "language": "python",
   "name": "python2"
  },
  "language_info": {
   "codemirror_mode": {
    "name": "ipython",
    "version": 2
   },
   "file_extension": ".py",
   "mimetype": "text/x-python",
   "name": "python",
   "nbconvert_exporter": "python",
   "pygments_lexer": "ipython2",
   "version": "2.7.12"
  },
  "toc": {
   "nav_menu": {},
   "number_sections": false,
   "sideBar": true,
   "skip_h1_title": false,
   "toc_cell": false,
   "toc_position": {},
   "toc_section_display": "block",
   "toc_window_display": true
  },
  "varInspector": {
   "cols": {
    "lenName": 16,
    "lenType": 16,
    "lenVar": 40
   },
   "kernels_config": {
    "python": {
     "delete_cmd_postfix": "",
     "delete_cmd_prefix": "del ",
     "library": "var_list.py",
     "varRefreshCmd": "print(var_dic_list())"
    },
    "r": {
     "delete_cmd_postfix": ") ",
     "delete_cmd_prefix": "rm(",
     "library": "var_list.r",
     "varRefreshCmd": "cat(var_dic_list()) "
    }
   },
   "types_to_exclude": [
    "module",
    "function",
    "builtin_function_or_method",
    "instance",
    "_Feature"
   ],
   "window_display": false
  }
 },
 "nbformat": 4,
 "nbformat_minor": 2
}
