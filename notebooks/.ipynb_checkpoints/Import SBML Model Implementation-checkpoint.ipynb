{
 "cells": [
  {
   "cell_type": "markdown",
   "metadata": {
    "toc": true
   },
   "source": [
    "<h1>Table of Contents<span class=\"tocSkip\"></span></h1>\n",
    "<div class=\"toc\" style=\"margin-top: 1em;\"><ul class=\"toc-item\"><li><ul class=\"toc-item\"><li><ul class=\"toc-item\"><li><span><a href=\"#Notebook-Description\" data-toc-modified-id=\"Notebook-Description-0.0.1\">Notebook Description</a></span></li><li><span><a href=\"#Importing-SBML-Model\" data-toc-modified-id=\"Importing-SBML-Model-0.0.2\">Importing SBML Model</a></span><ul class=\"toc-item\"><li><span><a href=\"#Construct-SciPyModel-Instance\" data-toc-modified-id=\"Construct-SciPyModel-Instance-0.0.2.1\">Construct SciPyModel Instance</a></span></li><li><span><a href=\"#User-File-Selection\" data-toc-modified-id=\"User-File-Selection-0.0.2.2\">User File Selection</a></span></li><li><span><a href=\"#Clean-SBML-File\" data-toc-modified-id=\"Clean-SBML-File-0.0.2.3\">Clean SBML File</a></span></li><li><span><a href=\"#Extract-MetaData\" data-toc-modified-id=\"Extract-MetaData-0.0.2.4\">Extract MetaData</a></span></li><li><span><a href=\"#Extract-Compartment-Data\" data-toc-modified-id=\"Extract-Compartment-Data-0.0.2.5\">Extract Compartment Data</a></span></li><li><span><a href=\"#Extract-Species-Data\" data-toc-modified-id=\"Extract-Species-Data-0.0.2.6\">Extract Species Data</a></span></li><li><span><a href=\"#Extract-Parameter-Data\" data-toc-modified-id=\"Extract-Parameter-Data-0.0.2.7\">Extract Parameter Data</a></span></li><li><span><a href=\"#Extract-Reaction-Data\" data-toc-modified-id=\"Extract-Reaction-Data-0.0.2.8\">Extract Reaction Data</a></span></li><li><span><a href=\"#Vectorize-Reaction-Declarations\" data-toc-modified-id=\"Vectorize-Reaction-Declarations-0.0.2.9\">Vectorize Reaction Declarations</a></span></li><li><span><a href=\"#Order-Reactions-by-Parameter-Index\" data-toc-modified-id=\"Order-Reactions-by-Parameter-Index-0.0.2.10\">Order Reactions by Parameter Index</a></span></li></ul></li><li><span><a href=\"#Final-Notes\" data-toc-modified-id=\"Final-Notes-0.0.3\">Final Notes</a></span></li></ul></li></ul></li></ul></div>"
   ]
  },
  {
   "cell_type": "markdown",
   "metadata": {},
   "source": [
    "### Notebook Description\n",
    "\n",
    "This notebook walks through the way in which an SBML version model is converted into a custom class `SciPyModel`. The process includes reading/storing the model information, automatically writing a function for use with `odeint`, and simulating the internal model."
   ]
  },
  {
   "cell_type": "markdown",
   "metadata": {},
   "source": [
    "### Importing SBML Model\n",
    "\n",
    "#### Construct SciPyModel Instance\n",
    "The SciPyModel is a custom class that is created by calling the `createSciPyModel` command."
   ]
  },
  {
   "cell_type": "code",
   "execution_count": null,
   "metadata": {
    "ExecuteTime": {
     "end_time": "2018-04-25T22:42:46.327287Z",
     "start_time": "2018-04-25T22:42:45.621610Z"
    }
   },
   "outputs": [],
   "source": [
    "import os, sys\n",
    "NotebookDirectory = os.path.split(os.getcwd())[0]\n",
    "if NotebookDirectory not in sys.path:\n",
    "    sys.path.append(NotebookDirectory)\n",
    "    \n",
    "import toolbox \n",
    "\n",
    "SciPyModel = toolbox.createSciPyModel()"
   ]
  },
  {
   "cell_type": "markdown",
   "metadata": {},
   "source": [
    "#### User File Selection\n",
    "\n",
    "The `Tkinter` module provides a quick way to open a file browser for user selection. A conditional statement is used to check if a model has already been opened in this session."
   ]
  },
  {
   "cell_type": "code",
   "execution_count": null,
   "metadata": {
    "ExecuteTime": {
     "end_time": "2018-04-25T22:42:50.884459Z",
     "start_time": "2018-04-25T22:42:46.332775Z"
    }
   },
   "outputs": [],
   "source": [
    "import Tkinter, tkFileDialog\n",
    "\n",
    "if SciPyModel.MetaData.FilePath == None:\n",
    "    Tkinter.Tk().withdraw()\n",
    "    SciPyModel.MetaData.FilePath = tkFileDialog.askopenfilename()\n",
    "else:\n",
    "    pass"
   ]
  },
  {
   "cell_type": "markdown",
   "metadata": {},
   "source": [
    "#### Clean SBML File\n",
    "\n",
    "Now we can open the SBML document in the file and make edits to ensure uniformity of input."
   ]
  },
  {
   "cell_type": "code",
   "execution_count": null,
   "metadata": {
    "ExecuteTime": {
     "end_time": "2018-04-25T22:42:51.033783Z",
     "start_time": "2018-04-25T22:42:50.891607Z"
    }
   },
   "outputs": [],
   "source": [
    "# Import required packages\n",
    "import libsbml\n",
    "\n",
    "# Read in SBML model file into SBML Document variable\n",
    "SBMLDoc = libsbml.readSBMLFromFile(SciPyModel.MetaData.FilePath)\n",
    "\n",
    "# Check if any major errors in reading SBML model\n",
    "# e.g. Filepath does not exist\n",
    "if SBMLDoc.getNumErrors() > 0:\n",
    "    print('ERROR: File reading errors.')\n",
    "    print(SBMLDoc.getErrorLog().toString())\n",
    "\n",
    "# Make all parameters of the model global parameters.\n",
    "# Enables all parameters to be vectorized.\n",
    "Properties = libsbml.ConversionProperties()\n",
    "Properties.addOption('promoteLocalParameters', True)\n",
    "if SBMLDoc.convert(Properties) != libsbml.LIBSBML_OPERATION_SUCCESS:\n",
    "    print('ERROR: Unable to convert parameters to global.')\n",
    "    print(SBMLDoc.getErrorLog().toString())\n",
    "\n",
    "# Write out all reaction-specific function definitions.\n",
    "# Enables all variables in reactions to be swapped with vectorized\n",
    "# versions.\n",
    "Properties = libsbml.ConversionProperties()\n",
    "Properties.addOption('expandFunctionDefinitions', True)\n",
    "if SBMLDoc.convert(Properties) != libsbml.LIBSBML_OPERATION_SUCCESS:\n",
    "    print('ERROR: Unable to expand internal function usage.')\n",
    "    print(SBMLDoc.getErrorLog().toString())\n",
    "\n",
    "# Write out all state variable and parameter initializations.\n",
    "# Enables this data to be placed into required SciPyModel object\n",
    "# places.\n",
    "Properties = libsbml.ConversionProperties()\n",
    "Properties.addOption('expandInitialAssignments', True)\n",
    "if SBMLDoc.convert(Properties) != libsbml.LIBSBML_OPERATION_SUCCESS:\n",
    "    print('ERROR: Unable to expand initial assignments.')\n",
    "    print(SBMLDoc.getErrorLog().toString())\n",
    "\n",
    "# Extract SBML Model object from SBML Document object.\n",
    "SBMLModel = SBMLDoc.getModel()"
   ]
  },
  {
   "cell_type": "markdown",
   "metadata": {},
   "source": [
    "#### Extract MetaData"
   ]
  },
  {
   "cell_type": "code",
   "execution_count": null,
   "metadata": {
    "ExecuteTime": {
     "end_time": "2018-04-25T22:42:51.126159Z",
     "start_time": "2018-04-25T22:42:51.055621Z"
    }
   },
   "outputs": [],
   "source": [
    "# -- Name, VolumeUnits, SubstanceUnits, TimeUnits\n",
    "SciPyModel.MetaData.Name = SBMLModel.getName()\n",
    "SciPyModel.MetaData.VolumeUnits = SBMLModel.getVolumeUnits()\n",
    "SciPyModel.MetaData.SubstanceUnits = SBMLModel.getSubstanceUnits()\n",
    "SciPyModel.MetaData.TimeUnits = SBMLModel.getTimeUnits()"
   ]
  },
  {
   "cell_type": "markdown",
   "metadata": {},
   "source": [
    "#### Extract Compartment Data"
   ]
  },
  {
   "cell_type": "code",
   "execution_count": null,
   "metadata": {
    "ExecuteTime": {
     "end_time": "2018-04-25T22:42:51.166776Z",
     "start_time": "2018-04-25T22:42:51.136537Z"
    }
   },
   "outputs": [],
   "source": [
    "# -- Quantity, Names, VectorIndex\n",
    "SciPyModel.Compartments.Quantity = SBMLModel.getNumCompartments()\n",
    "for i in range(SBMLModel.getNumCompartments()):\n",
    "    current_compartment = SBMLModel.getCompartment(i)\n",
    "    SciPyModel.Compartments.Names.append(current_compartment.name)\n",
    "    SciPyModel.Compartments.VectorIndex.append(i)\n",
    "    SciPyModel.Compartments.MetaID.append(current_compartment.meta_id)"
   ]
  },
  {
   "cell_type": "markdown",
   "metadata": {},
   "source": [
    "#### Extract Species Data"
   ]
  },
  {
   "cell_type": "code",
   "execution_count": null,
   "metadata": {
    "ExecuteTime": {
     "end_time": "2018-04-25T22:42:51.202528Z",
     "start_time": "2018-04-25T22:42:51.180510Z"
    }
   },
   "outputs": [],
   "source": [
    "# -- Quanity, Names, Value, VectorIndex, BoundaryValue\n",
    "SciPyModel.Species.Quantity = SBMLModel.getNumSpecies()\n",
    "for i in range(SBMLModel.getNumSpecies()):\n",
    "    current_species = SBMLModel.getSpecies(i)\n",
    "    SciPyModel.Species.Names.append(current_species.name)\n",
    "    SciPyModel.Species.Value.append(current_species.initial_amount)\n",
    "    SciPyModel.Species.VectorIndex.append(i)\n",
    "    SciPyModel.Species.BoundaryValue.append(current_species.boundary_condition)\n",
    "    SciPyModel.Species.MetaID.append(current_species.meta_id)"
   ]
  },
  {
   "cell_type": "markdown",
   "metadata": {},
   "source": [
    "#### Extract Parameter Data"
   ]
  },
  {
   "cell_type": "code",
   "execution_count": null,
   "metadata": {
    "ExecuteTime": {
     "end_time": "2018-04-25T22:42:51.253845Z",
     "start_time": "2018-04-25T22:42:51.213154Z"
    }
   },
   "outputs": [],
   "source": [
    "# -- Quantity, Names, Value, VectorIndex\n",
    "SciPyModel.Parameters.Quantity = SBMLModel.getNumParameters()\n",
    "for i in range(SBMLModel.getNumParameters()):\n",
    "    current_parameter = SBMLModel.getParameter(i)\n",
    "    SciPyModel.Parameters.Names.append(current_parameter.name)\n",
    "    SciPyModel.Parameters.Value.append(current_parameter.value)\n",
    "    SciPyModel.Parameters.VectorIndex.append(i)\n",
    "    SciPyModel.Parameters.MetaID.append(current_parameter.meta_id)"
   ]
  },
  {
   "cell_type": "markdown",
   "metadata": {},
   "source": [
    "#### Extract Reaction Data\n",
    "\n",
    "Requires use of `NumPy` module."
   ]
  },
  {
   "cell_type": "code",
   "execution_count": null,
   "metadata": {
    "ExecuteTime": {
     "end_time": "2018-04-25T22:42:51.464286Z",
     "start_time": "2018-04-25T22:42:51.263376Z"
    }
   },
   "outputs": [],
   "source": [
    "import numpy\n",
    "\n",
    "# -- Names, Formulas, Stoichiometry\n",
    "SciPyModel.Reactions.Stoichiometry = numpy.zeros(\n",
    "    [SBMLModel.getNumSpecies(),\n",
    "     SBMLModel.getNumReactions()])\n",
    "SciPyModel.Reactions.Quantity = SBMLModel.getNumReactions()\n",
    "for i in range(SBMLModel.getNumReactions()):\n",
    "    current_reaction = SBMLModel.getReaction(i)\n",
    "    SciPyModel.Reactions.Names.append(current_reaction.name)\n",
    "    SciPyModel.Reactions.Formulas.append(\n",
    "        current_reaction.getKineticLaw().getFormula())\n",
    "\n",
    "    # Try-Except in order to see if Names or MetaID are used in the functions\n",
    "    try:\n",
    "        for r in current_reaction.getListOfReactants():\n",
    "            SciPyModel.Reactions.Stoichiometry[SciPyModel.Species.Names.index(\n",
    "                r.getSpecies()), i] -= r.getStoichiometry()\n",
    "        for p in current_reaction.getListOfProducts():\n",
    "            SciPyModel.Reactions.Stoichiometry[SciPyModel.Species.Names.index(\n",
    "                p.getSpecies()), i] += p.getStoichiometry()\n",
    "    except ValueError:\n",
    "        for r in current_reaction.getListOfReactants():\n",
    "            SciPyModel.Reactions.Stoichiometry[SciPyModel.Species.MetaID.index(\n",
    "                r.getSpecies()), i] -= r.getStoichiometry()\n",
    "        for p in current_reaction.getListOfProducts():\n",
    "            SciPyModel.Reactions.Stoichiometry[SciPyModel.Species.MetaID.index(\n",
    "                p.getSpecies()), i] += p.getStoichiometry()\n",
    "    else:\n",
    "        print 'ERROR: Unable to create Stoichiometric Matrix. Check species name/metaid.'\n",
    "\n",
    "    # Remove Stoichiometry of Boundary State Variables\n",
    "    for s in range(SciPyModel.Species.Quantity):\n",
    "        if SciPyModel.Species.BoundaryValue[s]:\n",
    "            SciPyModel.Reactions.Stoichiometry[s, :] = numpy.zeros(\n",
    "                (1, SciPyModel.Reactions.Quantity))"
   ]
  },
  {
   "cell_type": "markdown",
   "metadata": {
    "ExecuteTime": {
     "end_time": "2018-04-17T14:09:02.920405Z",
     "start_time": "2018-04-17T14:09:02.746860Z"
    }
   },
   "source": [
    "#### Vectorize Reaction Declarations"
   ]
  },
  {
   "cell_type": "code",
   "execution_count": null,
   "metadata": {
    "ExecuteTime": {
     "end_time": "2018-04-25T22:42:51.560800Z",
     "start_time": "2018-04-25T22:42:51.481779Z"
    }
   },
   "outputs": [],
   "source": [
    "# Vectorize Functions within SciPyModel object.\n",
    "for rxn_ix in range(SciPyModel.Reactions.Quantity):\n",
    "\n",
    "    # Get information about the current reaction\n",
    "    Formula = SciPyModel.Reactions.Formulas[rxn_ix]\n",
    "    \n",
    "    # Removes usage of compartments from reaction equations.\n",
    "    for j in reversed(range(SciPyModel.Compartments.Quantity)):\n",
    "        if SciPyModel.Compartments.Names[j] != '':  # If name isn't empty\n",
    "            Formula = Formula.replace(SciPyModel.Compartments.Names[j] + ' * ',\n",
    "                                      '')\n",
    "            Formula = Formula.replace(' * ' + SciPyModel.Compartments.Names[j],\n",
    "                                      '')\n",
    "            Formula = Formula.replace(' / ' + SciPyModel.Compartments.Names[j],\n",
    "                                      '')\n",
    "    \n",
    "    # Replace parameter names with index of vectorized parameter array.\n",
    "    # Iterates through parameter names sorted by length of name.\n",
    "    for key in sorted(\n",
    "            SciPyModel.Parameters.Names, key=len, reverse=True):\n",
    "        if key != '':\n",
    "            Formula = Formula.replace(key, 'p[' + str(\n",
    "                SciPyModel.Parameters.Names.index(key)) + ']')\n",
    "\n",
    "    for key in sorted(\n",
    "            SciPyModel.Parameters.MetaID, key=len, reverse=True):\n",
    "        if key != '':\n",
    "            Formula = Formula.replace(key, 'p[' + str(\n",
    "                SciPyModel.Parameters.MetaID.index(key)) + ']')\n",
    "            \n",
    "    # Replace species names with index of species parameter array.\n",
    "    for key in sorted(SciPyModel.Species.Names, key=len, reverse=True):\n",
    "        if key != '':\n",
    "            Formula = Formula.replace(\n",
    "                key, 'y[' + str(SciPyModel.Species.Names.index(key)) + ']')\n",
    "            \n",
    "    for key in sorted(SciPyModel.Species.MetaID, key=len, reverse=True):\n",
    "        if key != '':\n",
    "            Formula = Formula.replace(\n",
    "                key, 'y[' + str(SciPyModel.Species.MetaID.index(key)) + ']')\n",
    "            \n",
    "    # Reset formula declaration in SciPyModel class\n",
    "    SciPyModel.Reactions.Formulas[rxn_ix] = Formula"
   ]
  },
  {
   "cell_type": "markdown",
   "metadata": {},
   "source": [
    "#### Order Reactions by Parameter Index\n",
    "\n",
    "This is key to ensuring a proper deployment of the nullspace matrix for parameter sampling using a steady-state condition."
   ]
  },
  {
   "cell_type": "code",
   "execution_count": null,
   "metadata": {
    "ExecuteTime": {
     "end_time": "2018-04-25T22:42:51.618023Z",
     "start_time": "2018-04-25T22:42:51.582901Z"
    }
   },
   "outputs": [],
   "source": [
    "# Grab indecies of kinetic rate constant parameters\n",
    "ReactionIndex = []\n",
    "for rxn_ix in range(SciPyModel.Reactions.Quantity):\n",
    "    ReactionIndex.append(\n",
    "        int(SciPyModel.Reactions.Formulas[rxn_ix].split(']')[0].split('[')[\n",
    "            -1]))\n",
    "\n",
    "# Order the parameters and track the internal index ordering\n",
    "SortedIndex = [\n",
    "    i[0] for i in sorted(enumerate(ReactionIndex), key=lambda x: x[1])\n",
    "]\n",
    "\n",
    "# Apply the index ordering to order the formula vector\n",
    "SciPyModel.Reactions.Formulas = [\n",
    "    SciPyModel.Reactions.Formulas[i] for i in SortedIndex\n",
    "]\n",
    "\n",
    "# Apply the index ordering to order the stoichiometry matrix\n",
    "SciPyModel.Reactions.Stoichiometry = numpy.vstack([\n",
    "    SciPyModel.Reactions.Stoichiometry[:, i] for i in SortedIndex\n",
    "]).transpose()"
   ]
  },
  {
   "cell_type": "markdown",
   "metadata": {},
   "source": [
    "### Final Notes\n",
    "\n",
    "Once the SBML model has been imported, several analysis methods become readily available thought the `SBML-Analysis-Toolbox`. These functions can be called through the `toolbox` module.\n",
    "\n",
    "Full discussion of these implementations can be found in their respective notebooks."
   ]
  },
  {
   "cell_type": "code",
   "execution_count": null,
   "metadata": {},
   "outputs": [],
   "source": []
  }
 ],
 "metadata": {
  "kernelspec": {
   "display_name": "Python 2",
   "language": "python",
   "name": "python2"
  },
  "language_info": {
   "codemirror_mode": {
    "name": "ipython",
    "version": 2
   },
   "file_extension": ".py",
   "mimetype": "text/x-python",
   "name": "python",
   "nbconvert_exporter": "python",
   "pygments_lexer": "ipython2",
   "version": "2.7.12"
  },
  "toc": {
   "nav_menu": {},
   "number_sections": false,
   "sideBar": true,
   "skip_h1_title": false,
   "toc_cell": true,
   "toc_position": {},
   "toc_section_display": "block",
   "toc_window_display": true
  },
  "varInspector": {
   "cols": {
    "lenName": 16,
    "lenType": 16,
    "lenVar": 40
   },
   "kernels_config": {
    "python": {
     "delete_cmd_postfix": "",
     "delete_cmd_prefix": "del ",
     "library": "var_list.py",
     "varRefreshCmd": "print(var_dic_list())"
    },
    "r": {
     "delete_cmd_postfix": ") ",
     "delete_cmd_prefix": "rm(",
     "library": "var_list.r",
     "varRefreshCmd": "cat(var_dic_list()) "
    }
   },
   "types_to_exclude": [
    "module",
    "function",
    "builtin_function_or_method",
    "instance",
    "_Feature"
   ],
   "window_display": false
  }
 },
 "nbformat": 4,
 "nbformat_minor": 2
}
