{
 "cells": [
  {
   "cell_type": "markdown",
   "metadata": {},
   "source": [
    "### Notebook Description\n",
    "\n",
    "This notebook walks through the implementation found in the `writeODEFunction` file.\n",
    "\n",
    "#### Initialization\n",
    "\n",
    "Before this code can be run, a `SciPyModel` instance must be created and an SBML model must be imported."
   ]
  },
  {
   "cell_type": "code",
   "execution_count": 2,
   "metadata": {
    "ExecuteTime": {
     "end_time": "2018-04-25T23:01:29.304612Z",
     "start_time": "2018-04-25T23:01:03.582478Z"
    }
   },
   "outputs": [],
   "source": [
    "import os, sys\n",
    "NotebookDirectory = os.path.split(os.getcwd())[0]\n",
    "if NotebookDirectory not in sys.path:\n",
    "    sys.path.append(NotebookDirectory)\n",
    "    \n",
    "import toolbox \n",
    "\n",
    "SciPyModel = toolbox.sbml.importSBMLFile( toolbox.createSciPyModel() )"
   ]
  },
  {
   "cell_type": "markdown",
   "metadata": {},
   "source": [
    "### Constructing Model Function\n",
    "\n",
    "#### Create Function String\n",
    "\n",
    "Creating the actual function to evaluate the time-derivative of the model is straight-forward once in the SciPyModel class format. We simply create and extend a bytearray containing the lines of code required for execution."
   ]
  },
  {
   "cell_type": "code",
   "execution_count": 4,
   "metadata": {
    "ExecuteTime": {
     "end_time": "2018-04-25T23:01:42.622241Z",
     "start_time": "2018-04-25T23:01:42.529867Z"
    }
   },
   "outputs": [
    {
     "name": "stdout",
     "output_type": "stream",
     "text": [
      "from __future__ import division \n",
      "import numpy, sympy \n",
      "\n",
      "def ode_fun( y, t, p ): \n",
      "\n",
      "    rxn = numpy.zeros([5]) \n",
      "    # Clearance_C\n",
      "    rxn[0] = p[0] * y[2] / (y[2] + p[5])\n",
      "    # Clearance_Kd\n",
      "    rxn[1] = p[1] * y[2]\n",
      "    # Differentiation_Kq\n",
      "    rxn[2] = p[2] * y[3]\n",
      "    # Production_C\n",
      "    rxn[3] = p[3] * y[2] / (y[2] + p[6])\n",
      "    # Proliferation_Kq\n",
      "    rxn[4] = p[4] * y[4]\n",
      "\n",
      "    S = numpy.array([[ 0.,  0.,  0.,  0.,  0.],\n",
      "       [ 0.,  0.,  0.,  0.,  0.],\n",
      "       [ 1., -1.,  0.,  0.,  0.],\n",
      "       [ 0.,  1., -1.,  0.,  0.],\n",
      "       [ 0.,  0.,  0.,  1., -1.]])\n",
      "    \n",
      "    dy = S.dot(rxn) \n",
      "    return dy \n",
      "\n",
      "\n",
      "def rxn_fun( y, t, p ): \n",
      "\n",
      "    rxn = sympy.zeros(5,1) \n",
      "    # Clearance_C\n",
      "    rxn[0] = p[0] * y[2] / (y[2] + p[5])\n",
      "    # Clearance_Kd\n",
      "    rxn[1] = p[1] * y[2]\n",
      "    # Differentiation_Kq\n",
      "    rxn[2] = p[2] * y[3]\n",
      "    # Production_C\n",
      "    rxn[3] = p[3] * y[2] / (y[2] + p[6])\n",
      "    # Proliferation_Kq\n",
      "    rxn[4] = p[4] * y[4]\n",
      "    return rxn \n",
      "\n"
     ]
    }
   ],
   "source": [
    "# Write header information for the derivative function file.\n",
    "generated_code = bytearray('')\n",
    "generated_code.extend('from __future__ import division \\n')\n",
    "generated_code.extend('import numpy, sympy \\n')\n",
    "generated_code.extend('\\n')\n",
    "generated_code.extend('def ode_fun( y, t, p ): \\n')\n",
    "generated_code.extend('\\n')\n",
    "generated_code.extend(\n",
    "    '    rxn = numpy.zeros([' + str(SciPyModel.Reactions.Quantity) + ']) \\n')\n",
    "\n",
    "# Loop over each reaction within the SciPyModel object.\n",
    "for rxn_ix in range(SciPyModel.Reactions.Quantity):\n",
    "\n",
    "    # Get information about the current reaction\n",
    "    Formula = SciPyModel.Reactions.Formulas[rxn_ix]\n",
    "\n",
    "    # Append each formula declaration to the growing output bytearray.\n",
    "    generated_code.extend(\n",
    "        '    # ' + SciPyModel.Reactions.Names[rxn_ix] + '\\n')\n",
    "    generated_code.extend('    rxn[' + str(rxn_ix) + '] = ' + Formula + '\\n')\n",
    "\n",
    "# Write out footer information for the derivative function file\n",
    "generated_code.extend('\\n')\n",
    "generated_code.extend('    S = numpy.' + repr(SciPyModel.Reactions.Stoichiometry) \n",
    "                      + '\\n')\n",
    "generated_code.extend('    \\n')\n",
    "generated_code.extend('    dy = S.dot(rxn) \\n')\n",
    "generated_code.extend('    return dy \\n')\n",
    "\n",
    "\n",
    "# Write function definition for reactions -- edit this to isolate shape/kinetic parameters\n",
    "generated_code.extend('\\n')\n",
    "generated_code.extend('\\n')\n",
    "generated_code.extend('def rxn_fun( y, t, p ): \\n')\n",
    "generated_code.extend('\\n')\n",
    "generated_code.extend(\n",
    "    '    rxn = sympy.zeros(' + str(SciPyModel.Reactions.Quantity) + ',1) \\n')\n",
    "for rxn_ix in range(SciPyModel.Reactions.Quantity):\n",
    "    Formula = SciPyModel.Reactions.Formulas[rxn_ix]\n",
    "    generated_code.extend(\n",
    "        '    # ' + SciPyModel.Reactions.Names[rxn_ix] + '\\n')\n",
    "    generated_code.extend('    rxn[' + str(rxn_ix) + '] = ' + Formula + '\\n')\n",
    "generated_code.extend('    return rxn \\n')\n",
    "\n",
    "\n",
    "# Place generated bytearray code into the derivative function\n",
    "SciPyModel.ToolboxFunctions.DerivativeFunction = generated_code\n",
    "\n",
    "print generated_code"
   ]
  },
  {
   "cell_type": "code",
   "execution_count": null,
   "metadata": {},
   "outputs": [],
   "source": []
  }
 ],
 "metadata": {
  "kernelspec": {
   "display_name": "Python 2",
   "language": "python",
   "name": "python2"
  },
  "language_info": {
   "codemirror_mode": {
    "name": "ipython",
    "version": 2
   },
   "file_extension": ".py",
   "mimetype": "text/x-python",
   "name": "python",
   "nbconvert_exporter": "python",
   "pygments_lexer": "ipython2",
   "version": "2.7.12"
  },
  "toc": {
   "nav_menu": {},
   "number_sections": true,
   "sideBar": true,
   "skip_h1_title": false,
   "toc_cell": false,
   "toc_position": {},
   "toc_section_display": "block",
   "toc_window_display": false
  },
  "varInspector": {
   "cols": {
    "lenName": 16,
    "lenType": 16,
    "lenVar": 40
   },
   "kernels_config": {
    "python": {
     "delete_cmd_postfix": "",
     "delete_cmd_prefix": "del ",
     "library": "var_list.py",
     "varRefreshCmd": "print(var_dic_list())"
    },
    "r": {
     "delete_cmd_postfix": ") ",
     "delete_cmd_prefix": "rm(",
     "library": "var_list.r",
     "varRefreshCmd": "cat(var_dic_list()) "
    }
   },
   "types_to_exclude": [
    "module",
    "function",
    "builtin_function_or_method",
    "instance",
    "_Feature"
   ],
   "window_display": false
  }
 },
 "nbformat": 4,
 "nbformat_minor": 2
}
