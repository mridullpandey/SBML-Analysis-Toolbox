{
 "cells": [
  {
   "cell_type": "code",
   "execution_count": 1,
   "metadata": {
    "ExecuteTime": {
     "end_time": "2018-04-27T17:43:31.153333Z",
     "start_time": "2018-04-27T17:43:30.605698Z"
    }
   },
   "outputs": [],
   "source": [
    "import os, sys\n",
    "NotebookDirectory = os.path.split(os.getcwd())[0]\n",
    "if NotebookDirectory not in sys.path:\n",
    "    sys.path.append(NotebookDirectory)\n",
    "import toolbox"
   ]
  },
  {
   "cell_type": "code",
   "execution_count": 2,
   "metadata": {
    "ExecuteTime": {
     "end_time": "2018-04-27T17:43:36.208987Z",
     "start_time": "2018-04-27T17:43:31.159267Z"
    }
   },
   "outputs": [],
   "source": [
    "SciPyModel = toolbox.sbml.importSBMLFile(toolbox.createSciPyModel())\n",
    "SciPyModel = toolbox.simulation.writeODEFunction( SciPyModel )\n",
    "SciPyModel = toolbox.sampling.createNullSpaceFunction(SciPyModel)"
   ]
  },
  {
   "cell_type": "markdown",
   "metadata": {},
   "source": [
    "First we need to ensure the model contains the desired parameterization. This is done by running the parameter estimation script with a properly formatted input set of data. \n",
    "\n",
    "In lieu of this implementation, we will choose a random steady-state parameterization to use in this notebook."
   ]
  },
  {
   "cell_type": "code",
   "execution_count": 3,
   "metadata": {
    "ExecuteTime": {
     "end_time": "2018-04-27T17:43:36.260473Z",
     "start_time": "2018-04-27T17:43:36.218387Z"
    }
   },
   "outputs": [],
   "source": [
    "import numpy\n",
    "\n",
    "SciPyModel.Parameters.MinimumValue = numpy.zeros(\n",
    "    SciPyModel.Parameters.Quantity)\n",
    "SciPyModel.Parameters.MaximumValue = numpy.ones(\n",
    "    SciPyModel.Parameters.Quantity) * 2.\n",
    "SciPyModel.SimulationData.Sensitivity.Global.NumSamples = 25\n",
    "\n",
    "SciPyModel = toolbox.sampling.uniformNullSpaceSample(SciPyModel)\n",
    "\n",
    "SciPyModel.Parameters.Value = SciPyModel.SimulationData.Sensitivity.Global.ParameterSets[\n",
    "    numpy.random.randint(25), :]"
   ]
  },
  {
   "cell_type": "markdown",
   "metadata": {},
   "source": [
    "The local sensitivity analysis implementation relies on employing the centered difference method to numerically estimate the value of $\\frac{d x_j}{d p_i} \\frac{p_i}{x_{j}}$ where $x_j$ is the j-th species and $p_i$ is the i-th parameter.\n",
    "\n",
    "The centered difference method applies a linear approximation which assumes the model, as a function of parameters, exhibits unimodal continuity.\n",
    "\n",
    "\\begin{equation*}\n",
    "\\frac{d x_j}{d p_i} ~=~ \\frac{x_j^+ - x_j^-}{p_i^+ - p_i^-} ~=~ \\frac{x_j^+ - x_j^-}{p_i(1+q) - p_i(1-q)} ~=~\\frac{x_j^+ - x_j^-}{2 q p_i} \n",
    "\\end{equation*}\n",
    "\n",
    "Hence once we normalize this equation to the base simulation we see the equation reduce to the following.\n",
    "\n",
    "\\begin{equation*}\n",
    "\\frac{d x_j}{d p_i}\\frac{p_i}{x_j} ~=~ \\frac{x_j^+ - x_j^-}{2 q p_i}\\frac{p_i}{x_j} ~=~ \\frac{x_j^+ - x_j^-}{2 q x_j}\n",
    "\\end{equation*}\n",
    "\n",
    "Based on the equation above, we see that for each parameter sensitivity there are two simulations that must be run: a \"high parameter\" and \"low parameter\" simulation."
   ]
  },
  {
   "cell_type": "code",
   "execution_count": 4,
   "metadata": {
    "ExecuteTime": {
     "end_time": "2018-04-27T17:43:36.500719Z",
     "start_time": "2018-04-27T17:43:36.279810Z"
    }
   },
   "outputs": [
    {
     "name": "stderr",
     "output_type": "stream",
     "text": [
      "/usr/local/lib/python2.7/dist-packages/ipykernel_launcher.py:40: RuntimeWarning: invalid value encountered in divide\n"
     ]
    }
   ],
   "source": [
    "# Set Simulation Paraeters\n",
    "SciPyModel.SimulationData.TimeStart = 0\n",
    "SciPyModel.SimulationData.TimeEnd = 10\n",
    "SciPyModel.SimulationData.DataPoints = 10\n",
    "\n",
    "# Integrate Base Simulation\n",
    "SciPyModel = toolbox.simulation.integrateODEFunction(SciPyModel)\n",
    "BaseSimulation = SciPyModel.SimulationData.Deterministic.Data[:, :]\n",
    "\n",
    "# Create Holder for Base Parameterization\n",
    "BaseParameters = SciPyModel.Parameters.Value[:]\n",
    "\n",
    "# Set Local Sensitivity Parameters\n",
    "SciPyModel.SimulationData.Sensitivity.Local.PercentVary = 0.10\n",
    "\n",
    "# Initialize Sensitivity Capture Array\n",
    "SciPyModel.SimulationData.Sensitivity.Local.Data = numpy.empty(\n",
    "    (SciPyModel.Parameters.Quantity, SciPyModel.SimulationData.DataPoints,\n",
    "     SciPyModel.Species.Quantity))\n",
    "\n",
    "for i in range(SciPyModel.Parameters.Quantity):\n",
    "    # Reset Parameter Values\n",
    "    SciPyModel.Parameters.Value = BaseParameters\n",
    "\n",
    "    # High Parameter Simulation\n",
    "    SciPyModel.Parameters.Value[i] = BaseParameters[i] * (\n",
    "        1 + SciPyModel.SimulationData.Sensitivity.Local.PercentVary)\n",
    "    SciPyModel = toolbox.simulation.integrateODEFunction(SciPyModel)\n",
    "    HiSimulation = SciPyModel.SimulationData.Deterministic.Data[:, :]\n",
    "\n",
    "    # Low Parameter Simulation\n",
    "    SciPyModel.Parameters.Value[i] = BaseParameters[i] * (\n",
    "        1 - SciPyModel.SimulationData.Sensitivity.Local.PercentVary)\n",
    "    SciPyModel = toolbox.simulation.integrateODEFunction(SciPyModel)\n",
    "    LoSimulation = SciPyModel.SimulationData.Deterministic.Data[:, :]\n",
    "\n",
    "    # Calculate Sensitivities\n",
    "    SciPyModel.SimulationData.Sensitivity.Local.Data[i, :, :] = (\n",
    "        HiSimulation - LoSimulation) / (2 * BaseSimulation[\n",
    "            i] * SciPyModel.SimulationData.Sensitivity.Local.PercentVary)"
   ]
  },
  {
   "cell_type": "markdown",
   "metadata": {},
   "source": [
    "The pre-written, basic visualization implementation included in the Toolbox can be seen below. This can be called immediately following execution of the local sensitivity analysis function."
   ]
  },
  {
   "cell_type": "code",
   "execution_count": 5,
   "metadata": {
    "ExecuteTime": {
     "end_time": "2018-04-27T17:43:38.453463Z",
     "start_time": "2018-04-27T17:43:36.515931Z"
    }
   },
   "outputs": [
    {
     "data": {
      "text/plain": [
       "<matplotlib.figure.Figure at 0x7f0bf3f96350>"
      ]
     },
     "metadata": {},
     "output_type": "display_data"
    }
   ],
   "source": [
    "# Import required packages\n",
    "from matplotlib import pyplot as plt\n",
    "# Close previous figures\n",
    "plt.close()\n",
    "# Create new figure of required size\n",
    "plt.figure(figsize=(15, 5 * SciPyModel.Species.Quantity))\n",
    "# Pad the subplots with whitespace for clarity\n",
    "plt.subplots_adjust(hspace=1.0)\n",
    "# Loop over each species\n",
    "for ix in range(SciPyModel.Species.Quantity):\n",
    "    # Select current left-column subplot\n",
    "    plt.subplot(SciPyModel.Species.Quantity, 2, 2 * ix + 1)\n",
    "    # Plot local sensitivities over time\n",
    "    PlotHandles = plt.plot(\n",
    "        SciPyModel.SimulationData.Deterministic.TimeVector,\n",
    "        SciPyModel.SimulationData.Sensitivity.Local.Data[:, :, ix].transpose())\n",
    "    # Title the plot\n",
    "    plt.title(\n",
    "        'Normalized Local Sensitivities for ' + SciPyModel.Species.Names[ix])\n",
    "    # Lable the axis\n",
    "    plt.xlabel('Time')\n",
    "    plt.ylabel('Normalized Sensitivity')\n",
    "    # Turn the grid on\n",
    "    plt.grid()\n",
    "    # Add legend to plot below the xaxis\n",
    "    plt.legend(\n",
    "        PlotHandles,\n",
    "        SciPyModel.Parameters.Names,\n",
    "        bbox_to_anchor=(0., -.225, 1., 0),\n",
    "        ncol=3,\n",
    "        mode=\"expand\",\n",
    "        borderaxespad=0.)\n",
    "    # Select the right-column plot\n",
    "    plt.subplot(SciPyModel.Species.Quantity, 2, 2 * ix + 2)\n",
    "    # Plot the bargraph of sensitivities at ending time\n",
    "    plt.bar(\n",
    "        range(SciPyModel.Parameters.Quantity),\n",
    "        SciPyModel.SimulationData.Sensitivity.Local.Data[:, -1, ix])\n",
    "    # Change the xticks to parameter names\n",
    "    plt.xticks(\n",
    "        range(SciPyModel.Parameters.Quantity),\n",
    "        SciPyModel.Parameters.Names,\n",
    "        rotation=40)\n",
    "    # Turn grid on for clarity\n",
    "    plt.grid()\n",
    "    # Title the plots for clarity\n",
    "    plt.title('Normalized Local Sensitivities for ' +\n",
    "              SciPyModel.Species.Names[ix] + 'at Time ' +\n",
    "              str(SciPyModel.SimulationData.Deterministic.TimeVector[-1]))\n",
    "    # Add ylabel\n",
    "    plt.ylabel('Normalized Sensitivity')\n",
    "# Display the plots\n",
    "plt.show()"
   ]
  },
  {
   "cell_type": "markdown",
   "metadata": {},
   "source": [
    "Demonstrate usage of the implementations."
   ]
  },
  {
   "cell_type": "code",
   "execution_count": 6,
   "metadata": {
    "ExecuteTime": {
     "end_time": "2018-04-27T17:43:38.739872Z",
     "start_time": "2018-04-27T17:43:38.461193Z"
    }
   },
   "outputs": [
    {
     "ename": "NameError",
     "evalue": "global name 'numpy' is not defined",
     "output_type": "error",
     "traceback": [
      "\u001b[0;31m\u001b[0m",
      "\u001b[0;31mNameError\u001b[0mTraceback (most recent call last)",
      "\u001b[0;32m<ipython-input-6-6391eed43cbd>\u001b[0m in \u001b[0;36m<module>\u001b[0;34m()\u001b[0m\n\u001b[0;32m----> 1\u001b[0;31m \u001b[0mSciPyModel\u001b[0m \u001b[0;34m=\u001b[0m \u001b[0mtoolbox\u001b[0m\u001b[0;34m.\u001b[0m\u001b[0msimulation\u001b[0m\u001b[0;34m.\u001b[0m\u001b[0mcalculateLocalSensitivities\u001b[0m\u001b[0;34m(\u001b[0m \u001b[0mSciPyModel\u001b[0m \u001b[0;34m)\u001b[0m\u001b[0;34m\u001b[0m\u001b[0m\n\u001b[0m\u001b[1;32m      2\u001b[0m \u001b[0mtoolbox\u001b[0m\u001b[0;34m.\u001b[0m\u001b[0mvisuals\u001b[0m\u001b[0;34m.\u001b[0m\u001b[0mlocalSensitivities\u001b[0m\u001b[0;34m(\u001b[0m\u001b[0mSciPyModel\u001b[0m\u001b[0;34m)\u001b[0m\u001b[0;34m\u001b[0m\u001b[0m\n",
      "\u001b[0;32m/home/kevin/Documents/SBML-Analysis-Toolbox/toolbox/simulation/calculateLocalSensitivities.py\u001b[0m in \u001b[0;36mcalculateLocalSensitivities\u001b[0;34m(SciPyModel)\u001b[0m\n\u001b[1;32m     62\u001b[0m \u001b[0;34m\u001b[0m\u001b[0m\n\u001b[1;32m     63\u001b[0m     \u001b[0;31m# Initialize Sensitivity Capture Array\u001b[0m\u001b[0;34m\u001b[0m\u001b[0;34m\u001b[0m\u001b[0m\n\u001b[0;32m---> 64\u001b[0;31m     SciPyModel.SimulationData.Sensitivity.Local.Data = numpy.empty(\n\u001b[0m\u001b[1;32m     65\u001b[0m         (SciPyModel.Parameters.Quantity, SciPyModel.SimulationData.DataPoints,\n\u001b[1;32m     66\u001b[0m          SciPyModel.Species.Quantity))\n",
      "\u001b[0;31mNameError\u001b[0m: global name 'numpy' is not defined"
     ]
    }
   ],
   "source": [
    "SciPyModel = toolbox.simulation.calculateLocalSensitivities( SciPyModel )\n",
    "toolbox.visuals.localSensitivities(SciPyModel)"
   ]
  }
 ],
 "metadata": {
  "kernelspec": {
   "display_name": "Python 2",
   "language": "python",
   "name": "python2"
  },
  "language_info": {
   "codemirror_mode": {
    "name": "ipython",
    "version": 2
   },
   "file_extension": ".py",
   "mimetype": "text/x-python",
   "name": "python",
   "nbconvert_exporter": "python",
   "pygments_lexer": "ipython2",
   "version": "2.7.12"
  },
  "toc": {
   "nav_menu": {},
   "number_sections": true,
   "sideBar": true,
   "skip_h1_title": false,
   "toc_cell": false,
   "toc_position": {},
   "toc_section_display": "block",
   "toc_window_display": false
  },
  "varInspector": {
   "cols": {
    "lenName": 16,
    "lenType": 16,
    "lenVar": 40
   },
   "kernels_config": {
    "python": {
     "delete_cmd_postfix": "",
     "delete_cmd_prefix": "del ",
     "library": "var_list.py",
     "varRefreshCmd": "print(var_dic_list())"
    },
    "r": {
     "delete_cmd_postfix": ") ",
     "delete_cmd_prefix": "rm(",
     "library": "var_list.r",
     "varRefreshCmd": "cat(var_dic_list()) "
    }
   },
   "types_to_exclude": [
    "module",
    "function",
    "builtin_function_or_method",
    "instance",
    "_Feature"
   ],
   "window_display": false
  }
 },
 "nbformat": 4,
 "nbformat_minor": 2
}
