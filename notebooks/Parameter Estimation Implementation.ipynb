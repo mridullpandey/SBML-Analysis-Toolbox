{
 "cells": [
  {
   "cell_type": "markdown",
   "metadata": {
    "toc": true
   },
   "source": [
    "<h1>Table of Contents<span class=\"tocSkip\"></span></h1>\n",
    "<div class=\"toc\" style=\"margin-top: 1em;\"><ul class=\"toc-item\"><li><ul class=\"toc-item\"><li><ul class=\"toc-item\"><li><span><a href=\"#Notebook-Description\" data-toc-modified-id=\"Notebook-Description-0.0.1\">Notebook Description</a></span><ul class=\"toc-item\"><li><span><a href=\"#Initialization\" data-toc-modified-id=\"Initialization-0.0.1.1\">Initialization</a></span></li></ul></li><li><span><a href=\"#Parameter-Estimation-Implementation\" data-toc-modified-id=\"Parameter-Estimation-Implementation-0.0.2\">Parameter Estimation Implementation</a></span><ul class=\"toc-item\"><li><span><a href=\"#Simulate-Each-Parameter-Set\" data-toc-modified-id=\"Simulate-Each-Parameter-Set-0.0.2.1\">Simulate Each Parameter Set</a></span></li><li><span><a href=\"#Visualize-Initial-Best-Parameter-Fit\" data-toc-modified-id=\"Visualize-Initial-Best-Parameter-Fit-0.0.2.2\">Visualize Initial Best Parameter Fit</a></span></li></ul></li></ul></li></ul></li></ul></div>"
   ]
  },
  {
   "cell_type": "markdown",
   "metadata": {},
   "source": [
    "### Notebook Description\n",
    "\n",
    "This notebook walks through the implementation of a steepest-descent parameter estimation method using the Euclidean 2-norm as a cost function. The method is intended to be used after several steady-state parameterizations are created.\n",
    "\n",
    "The implementation will be modular in form so as to allow the use of any $\\mathbb{L}$-norm, in particular the 1-norm and the $\\infty$-norm. Also in some circumstances, the Newton descent method can be used to greatly accelerate optimization.\n",
    "\n",
    "#### Initialization"
   ]
  },
  {
   "cell_type": "code",
   "execution_count": 1,
   "metadata": {
    "ExecuteTime": {
     "end_time": "2018-04-26T15:58:48.747766Z",
     "start_time": "2018-04-26T15:58:48.137551Z"
    }
   },
   "outputs": [],
   "source": [
    "import os, sys\n",
    "NotebookDirectory = os.path.split(os.getcwd())[0]\n",
    "if NotebookDirectory not in sys.path:\n",
    "    sys.path.append(NotebookDirectory)\n",
    "import toolbox"
   ]
  },
  {
   "cell_type": "code",
   "execution_count": 2,
   "metadata": {
    "ExecuteTime": {
     "end_time": "2018-04-26T15:59:10.109980Z",
     "start_time": "2018-04-26T15:58:48.763937Z"
    }
   },
   "outputs": [],
   "source": [
    "SciPyModel = toolbox.sbml.importSBMLFile(toolbox.createSciPyModel())\n",
    "SciPyModel = toolbox.simulation.writeODEFunction( SciPyModel )\n",
    "SciPyModel = toolbox.sampling.createNullSpaceFunction(SciPyModel)"
   ]
  },
  {
   "cell_type": "code",
   "execution_count": 3,
   "metadata": {
    "ExecuteTime": {
     "end_time": "2018-04-26T15:59:10.145615Z",
     "start_time": "2018-04-26T15:59:10.119257Z"
    }
   },
   "outputs": [],
   "source": [
    "import numpy\n",
    "\n",
    "SciPyModel.Parameters.MinimumValue = numpy.zeros(SciPyModel.Parameters.Quantity)\n",
    "SciPyModel.Parameters.MaximumValue = numpy.ones(SciPyModel.Parameters.Quantity) * 2.\n",
    "SciPyModel.SimulationData.Sensitivity.Global.NumSamples = 25\n",
    "\n",
    "SciPyModel = toolbox.sampling.uniformNullSpaceSample( SciPyModel )"
   ]
  },
  {
   "cell_type": "markdown",
   "metadata": {},
   "source": [
    "### Parameter Estimation Implementation\n",
    "\n",
    "Before we begin, we need to generate a bogus data set for comparison. We will use several random datapoints for each species of the model across time.\n",
    "\n",
    "The `BogusData` variable should be replaced by an input matrix of data from Excel or some variant. The model will then be simulated between the extents of the input data and output only at the required data points. This save both time and memory by minimizing the read/write operations of the process."
   ]
  },
  {
   "cell_type": "code",
   "execution_count": 4,
   "metadata": {
    "ExecuteTime": {
     "end_time": "2018-04-26T15:59:10.188102Z",
     "start_time": "2018-04-26T15:59:10.151150Z"
    }
   },
   "outputs": [],
   "source": [
    "BogusTimeStart = 0\n",
    "BogusTimeEnd = 10\n",
    "BogusDataPoints = 10\n",
    "\n",
    "BogusTime = numpy.linspace( BogusTimeStart, BogusTimeEnd, BogusDataPoints )\n",
    "BogusData = numpy.random.rand( BogusDataPoints, SciPyModel.Species.Quantity )\n",
    "\n",
    "SciPyModel.SimulationData.TimeStart = BogusTimeStart\n",
    "SciPyModel.SimulationData.TimeEnd = BogusTimeEnd\n",
    "SciPyModel.SimulationData.DataPoints = BogusDataPoints"
   ]
  },
  {
   "cell_type": "markdown",
   "metadata": {
    "ExecuteTime": {
     "end_time": "2018-04-26T15:22:09.145180Z",
     "start_time": "2018-04-26T15:22:09.132859Z"
    }
   },
   "source": [
    "Now since the model has been parameterized at a steady-state condition, in order to see any dynamic response the model must be knocked off this attractor. We do this here by creating a random vector of scalar constants in $[0,2]$ to act as the current initialization."
   ]
  },
  {
   "cell_type": "code",
   "execution_count": 5,
   "metadata": {
    "ExecuteTime": {
     "end_time": "2018-04-26T15:59:10.231446Z",
     "start_time": "2018-04-26T15:59:10.195554Z"
    }
   },
   "outputs": [],
   "source": [
    "RandomInitialization = SciPyModel.Species.Value * numpy.random.rand(SciPyModel.Species.Quantity) * 2\n",
    "SciPyModel.Species.Value = RandomInitialization"
   ]
  },
  {
   "cell_type": "markdown",
   "metadata": {},
   "source": [
    "#### Simulate Each Parameter Set\n",
    "\n",
    "Now the model must be first run with each parameter set to find the sets which are most optimal. First we create a function to calculate the squared-error using the 2-norm. This function can be easily replaced to use the 1,$\\infty$-norm."
   ]
  },
  {
   "cell_type": "code",
   "execution_count": 6,
   "metadata": {
    "ExecuteTime": {
     "end_time": "2018-04-26T15:59:10.271685Z",
     "start_time": "2018-04-26T15:59:10.240298Z"
    }
   },
   "outputs": [],
   "source": [
    "def TwoNorm( SimulationData, UserData):\n",
    "    return numpy.sqrt( sum(sum(numpy.power( UserData - SimulationData, 2.))) )"
   ]
  },
  {
   "cell_type": "code",
   "execution_count": 7,
   "metadata": {
    "ExecuteTime": {
     "end_time": "2018-04-26T15:59:10.739711Z",
     "start_time": "2018-04-26T15:59:10.283075Z"
    }
   },
   "outputs": [],
   "source": [
    "CostList = []\n",
    "for ix in range(SciPyModel.SimulationData.Sensitivity.Global.NumSamples):\n",
    "    # Set current parameter set\n",
    "    SciPyModel.Parameters.Value = SciPyModel.SimulationData.Sensitivity.Global.ParameterSets[ ix, : ]\n",
    "    \n",
    "    # Simulate model\n",
    "    SciPyModel = toolbox.simulation.integrateODEFunction( SciPyModel )\n",
    "    \n",
    "    # Calculate cost\n",
    "    CostList.append( TwoNorm( SciPyModel.SimulationData.Deterministic.Data, BogusData ) )"
   ]
  },
  {
   "cell_type": "markdown",
   "metadata": {},
   "source": [
    "#### Visualize Initial Best Parameter Fit\n",
    "\n",
    "After this initial heuristic search to find a candidate best parameter set, we can visualize the fit to see how it performed. Note that the 2-norm is very sensitive to outliers in the data."
   ]
  },
  {
   "cell_type": "code",
   "execution_count": 17,
   "metadata": {
    "ExecuteTime": {
     "end_time": "2018-04-26T16:02:40.380096Z",
     "start_time": "2018-04-26T16:02:39.738663Z"
    }
   },
   "outputs": [
    {
     "data": {
      "image/png": "[encoded data removed]",
      "text/plain": [
       "<matplotlib.figure.Figure at 0x7f71cc4a3ad0>"
      ]
     },
     "metadata": {},
     "output_type": "display_data"
    },
    {
     "ename": "TypeError",
     "evalue": "Cannot cast array data from dtype('float64') to dtype('int64') according to the rule 'safe'",
     "output_type": "error",
     "traceback": [
      "\u001b[0;31m\u001b[0m",
      "\u001b[0;31mTypeError\u001b[0mTraceback (most recent call last)",
      "\u001b[0;32m<ipython-input-17-f64b53b57d62>\u001b[0m in \u001b[0;36m<module>\u001b[0;34m()\u001b[0m\n\u001b[1;32m     11\u001b[0m \u001b[0;32mfrom\u001b[0m \u001b[0mmatplotlib\u001b[0m \u001b[0;32mimport\u001b[0m \u001b[0mpyplot\u001b[0m \u001b[0;32mas\u001b[0m \u001b[0mplt\u001b[0m\u001b[0;34m\u001b[0m\u001b[0m\n\u001b[1;32m     12\u001b[0m \u001b[0;34m\u001b[0m\u001b[0m\n\u001b[0;32m---> 13\u001b[0;31m \u001b[0mplt\u001b[0m\u001b[0;34m.\u001b[0m\u001b[0mscatter\u001b[0m\u001b[0;34m(\u001b[0m \u001b[0mBogusTime\u001b[0m\u001b[0;34m.\u001b[0m\u001b[0mrepeat\u001b[0m\u001b[0;34m(\u001b[0m\u001b[0mBogusData\u001b[0m\u001b[0;34m[\u001b[0m\u001b[0;36m1\u001b[0m\u001b[0;34m]\u001b[0m\u001b[0;34m)\u001b[0m\u001b[0;34m.\u001b[0m\u001b[0mreshape\u001b[0m\u001b[0;34m(\u001b[0m\u001b[0mBogusData\u001b[0m\u001b[0;34m.\u001b[0m\u001b[0mshape\u001b[0m\u001b[0;34m)\u001b[0m\u001b[0;34m,\u001b[0m \u001b[0mBogusData\u001b[0m \u001b[0;34m)\u001b[0m\u001b[0;34m\u001b[0m\u001b[0m\n\u001b[0m",
      "\u001b[0;31mTypeError\u001b[0m: Cannot cast array data from dtype('float64') to dtype('int64') according to the rule 'safe'"
     ]
    }
   ],
   "source": [
    "# Get index and cost of candidate best parameter set\n",
    "BestCost, BestIndex = min((Cost, Index) for (Index, Cost) in enumerate(CostList))\n",
    "\n",
    "# Replace parameter set in model\n",
    "SciPyModel.Parameters.Value = SciPyModel.SimulationData.Sensitivity.Global.ParameterSets[ BestIndex, : ]\n",
    "SciPyModel.SimulationData.DataPoints = 100\n",
    "SciPyModel = toolbox.simulation.integrateODEFunction( SciPyModel )\n",
    "\n",
    "toolbox.visuals.simplePlot(SciPyModel)\n",
    "\n",
    "from matplotlib import pyplot as plt\n",
    "\n",
    "plt.scatter( BogusTime.repeat(BogusData[1]).reshape(BogusData.shape), BogusData )"
   ]
  },
  {
   "cell_type": "code",
   "execution_count": 13,
   "metadata": {
    "ExecuteTime": {
     "end_time": "2018-04-26T16:01:07.119243Z",
     "start_time": "2018-04-26T16:01:07.102291Z"
    }
   },
   "outputs": [
    {
     "name": "stdout",
     "output_type": "stream",
     "text": [
      "(10, 5)\n",
      "(10,)\n"
     ]
    }
   ],
   "source": [
    "print BogusData.shape\n",
    "print BogusTime.shape"
   ]
  },
  {
   "cell_type": "code",
   "execution_count": 16,
   "metadata": {
    "ExecuteTime": {
     "end_time": "2018-04-26T16:02:23.454418Z",
     "start_time": "2018-04-26T16:02:23.427103Z"
    }
   },
   "outputs": [
    {
     "data": {
      "text/plain": [
       "array([[  0.        ,   0.        ,   0.        ,   0.        ,   0.        ],\n",
       "       [  1.11111111,   1.11111111,   1.11111111,   1.11111111,\n",
       "          1.11111111],\n",
       "       [  2.22222222,   2.22222222,   2.22222222,   2.22222222,\n",
       "          2.22222222],\n",
       "       [  3.33333333,   3.33333333,   3.33333333,   3.33333333,\n",
       "          3.33333333],\n",
       "       [  4.44444444,   4.44444444,   4.44444444,   4.44444444,\n",
       "          4.44444444],\n",
       "       [  5.55555556,   5.55555556,   5.55555556,   5.55555556,\n",
       "          5.55555556],\n",
       "       [  6.66666667,   6.66666667,   6.66666667,   6.66666667,\n",
       "          6.66666667],\n",
       "       [  7.77777778,   7.77777778,   7.77777778,   7.77777778,\n",
       "          7.77777778],\n",
       "       [  8.88888889,   8.88888889,   8.88888889,   8.88888889,\n",
       "          8.88888889],\n",
       "       [ 10.        ,  10.        ,  10.        ,  10.        ,  10.        ]])"
      ]
     },
     "execution_count": 16,
     "metadata": {},
     "output_type": "execute_result"
    }
   ],
   "source": []
  },
  {
   "cell_type": "code",
   "execution_count": null,
   "metadata": {},
   "outputs": [],
   "source": []
  }
 ],
 "metadata": {
  "kernelspec": {
   "display_name": "Python 2",
   "language": "python",
   "name": "python2"
  },
  "language_info": {
   "codemirror_mode": {
    "name": "ipython",
    "version": 2
   },
   "file_extension": ".py",
   "mimetype": "text/x-python",
   "name": "python",
   "nbconvert_exporter": "python",
   "pygments_lexer": "ipython2",
   "version": "2.7.12"
  },
  "toc": {
   "nav_menu": {},
   "number_sections": false,
   "sideBar": true,
   "skip_h1_title": false,
   "toc_cell": true,
   "toc_position": {},
   "toc_section_display": "none",
   "toc_window_display": true
  },
  "varInspector": {
   "cols": {
    "lenName": 16,
    "lenType": 16,
    "lenVar": 40
   },
   "kernels_config": {
    "python": {
     "delete_cmd_postfix": "",
     "delete_cmd_prefix": "del ",
     "library": "var_list.py",
     "varRefreshCmd": "print(var_dic_list())"
    },
    "r": {
     "delete_cmd_postfix": ") ",
     "delete_cmd_prefix": "rm(",
     "library": "var_list.r",
     "varRefreshCmd": "cat(var_dic_list()) "
    }
   },
   "types_to_exclude": [
    "module",
    "function",
    "builtin_function_or_method",
    "instance",
    "_Feature"
   ],
   "window_display": false
  }
 },
 "nbformat": 4,
 "nbformat_minor": 2
}
