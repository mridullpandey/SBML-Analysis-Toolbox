{
 "cells": [
  {
   "cell_type": "markdown",
   "metadata": {},
   "source": [
    "### Notebook Description\n",
    "\n",
    "This notebook walks through the implementation in the `integrateODEFunction` script. The current implementation uses the `odeint` model to integrate the function defined by the ODE function.\n",
    "\n",
    "#### Initialization"
   ]
  },
  {
   "cell_type": "code",
   "execution_count": null,
   "metadata": {
    "ExecuteTime": {
     "start_time": "2018-04-25T23:10:02.784Z"
    }
   },
   "outputs": [],
   "source": [
    "import os, sys\n",
    "NotebookDirectory = os.path.split(os.getcwd())[0]\n",
    "if NotebookDirectory not in sys.path:\n",
    "    sys.path.append(NotebookDirectory)\n",
    "    \n",
    "import toolbox \n",
    "\n",
    "SciPyModel = toolbox.sbml.importSBMLFile(toolbox.createSciPyModel())\n",
    "SciPyModel = toolbox.simulation.writeODEFunction(SciPyModel)"
   ]
  },
  {
   "cell_type": "markdown",
   "metadata": {},
   "source": [
    "### Simulating SciPyModel\n",
    "\n",
    "#### Write Temporary File\n",
    "\n",
    "In order to use the file it needs to be written to a temporary file. To keep the name unique we use the model name with the current date and time in the name of the temporary file."
   ]
  },
  {
   "cell_type": "code",
   "execution_count": null,
   "metadata": {
    "ExecuteTime": {
     "end_time": "2018-04-25T22:37:50.148495Z",
     "start_time": "2018-04-25T22:37:50.002903Z"
    }
   },
   "outputs": [],
   "source": [
    "import datetime\n",
    "TempName = SciPyModel.MetaData.Name+datetime.datetime.now().strftime(\"%I%M%p%B%d%Y\")+'.py'\n",
    "open(TempName, 'w+').write(SciPyModel.ToolboxFunctions.DerivativeFunction)"
   ]
  },
  {
   "cell_type": "markdown",
   "metadata": {},
   "source": [
    "Then we can import the function from the file using a temporary module declaration."
   ]
  },
  {
   "cell_type": "code",
   "execution_count": null,
   "metadata": {
    "ExecuteTime": {
     "end_time": "2018-04-25T22:37:56.808408Z",
     "start_time": "2018-04-25T22:37:56.770109Z"
    }
   },
   "outputs": [],
   "source": [
    "TempModule = __import__(TempName[:-3])"
   ]
  },
  {
   "cell_type": "markdown",
   "metadata": {},
   "source": [
    "#### Using Internal Declarations\n",
    "\n",
    "The `SciPyModel` object contains vectors of each state variable and parameter. This makes simulation using `SciPy` straightforward."
   ]
  },
  {
   "cell_type": "code",
   "execution_count": 1,
   "metadata": {
    "ExecuteTime": {
     "end_time": "2018-04-25T22:39:33.764360Z",
     "start_time": "2018-04-25T22:39:33.591540Z"
    }
   },
   "outputs": [
    {
     "ename": "NameError",
     "evalue": "name 'SciPyModel' is not defined",
     "output_type": "error",
     "traceback": [
      "\u001b[0;31m\u001b[0m",
      "\u001b[0;31mNameError\u001b[0mTraceback (most recent call last)",
      "\u001b[0;32m<ipython-input-1-99f0a2ab3aa2>\u001b[0m in \u001b[0;36m<module>\u001b[0;34m()\u001b[0m\n\u001b[0;32m----> 1\u001b[0;31m \u001b[0mSciPyModel\u001b[0m\u001b[0;34m.\u001b[0m\u001b[0mSimulationData\u001b[0m\u001b[0;34m.\u001b[0m\u001b[0mTimeStart\u001b[0m \u001b[0;34m=\u001b[0m \u001b[0;36m0\u001b[0m\u001b[0;34m\u001b[0m\u001b[0m\n\u001b[0m\u001b[1;32m      2\u001b[0m \u001b[0mSciPyModel\u001b[0m\u001b[0;34m.\u001b[0m\u001b[0mSimulationData\u001b[0m\u001b[0;34m.\u001b[0m\u001b[0mTimeEnd\u001b[0m \u001b[0;34m=\u001b[0m \u001b[0;36m100\u001b[0m\u001b[0;34m\u001b[0m\u001b[0m\n\u001b[1;32m      3\u001b[0m \u001b[0mSciPyModel\u001b[0m\u001b[0;34m.\u001b[0m\u001b[0mSimulationData\u001b[0m\u001b[0;34m.\u001b[0m\u001b[0mDataPoints\u001b[0m \u001b[0;34m=\u001b[0m \u001b[0;36m100\u001b[0m\u001b[0;34m\u001b[0m\u001b[0m\n",
      "\u001b[0;31mNameError\u001b[0m: name 'SciPyModel' is not defined"
     ]
    }
   ],
   "source": [
    "SciPyModel.SimulationData.TimeStart = 0\n",
    "SciPyModel.SimulationData.TimeEnd = 100\n",
    "SciPyModel.SimulationData.DataPoints = 100"
   ]
  },
  {
   "cell_type": "markdown",
   "metadata": {},
   "source": [
    "#### Deterministically Simulating SciPyModel\n",
    "\n",
    "Using the `odeint` function we simply need to call our information from `SciPyModel`."
   ]
  },
  {
   "cell_type": "code",
   "execution_count": 2,
   "metadata": {
    "ExecuteTime": {
     "end_time": "2018-04-25T22:39:55.262918Z",
     "start_time": "2018-04-25T22:39:54.450022Z"
    },
    "scrolled": true
   },
   "outputs": [
    {
     "ename": "NameError",
     "evalue": "name 'TempModule' is not defined",
     "output_type": "error",
     "traceback": [
      "\u001b[0;31m\u001b[0m",
      "\u001b[0;31mNameError\u001b[0mTraceback (most recent call last)",
      "\u001b[0;32m<ipython-input-2-e30c3ee24aac>\u001b[0m in \u001b[0;36m<module>\u001b[0;34m()\u001b[0m\n\u001b[1;32m      3\u001b[0m \u001b[0;34m\u001b[0m\u001b[0m\n\u001b[1;32m      4\u001b[0m SciPyModel.SimulationData.Deterministic.Data = (odeint(\n\u001b[0;32m----> 5\u001b[0;31m     \u001b[0mTempModule\u001b[0m\u001b[0;34m.\u001b[0m\u001b[0mode_fun\u001b[0m\u001b[0;34m,\u001b[0m\u001b[0;34m\u001b[0m\u001b[0m\n\u001b[0m\u001b[1;32m      6\u001b[0m     \u001b[0mSciPyModel\u001b[0m\u001b[0;34m.\u001b[0m\u001b[0mSpecies\u001b[0m\u001b[0;34m.\u001b[0m\u001b[0mValue\u001b[0m\u001b[0;34m,\u001b[0m\u001b[0;34m\u001b[0m\u001b[0m\n\u001b[1;32m      7\u001b[0m     numpy.linspace(SciPyModel.SimulationData.TimeStart,\n",
      "\u001b[0;31mNameError\u001b[0m: name 'TempModule' is not defined"
     ]
    }
   ],
   "source": [
    "from scipy.integrate import odeint\n",
    "import numpy\n",
    "\n",
    "SciPyModel.SimulationData.Deterministic.Data = (odeint(\n",
    "    TempModule.ode_fun,\n",
    "    SciPyModel.Species.Value,\n",
    "    numpy.linspace(SciPyModel.SimulationData.TimeStart,\n",
    "                   SciPyModel.SimulationData.TimeEnd,\n",
    "                   SciPyModel.SimulationData.DataPoints),\n",
    "    args=(SciPyModel.Parameters.Value, )))"
   ]
  },
  {
   "cell_type": "markdown",
   "metadata": {},
   "source": [
    "#### Final Notes\n",
    "\n",
    "Once the desired simulations with the model are completed, the simulation data can be exported and the temporary files can be deleted."
   ]
  },
  {
   "cell_type": "code",
   "execution_count": 3,
   "metadata": {
    "ExecuteTime": {
     "end_time": "2018-04-25T22:42:08.216628Z",
     "start_time": "2018-04-25T22:42:08.156410Z"
    }
   },
   "outputs": [
    {
     "ename": "NameError",
     "evalue": "name 'TempName' is not defined",
     "output_type": "error",
     "traceback": [
      "\u001b[0;31m\u001b[0m",
      "\u001b[0;31mNameError\u001b[0mTraceback (most recent call last)",
      "\u001b[0;32m<ipython-input-3-60087e742484>\u001b[0m in \u001b[0;36m<module>\u001b[0;34m()\u001b[0m\n\u001b[1;32m      1\u001b[0m \u001b[0;32mimport\u001b[0m \u001b[0mos\u001b[0m\u001b[0;34m\u001b[0m\u001b[0m\n\u001b[1;32m      2\u001b[0m \u001b[0;32mtry\u001b[0m\u001b[0;34m:\u001b[0m\u001b[0;34m\u001b[0m\u001b[0m\n\u001b[0;32m----> 3\u001b[0;31m     \u001b[0mos\u001b[0m\u001b[0;34m.\u001b[0m\u001b[0mremove\u001b[0m\u001b[0;34m(\u001b[0m\u001b[0mTempName\u001b[0m\u001b[0;34m)\u001b[0m\u001b[0;34m\u001b[0m\u001b[0m\n\u001b[0m\u001b[1;32m      4\u001b[0m \u001b[0;32mexcept\u001b[0m \u001b[0mOSError\u001b[0m\u001b[0;34m:\u001b[0m\u001b[0;34m\u001b[0m\u001b[0m\n\u001b[1;32m      5\u001b[0m     \u001b[0;32mprint\u001b[0m \u001b[0;34m'ERROR: Temporary file has already been deleted.'\u001b[0m\u001b[0;34m\u001b[0m\u001b[0m\n",
      "\u001b[0;31mNameError\u001b[0m: name 'TempName' is not defined"
     ]
    }
   ],
   "source": [
    "import os\n",
    "try:\n",
    "    os.remove(TempName)\n",
    "except OSError:\n",
    "    print 'ERROR: Temporary file has already been deleted.'\n",
    "else:\n",
    "    print 'ERROR: Unknown error. Unable to remove '+TempName"
   ]
  },
  {
   "cell_type": "markdown",
   "metadata": {},
   "source": [
    "#### Plotting Simulation\n",
    "\n",
    "Plotting is made possible by using the `matplotlib` module. Several plotting functions have been written to make code easier to read and keep focus on the model development process."
   ]
  },
  {
   "cell_type": "code",
   "execution_count": null,
   "metadata": {},
   "outputs": [],
   "source": []
  }
 ],
 "metadata": {
  "kernelspec": {
   "display_name": "Python 2",
   "language": "python",
   "name": "python2"
  },
  "language_info": {
   "codemirror_mode": {
    "name": "ipython",
    "version": 2
   },
   "file_extension": ".py",
   "mimetype": "text/x-python",
   "name": "python",
   "nbconvert_exporter": "python",
   "pygments_lexer": "ipython2",
   "version": "2.7.12"
  },
  "toc": {
   "nav_menu": {},
   "number_sections": true,
   "sideBar": true,
   "skip_h1_title": false,
   "toc_cell": false,
   "toc_position": {},
   "toc_section_display": "block",
   "toc_window_display": false
  },
  "varInspector": {
   "cols": {
    "lenName": 16,
    "lenType": 16,
    "lenVar": 40
   },
   "kernels_config": {
    "python": {
     "delete_cmd_postfix": "",
     "delete_cmd_prefix": "del ",
     "library": "var_list.py",
     "varRefreshCmd": "print(var_dic_list())"
    },
    "r": {
     "delete_cmd_postfix": ") ",
     "delete_cmd_prefix": "rm(",
     "library": "var_list.r",
     "varRefreshCmd": "cat(var_dic_list()) "
    }
   },
   "types_to_exclude": [
    "module",
    "function",
    "builtin_function_or_method",
    "instance",
    "_Feature"
   ],
   "window_display": false
  }
 },
 "nbformat": 4,
 "nbformat_minor": 2
}
