{
 "cells": [
  {
   "cell_type": "markdown",
   "metadata": {
    "deletable": false,
    "editable": false,
    "run_control": {
     "frozen": true
    },
    "toc": true
   },
   "source": [
    "<h1>Table of Contents<span class=\"tocSkip\"></span></h1>\n",
    "<div class=\"toc\" style=\"margin-top: 1em;\"><ul class=\"toc-item\"><li><ul class=\"toc-item\"><li><ul class=\"toc-item\"><li><span><a href=\"#Notebook-Description\" data-toc-modified-id=\"Notebook-Description-0.0.1\">Notebook Description</a></span></li><li><span><a href=\"#Import-SBML-model\" data-toc-modified-id=\"Import-SBML-model-0.0.2\">Import SBML model</a></span></li><li><span><a href=\"#Construct-SymPy-Derivative-Matrix\" data-toc-modified-id=\"Construct-SymPy-Derivative-Matrix-0.0.3\">Construct SymPy Derivative Matrix</a></span><ul class=\"toc-item\"><li><span><a href=\"#Automatically-Flag-Kinetic-Parameters\" data-toc-modified-id=\"Automatically-Flag-Kinetic-Parameters-0.0.3.1\">Automatically Flag Kinetic Parameters</a></span></li><li><span><a href=\"#Write-Derivative-Function\" data-toc-modified-id=\"Write-Derivative-Function-0.0.3.2\">Write Derivative Function</a></span></li><li><span><a href=\"#Initialize-Symbolic-Species-and-Parameter-Vectors\" data-toc-modified-id=\"Initialize-Symbolic-Species-and-Parameter-Vectors-0.0.3.3\">Initialize Symbolic Species and Parameter Vectors</a></span></li><li><span><a href=\"#Construct-Symbolic-Reactions-and-Stoichiometric-Matrix\" data-toc-modified-id=\"Construct-Symbolic-Reactions-and-Stoichiometric-Matrix-0.0.3.4\">Construct Symbolic Reactions and Stoichiometric Matrix</a></span></li><li><span><a href=\"#Assemble-Symbolic-Derivative-Matrix\" data-toc-modified-id=\"Assemble-Symbolic-Derivative-Matrix-0.0.3.5\">Assemble Symbolic Derivative Matrix</a></span></li></ul></li><li><span><a href=\"#Construct-Nullspace-Matrix\" data-toc-modified-id=\"Construct-Nullspace-Matrix-0.0.4\">Construct Nullspace Matrix</a></span><ul class=\"toc-item\"><li><span><a href=\"#Extract-Kinetic-Parameters\" data-toc-modified-id=\"Extract-Kinetic-Parameters-0.0.4.1\">Extract Kinetic Parameters</a></span></li><li><span><a href=\"#Obtain-Basis-for-Nullspace\" data-toc-modified-id=\"Obtain-Basis-for-Nullspace-0.0.4.2\">Obtain Basis for Nullspace</a></span></li><li><span><a href=\"#Construct-Nullspace-Matrix-from-Basis\" data-toc-modified-id=\"Construct-Nullspace-Matrix-from-Basis-0.0.4.3\">Construct Nullspace Matrix from Basis</a></span></li><li><span><a href=\"#Create-Anonymous-Sampling-Function\" data-toc-modified-id=\"Create-Anonymous-Sampling-Function-0.0.4.4\">Create Anonymous Sampling Function</a></span></li></ul></li><li><span><a href=\"#Performance-Comparison\" data-toc-modified-id=\"Performance-Comparison-0.0.5\">Performance Comparison</a></span></li><li><span><a href=\"#Notes\" data-toc-modified-id=\"Notes-0.0.6\">Notes</a></span></li></ul></li></ul></li></ul></div>"
   ]
  },
  {
   "cell_type": "markdown",
   "metadata": {
    "deletable": false,
    "editable": false,
    "run_control": {
     "frozen": true
    }
   },
   "source": [
    "### Notebook Description\n",
    "\n",
    "This notebook walks through an approach to generating a symbolic matrices from a custom `SciPyModel` class in Python for use in sampling and sensitivity analysis. This notebook will be the basis for implementing an extension of the functionality provided by the SBML2SciPy toolbox.\n",
    "\n",
    "The focus of the testing is to implement a method for detecting whether a parameter should be flagged as kinetic or shape.\n",
    "\n",
    "For the time being, the main assumption in formulation is that the kinetic parameters appear in the formulas as $k_A*f_A(y_1,...,y_n)$ in order to make it easier to identify and extract them."
   ]
  },
  {
   "cell_type": "markdown",
   "metadata": {
    "deletable": false,
    "editable": false,
    "run_control": {
     "frozen": true
    }
   },
   "source": [
    "### Import SBML model\n",
    "Execute functions to convert SBML model to custom class."
   ]
  },
  {
   "cell_type": "code",
   "execution_count": 1,
   "metadata": {
    "ExecuteTime": {
     "end_time": "2018-04-23T15:15:31.928536Z",
     "start_time": "2018-04-23T15:15:26.443106Z"
    },
    "deletable": false,
    "editable": false,
    "run_control": {
     "frozen": true
    }
   },
   "outputs": [],
   "source": [
    "from utils import SBML2SciPy\n",
    "SciPyModel = SBML2SciPy.importSBMLFile(SBML2SciPy.createSciPyModel())"
   ]
  },
  {
   "cell_type": "markdown",
   "metadata": {
    "deletable": false,
    "editable": false,
    "run_control": {
     "frozen": true
    }
   },
   "source": [
    "### Construct SymPy Derivative Matrix\n",
    "\n",
    "#### Automatically Flag Kinetic Parameters\n",
    "\n",
    "Assuming equations are written in form $k_A f_A(y_1,...,y_n)$ code checks to see what parameter is out front and flags it as a kinetic parameter."
   ]
  },
  {
   "cell_type": "code",
   "execution_count": 2,
   "metadata": {
    "ExecuteTime": {
     "end_time": "2018-04-23T15:15:31.958973Z",
     "start_time": "2018-04-23T15:15:31.934751Z"
    },
    "deletable": false,
    "editable": false,
    "run_control": {
     "frozen": true
    }
   },
   "outputs": [],
   "source": [
    "SciPyModel.Parameters.KineticFlag = []\n",
    "\n",
    "[\n",
    "    SciPyModel.Parameters.KineticFlag.append(False)\n",
    "    for i in range(SciPyModel.Parameters.Quantity)\n",
    "]\n",
    "\n",
    "for rxn in SciPyModel.Reactions.Formulas:\n",
    "    if SciPyModel.Reactions.Formulas[0][0] == 'p':\n",
    "        SciPyModel.Parameters.KineticFlag[int(\n",
    "            rxn.split(']')[0].split('[')[1])] = True"
   ]
  },
  {
   "cell_type": "markdown",
   "metadata": {
    "deletable": false,
    "editable": false,
    "run_control": {
     "frozen": true
    }
   },
   "source": [
    "#### Write Derivative Function\n",
    "Using the SciPyModel object, construct a symbolic version of the ODE matrix."
   ]
  },
  {
   "cell_type": "code",
   "execution_count": 3,
   "metadata": {
    "ExecuteTime": {
     "end_time": "2018-04-23T15:15:32.010732Z",
     "start_time": "2018-04-23T15:15:31.970798Z"
    },
    "deletable": false,
    "editable": false,
    "run_control": {
     "frozen": true
    }
   },
   "outputs": [],
   "source": [
    "SciPyModel = SBML2SciPy.writeODEFunction( SciPyModel )\n",
    "open('temp.py', 'w+').write(SciPyModel.ToolboxFunctions.DerivativeFunction)"
   ]
  },
  {
   "cell_type": "markdown",
   "metadata": {
    "deletable": false,
    "editable": false,
    "run_control": {
     "frozen": true
    }
   },
   "source": [
    "#### Initialize Symbolic Species and Parameter Vectors"
   ]
  },
  {
   "cell_type": "code",
   "execution_count": 4,
   "metadata": {
    "ExecuteTime": {
     "end_time": "2018-04-23T15:15:32.834786Z",
     "start_time": "2018-04-23T15:15:32.022595Z"
    },
    "deletable": false,
    "editable": false,
    "run_control": {
     "frozen": true
    }
   },
   "outputs": [],
   "source": [
    "import sympy\n",
    "y = sympy.symarray('y', len(SciPyModel.Species.Names))\n",
    "p = sympy.symarray('p', len(SciPyModel.Parameters.Names))"
   ]
  },
  {
   "cell_type": "markdown",
   "metadata": {
    "ExecuteTime": {
     "end_time": "2018-04-16T18:36:23.932735Z",
     "start_time": "2018-04-16T18:36:23.921955Z"
    },
    "deletable": false,
    "editable": false,
    "run_control": {
     "frozen": true
    }
   },
   "source": [
    "#### Construct Symbolic Reactions and Stoichiometric Matrix"
   ]
  },
  {
   "cell_type": "code",
   "execution_count": 5,
   "metadata": {
    "ExecuteTime": {
     "end_time": "2018-04-23T15:15:32.959942Z",
     "start_time": "2018-04-23T15:15:32.847748Z"
    },
    "deletable": false,
    "editable": false,
    "run_control": {
     "frozen": true
    }
   },
   "outputs": [],
   "source": [
    "import numpy\n",
    "from temp import rxn_fun\n",
    "R = sympy.Matrix(rxn_fun(y, 0, p))\n",
    "S = sympy.Matrix(numpy.asarray(SciPyModel.Reactions.Stoichiometry, dtype=int))"
   ]
  },
  {
   "cell_type": "markdown",
   "metadata": {
    "deletable": false,
    "editable": false,
    "run_control": {
     "frozen": true
    }
   },
   "source": [
    "#### Assemble Symbolic Derivative Matrix\n",
    "\n",
    "Must be assembled in particular order to avoid bad assembly by `reshape`."
   ]
  },
  {
   "cell_type": "code",
   "execution_count": 6,
   "metadata": {
    "ExecuteTime": {
     "end_time": "2018-04-23T15:15:33.012724Z",
     "start_time": "2018-04-23T15:15:32.979041Z"
    },
    "deletable": false,
    "editable": false,
    "run_control": {
     "frozen": true
    }
   },
   "outputs": [],
   "source": [
    "DerivativeMatrix = sympy.Matrix(\n",
    "    [S[:, i] * R[i] for i in range(len(R))]).reshape(S.shape[1],\n",
    "                                                     S.shape[0]).transpose()"
   ]
  },
  {
   "cell_type": "markdown",
   "metadata": {
    "deletable": false,
    "editable": false,
    "run_control": {
     "frozen": true
    }
   },
   "source": [
    "### Construct Nullspace Matrix\n",
    "Using the symbolic derivative matrix, we can now solve for the nullspace. Mathematically the operation we will be performing is a follows.\n",
    "\n",
    "Let $X \\in \\mathbb{R}^n$ be a vector of state variables, $K \\in \\mathbb{R}^m$ be a vector of rate constants, $E \\in \\mathbb{p}$ be a vector of shape parameters.  Then let $A: \\mathbb{R}^{n\\times m} \\mapsto \\mathbb{R}^{n}$ be the matrix containing the $m$ ordinary differential equations. We can find the null space by solving the following linear equation.\n",
    "\n",
    "\\begin{equation*}\n",
    "A_{(X,E)}\\cdot K ~=~ \\mathbf{0}\n",
    "\\end{equation*}\n",
    "\n",
    "#### Extract Kinetic Parameters\n",
    "\n",
    "The matrix $A$ can be easily obtained from the derivative matrix by setting the kinetic parameters to one. This is done by exploiting anonymous functions.\n",
    "\n",
    "The `KineticFlag` value is used to specify the proper indexes for parameters that enter linearly."
   ]
  },
  {
   "cell_type": "code",
   "execution_count": 7,
   "metadata": {
    "ExecuteTime": {
     "end_time": "2018-04-23T15:15:33.163485Z",
     "start_time": "2018-04-23T15:15:33.026993Z"
    },
    "deletable": false,
    "editable": false,
    "run_control": {
     "frozen": true
    }
   },
   "outputs": [],
   "source": [
    "M = sympy.Matrix(\n",
    "    sympy.lambdify((p[SciPyModel.Parameters.KineticFlag]), DerivativeMatrix,\n",
    "                   'sympy')(*sympy.ones(\n",
    "                       len(p[SciPyModel.Parameters.KineticFlag]), 1)))"
   ]
  },
  {
   "cell_type": "markdown",
   "metadata": {
    "deletable": false,
    "editable": false,
    "run_control": {
     "frozen": true
    }
   },
   "source": [
    "#### Obtain Basis for Nullspace\n",
    "\n",
    "SymPy provides the function `nullspace` to quickly and reliably obtain the nullspace of a given symbolic matrix. This preserves the symbolic variables within while solving the homogeneous equation $A\\cdot K = 0$"
   ]
  },
  {
   "cell_type": "code",
   "execution_count": 8,
   "metadata": {
    "ExecuteTime": {
     "end_time": "2018-04-23T15:15:33.475465Z",
     "start_time": "2018-04-23T15:15:33.173367Z"
    },
    "deletable": false,
    "editable": false,
    "run_control": {
     "frozen": true
    }
   },
   "outputs": [],
   "source": [
    "NullBasis = M.nullspace()"
   ]
  },
  {
   "cell_type": "markdown",
   "metadata": {
    "deletable": false,
    "editable": false,
    "run_control": {
     "frozen": true
    }
   },
   "source": [
    "#### Construct Nullspace Matrix from Basis\n",
    "\n",
    "We can assemble the basis for the nullspace in terms of the parameters. The matrix form now allows us to effectively solve for the kinetic parameters given a sampling of shape parameters. Hence we want to be able to solve $N\\cdot G = K$ for many sets of $G$."
   ]
  },
  {
   "cell_type": "code",
   "execution_count": 9,
   "metadata": {
    "ExecuteTime": {
     "end_time": "2018-04-23T15:15:33.515381Z",
     "start_time": "2018-04-23T15:15:33.489881Z"
    },
    "deletable": false,
    "editable": false,
    "run_control": {
     "frozen": true
    }
   },
   "outputs": [],
   "source": [
    "NullSpace = sympy.Matrix([NullBasis[i] for i in range(len(NullBasis))])\n",
    "NullSpace = NullSpace.reshape(len(NullBasis),\n",
    "                              len(NullSpace) / len(NullBasis)).transpose()"
   ]
  },
  {
   "cell_type": "markdown",
   "metadata": {
    "deletable": false,
    "editable": false,
    "run_control": {
     "frozen": true
    }
   },
   "source": [
    "#### Create Anonymous Sampling Function\n",
    "\n",
    "We again use anonymous functions to allow us to obtain the nullspace for the model given the desired steady-state condition.\n",
    "\n",
    "By inverting `KineticFlag` we are able to use the shape parameters as function inputs into the `NullSpaceFunction`."
   ]
  },
  {
   "cell_type": "code",
   "execution_count": 10,
   "metadata": {
    "ExecuteTime": {
     "end_time": "2018-04-23T15:15:33.565368Z",
     "start_time": "2018-04-23T15:15:33.524982Z"
    },
    "deletable": false,
    "editable": false,
    "run_control": {
     "frozen": true
    }
   },
   "outputs": [],
   "source": [
    "import numpy\n",
    "\n",
    "NullSpaceFunction = sympy.lambdify(\n",
    "    (p[numpy.invert(SciPyModel.Parameters.KineticFlag)],y),\n",
    "    NullSpace,\n",
    "    'numpy',\n",
    "    dummify=False)"
   ]
  },
  {
   "cell_type": "markdown",
   "metadata": {
    "deletable": false,
    "editable": false,
    "run_control": {
     "frozen": true
    }
   },
   "source": [
    "Then by exploiting `NullSpaceFunction` our original problem will most likely be of reduced dimensionality."
   ]
  },
  {
   "cell_type": "markdown",
   "metadata": {
    "deletable": false,
    "editable": false,
    "run_control": {
     "frozen": true
    }
   },
   "source": [
    "### Performance Comparison\n",
    "\n",
    "Now with a reliable method to obtain the nullspace, we can see the benefit of its use on the simulation of the model. First we can simulate the model using the given initial condition and parameterization."
   ]
  },
  {
   "cell_type": "code",
   "execution_count": 11,
   "metadata": {
    "ExecuteTime": {
     "end_time": "2018-04-23T15:15:33.609706Z",
     "start_time": "2018-04-23T15:15:33.589278Z"
    },
    "deletable": false,
    "editable": false,
    "run_control": {
     "frozen": true
    }
   },
   "outputs": [],
   "source": [
    "SciPyModel.Species.Value = numpy.ones([SciPyModel.Species.Quantity,\n",
    "                                       1]).flatten()\n",
    "SciPyModel.Parameters.Value = numpy.ones([SciPyModel.Parameters.Quantity,\n",
    "                                          1]).flatten()"
   ]
  },
  {
   "cell_type": "markdown",
   "metadata": {
    "deletable": false,
    "editable": false,
    "run_control": {
     "frozen": true
    }
   },
   "source": [
    "The code block below is used to flag any potential issues in the model. Depending on the formulation the SBML model may contain potential divisions by zero."
   ]
  },
  {
   "cell_type": "code",
   "execution_count": 12,
   "metadata": {
    "ExecuteTime": {
     "end_time": "2018-04-23T15:15:33.725437Z",
     "start_time": "2018-04-23T15:15:33.625341Z"
    },
    "deletable": false,
    "editable": false,
    "run_control": {
     "frozen": true
    }
   },
   "outputs": [
    {
     "data": {
      "text/plain": [
       "['Infinity equations', 'Nan equations']"
      ]
     },
     "metadata": {},
     "output_type": "display_data"
    }
   ],
   "source": [
    "import itertools\n",
    "\n",
    "Hold = NullSpaceFunction(\n",
    "    list(\n",
    "        itertools.compress(SciPyModel.Parameters.Value,\n",
    "                           numpy.invert(SciPyModel.Parameters.KineticFlag))),\n",
    "    SciPyModel.Species.Value)\n",
    "\n",
    "InfIndex = numpy.where(Hold==numpy.inf)\n",
    "NaNIndex = numpy.where(numpy.isnan(Hold))\n",
    "\n",
    "Store = []\n",
    "Store.append('Infinity equations')\n",
    "for i in range(len(InfIndex[0])):\n",
    "    Store.append( NullSpace[InfIndex[0][i], InfIndex[1][i]] )\n",
    "\n",
    "Store.append('Nan equations')\n",
    "for i in range(len(NaNIndex[0])):\n",
    "    Store.append( NullSpace[NaNIndex[0][i], NaNIndex[1][i]] )\n",
    "    \n",
    "display(Store)"
   ]
  },
  {
   "cell_type": "code",
   "execution_count": 13,
   "metadata": {
    "ExecuteTime": {
     "end_time": "2018-04-23T15:15:35.058978Z",
     "start_time": "2018-04-23T15:15:33.743531Z"
    },
    "deletable": false,
    "editable": false,
    "run_control": {
     "frozen": true
    }
   },
   "outputs": [
    {
     "data": {
      "image/png": "[encoded data removed]",
      "text/plain": [
       "<matplotlib.figure.Figure at 0x7fe5bca3c7d0>"
      ]
     },
     "metadata": {},
     "output_type": "display_data"
    }
   ],
   "source": [
    "from temp import ode_fun\n",
    "from scipy.integrate import odeint\n",
    "import numpy\n",
    "from matplotlib import pyplot as plt\n",
    "\n",
    "\n",
    "%matplotlib inline\n",
    "\n",
    "TVec = numpy.linspace(0,10,100)\n",
    "\n",
    "YBase = odeint(ode_fun, SciPyModel.Species.Value, TVec, \n",
    "               args=(SciPyModel.Parameters.Value,))\n",
    "\n",
    "plt.close()\n",
    "plt.figure(figsize=(10,5))\n",
    "\n",
    "LineObjs = plt.plot(TVec,YBase)\n",
    "plt.grid()\n",
    "\n",
    "plt.title('Simulation with Original Parameterization')\n",
    "plt.xlabel('Time')\n",
    "plt.ylabel('Concentrations')\n",
    "\n",
    "plt.legend(LineObjs, SciPyModel.Species.Names)\n",
    "\n",
    "plt.show()"
   ]
  },
  {
   "cell_type": "markdown",
   "metadata": {
    "ExecuteTime": {
     "end_time": "2018-04-16T21:01:29.608421Z",
     "start_time": "2018-04-16T21:01:29.596347Z"
    },
    "deletable": false,
    "editable": false,
    "run_control": {
     "frozen": true
    }
   },
   "source": [
    "Now we can exploit the nullspace to preserve the steady state condition. The module `itertools` contains a convenient function `compress` which enables the `KineticFlag` logic to be used as a scalar index."
   ]
  },
  {
   "cell_type": "code",
   "execution_count": 14,
   "metadata": {
    "ExecuteTime": {
     "end_time": "2018-04-23T15:15:35.093982Z",
     "start_time": "2018-04-23T15:15:35.076475Z"
    },
    "deletable": false,
    "editable": false,
    "run_control": {
     "frozen": true
    }
   },
   "outputs": [],
   "source": [
    "import numpy, itertools\n",
    "\n",
    "RandG = numpy.random.rand(len(NullBasis)).tolist()\n",
    "Sample = NullSpaceFunction(\n",
    "    list(\n",
    "        itertools.compress(SciPyModel.Parameters.Value,\n",
    "                           numpy.invert(SciPyModel.Parameters.KineticFlag))),\n",
    "    SciPyModel.Species.Value).dot(RandG).transpose()"
   ]
  },
  {
   "cell_type": "markdown",
   "metadata": {
    "deletable": false,
    "editable": false,
    "run_control": {
     "frozen": true
    }
   },
   "source": [
    "Once a sample, using the given $G$, is created, it needs to be reassembled into a proper vector alongside the shape parameters. To do so we use a temporary vector `ParVec`."
   ]
  },
  {
   "cell_type": "code",
   "execution_count": 15,
   "metadata": {
    "ExecuteTime": {
     "end_time": "2018-04-23T15:15:35.141473Z",
     "start_time": "2018-04-23T15:15:35.120768Z"
    },
    "deletable": false,
    "editable": false,
    "run_control": {
     "frozen": true
    }
   },
   "outputs": [],
   "source": [
    "ParVec = SciPyModel.Parameters.Value[:]\n",
    "counter = 0\n",
    "for indx in list(\n",
    "        itertools.compress(SciPyModel.Parameters.VectorIndex,\n",
    "                           SciPyModel.Parameters.KineticFlag)):\n",
    "    ParVec[indx] = Sample[counter,0]\n",
    "    counter += 1"
   ]
  },
  {
   "cell_type": "markdown",
   "metadata": {
    "deletable": false,
    "editable": false,
    "run_control": {
     "frozen": true
    }
   },
   "source": [
    "Hence we can now simulate the model given the kinetic parameters obtained for the desired steady state."
   ]
  },
  {
   "cell_type": "code",
   "execution_count": 16,
   "metadata": {
    "ExecuteTime": {
     "end_time": "2018-04-23T15:15:35.779112Z",
     "start_time": "2018-04-23T15:15:35.152725Z"
    },
    "deletable": false,
    "editable": false,
    "run_control": {
     "frozen": true
    },
    "scrolled": true
   },
   "outputs": [
    {
     "data": {
      "image/png": "[encoded data removed]",
      "text/plain": [
       "<matplotlib.figure.Figure at 0x7fe5bca3cf90>"
      ]
     },
     "metadata": {},
     "output_type": "display_data"
    }
   ],
   "source": [
    "YAlt = odeint(ode_fun, SciPyModel.Species.Value, TVec, args=(ParVec, ))\n",
    "\n",
    "plt.close()\n",
    "plt.figure(figsize=(10, 5))\n",
    "\n",
    "MoreObjs = plt.plot(TVec, YAlt)\n",
    "plt.grid()\n",
    "\n",
    "plt.title('Simulation using Shape Parameters')\n",
    "plt.xlabel('Time')\n",
    "plt.ylabel('Concentrations')\n",
    "\n",
    "plt.legend(MoreObjs, SciPyModel.Species.Names)\n",
    "\n",
    "plt.show()"
   ]
  },
  {
   "cell_type": "markdown",
   "metadata": {
    "deletable": false,
    "editable": false,
    "run_control": {
     "frozen": true
    }
   },
   "source": [
    "### Notes\n",
    "\n",
    "Currently this implementation is limited to models who are formulated as $k_A f_A(\\hat{Y},\\hat{E})$ since it detects the kinetic parameters by checking the index of the leftmost parameter, assuming there is one, and flagging the respective index.\n",
    "\n",
    "As this is a deeper implementation (requiring the SBML model to pass through `importSBMLFile` and `writeODEFunction`) there should be less issues related to the original SBML format which make it through the import process.\n",
    "\n",
    "This still needs to be written as a script in the SBML2SciPy.py file."
   ]
  },
  {
   "cell_type": "code",
   "execution_count": null,
   "metadata": {},
   "outputs": [],
   "source": []
  }
 ],
 "metadata": {
  "kernelspec": {
   "display_name": "Python 2",
   "language": "python",
   "name": "python2"
  },
  "language_info": {
   "codemirror_mode": {
    "name": "ipython",
    "version": 2
   },
   "file_extension": ".py",
   "mimetype": "text/x-python",
   "name": "python",
   "nbconvert_exporter": "python",
   "pygments_lexer": "ipython2",
   "version": "2.7.12"
  },
  "toc": {
   "nav_menu": {},
   "number_sections": false,
   "sideBar": true,
   "skip_h1_title": false,
   "toc_cell": true,
   "toc_position": {},
   "toc_section_display": "block",
   "toc_window_display": true
  },
  "varInspector": {
   "cols": {
    "lenName": 16,
    "lenType": 16,
    "lenVar": 40
   },
   "kernels_config": {
    "python": {
     "delete_cmd_postfix": "",
     "delete_cmd_prefix": "del ",
     "library": "var_list.py",
     "varRefreshCmd": "print(var_dic_list())"
    },
    "r": {
     "delete_cmd_postfix": ") ",
     "delete_cmd_prefix": "rm(",
     "library": "var_list.r",
     "varRefreshCmd": "cat(var_dic_list()) "
    }
   },
   "types_to_exclude": [
    "module",
    "function",
    "builtin_function_or_method",
    "instance",
    "_Feature"
   ],
   "window_display": false
  }
 },
 "nbformat": 4,
 "nbformat_minor": 2
}
