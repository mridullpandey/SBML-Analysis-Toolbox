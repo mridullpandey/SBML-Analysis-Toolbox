{
 "cells": [
  {
   "cell_type": "markdown",
   "metadata": {
    "toc": true
   },
   "source": [
    "<h1>Table of Contents<span class=\"tocSkip\"></span></h1>\n",
    "<div class=\"toc\" style=\"margin-top: 1em;\"><ul class=\"toc-item\"><li><ul class=\"toc-item\"><li><ul class=\"toc-item\"><li><span><a href=\"#Purpose-of-Project\" data-toc-modified-id=\"Purpose-of-Project-0.0.1\">Purpose of Project</a></span></li><li><span><a href=\"#Features\" data-toc-modified-id=\"Features-0.0.2\">Features</a></span></li><li><span><a href=\"#Things-to-Add\" data-toc-modified-id=\"Things-to-Add-0.0.3\">Things to Add</a></span></li><li><span><a href=\"#Known-Issues-with-Custom-Modules:\" data-toc-modified-id=\"Known-Issues-with-Custom-Modules:-0.0.4\">Known Issues with Custom Modules:</a></span></li></ul></li><li><span><a href=\"#Initialization\" data-toc-modified-id=\"Initialization-0.1\">Initialization</a></span></li><li><span><a href=\"#Unpack-SBML-model-into-SciPyModel-form\" data-toc-modified-id=\"Unpack-SBML-model-into-SciPyModel-form-0.2\">Unpack SBML model into SciPyModel form</a></span><ul class=\"toc-item\"><li><span><a href=\"#Integrate-SciPyModel-Deterministically\" data-toc-modified-id=\"Integrate-SciPyModel-Deterministically-0.2.1\">Integrate SciPyModel Deterministically</a></span></li><li><span><a href=\"#Plot-Deterministic-Data\" data-toc-modified-id=\"Plot-Deterministic-Data-0.2.2\">Plot Deterministic Data</a></span></li><li><span><a href=\"#Sample-from-Nullspace\" data-toc-modified-id=\"Sample-from-Nullspace-0.2.3\">Sample from Nullspace</a></span></li></ul></li></ul></li></ul></div>"
   ]
  },
  {
   "cell_type": "markdown",
   "metadata": {},
   "source": [
    "### Purpose of Project\n",
    "\n",
    "The Systems Biology Markup Language (SBML) ecosystem has paved the way as a unified framework for the various models within the field of systems biology. A SBML model primarily consists of Species, Parameters, Reactions, Assignments, and Compartments. In general terms, these represent *state variables*, *equation parameters*, *differential equations*, *composite equations*, and *vessel volumes*, respectively. The SBML model is presented in a reaction-network schema which can be digested into a parameterized system of differential equations (ODEs).\n",
    "\n",
    "As of this writing, there exist over 350 SBML compatible software packages. A vast majority of these packages are little more than simple integrators which provide basic insight into the behavior of the SBML model. Additionally, while these packages aim to inform researchers about specific characteristics of a SBML model, often the lack of clarity in documentation or code-availability leaves the package as a \"one-trick-pony\". \n",
    "\n",
    "The SBML-Sensitivity-Toolbox was conceived to provide a unified, extensible platform for sensitivity-based analysis of SBML models. Written entirely in Python, the SBML-Sensitivity-Toolbox primarily focuses on ODE models."
   ]
  },
  {
   "cell_type": "markdown",
   "metadata": {},
   "source": [
    "### Features\n",
    "1. Conversion of SBML model to SciPy function declaration. Relevant SBML information is gathered into the variable object `SciPyModel`.\n",
    "2. Full integration with Jupyter Notebook workflow."
   ]
  },
  {
   "cell_type": "markdown",
   "metadata": {},
   "source": [
    "### Things to Add\n",
    "1. Support for assignments in SBML model.\n",
    "2. GPU-based Monte Carlo methods.\n",
    "3. GUI\n",
    "4. Identify large, open data sets to suggest closing them.\n",
    "5. Implement local sensitivity analysis.\n",
    "6. Implement global sensitivity analysis."
   ]
  },
  {
   "cell_type": "markdown",
   "metadata": {},
   "source": [
    "### Known Issues with Custom Modules:\n",
    "1. Unable to import model files from subdirectory.\n",
    "2. Does not distinguish between kinetic and system parameters.\n",
    "3. Assumes SBML model has one compartment with a volume of 1. e.g. Concentrations are divided by 1 to obtain amounts."
   ]
  },
  {
   "cell_type": "markdown",
   "metadata": {},
   "source": [
    "## Initialization\n",
    "\n",
    "Create `SciPyModel` object. The `SciPyModel` object is used as a universal basis for the methods implemented within the SBML-Sensitivity-Toolbox."
   ]
  },
  {
   "cell_type": "code",
   "execution_count": 1,
   "metadata": {
    "ExecuteTime": {
     "end_time": "2018-04-18T18:16:44.504787Z",
     "start_time": "2018-04-18T18:16:44.496736Z"
    }
   },
   "outputs": [],
   "source": [
    "from utils import SBML2SciPy\n",
    "SciPyModel = SBML2SciPy.createSciPyModel()"
   ]
  },
  {
   "cell_type": "markdown",
   "metadata": {},
   "source": [
    "## Unpack SBML model into SciPyModel form\n",
    "\n",
    "* `importSBMLFile`: Constructs SciPyModel from SBML model file. File path may or may not be specified using the optional variable `Provided_FilePath`.\n",
    "* `writeODEFunction`: Creates derivative function for use with the SciPy module `odeint`. "
   ]
  },
  {
   "cell_type": "code",
   "execution_count": 2,
   "metadata": {
    "ExecuteTime": {
     "end_time": "2018-04-18T18:16:49.258101Z",
     "start_time": "2018-04-18T18:16:45.475114Z"
    }
   },
   "outputs": [],
   "source": [
    "SciPyModel = SBML2SciPy.importSBMLFile( SciPyModel )"
   ]
  },
  {
   "cell_type": "code",
   "execution_count": 3,
   "metadata": {
    "ExecuteTime": {
     "end_time": "2018-04-18T18:16:49.978900Z",
     "start_time": "2018-04-18T18:16:49.869261Z"
    }
   },
   "outputs": [],
   "source": [
    "SciPyModel = SBML2SciPy.writeODEFunction( SciPyModel )"
   ]
  },
  {
   "cell_type": "markdown",
   "metadata": {},
   "source": [
    "### Integrate SciPyModel Deterministically"
   ]
  },
  {
   "cell_type": "markdown",
   "metadata": {},
   "source": [
    "Specify time-vector information."
   ]
  },
  {
   "cell_type": "code",
   "execution_count": 16,
   "metadata": {
    "ExecuteTime": {
     "end_time": "2018-04-18T18:23:34.083963Z",
     "start_time": "2018-04-18T18:23:34.068641Z"
    }
   },
   "outputs": [],
   "source": [
    "SciPyModel.SimulationData.TimeStart = 0\n",
    "SciPyModel.SimulationData.TimeEnd = 30*24\n",
    "SciPyModel.SimulationData.DataPoints = 30*24"
   ]
  },
  {
   "cell_type": "code",
   "execution_count": 66,
   "metadata": {
    "ExecuteTime": {
     "end_time": "2018-04-18T18:40:41.305707Z",
     "start_time": "2018-04-18T18:40:40.830769Z"
    }
   },
   "outputs": [
    {
     "name": "stdout",
     "output_type": "stream",
     "text": [
      "ERROR: Unknown error. Unable to remove 0240PMApril182018.py\n"
     ]
    }
   ],
   "source": [
    "import numpy\n",
    "\n",
    "SteadyStateCondition = numpy.ones([SciPyModel.Species.Quantity,1])\n",
    "# SteadyStateCondition[-2:] = numpy.zeros([2,1])\n",
    "\n",
    "SciPyModel.Species.Value = SteadyStateCondition.flatten()\n",
    "\n",
    "SciPyModel = SBML2SciPy.integrateODEFunction(SciPyModel)"
   ]
  },
  {
   "cell_type": "markdown",
   "metadata": {},
   "source": [
    "### Plot Deterministic Data"
   ]
  },
  {
   "cell_type": "code",
   "execution_count": null,
   "metadata": {
    "ExecuteTime": {
     "start_time": "2018-04-18T18:11:25.109Z"
    },
    "deletable": false,
    "editable": false,
    "run_control": {
     "frozen": true
    }
   },
   "outputs": [],
   "source": [
    "# Import required packages\n",
    "import numpy, matplotlib\n",
    "from matplotlib import pyplot\n",
    "import sys\n",
    "\n",
    "\n",
    "if sys.version_info[0] < 3:\n",
    "    import Tkinter as tk\n",
    "else:\n",
    "    import tkinter as tk\n",
    "\n",
    "    \n",
    "import matplotlib.backends.tkagg as tkagg\n",
    "from matplotlib.backends.backend_agg import FigureCanvasAgg\n",
    "\n",
    "def draw_figure( canvas, figure, loc=(0,0)):\n",
    "    \n",
    "    figure_canvas_agg = FigureCanvasAgg(figure)\n",
    "    figure_canvas_agg.draw()\n",
    "    figure_x, figure_y, figure_w, figure_h = figure.bbox.bounds\n",
    "    photo = tk.PhotoImage(master=canvas, width=int(figure_w), height=int(figure_h))\n",
    "    \n",
    "    # Position: convert from top-left corner anchor to center anchor\n",
    "    canvas.create_image(loc[0], loc[1], image=photo)\n",
    "    \n",
    "    # Unfortunately, there's no accessor for the pointer to the native renderer\n",
    "    tkagg.blit(photo, figure_canvas_agg.get_renderer()._renderer, colormode=2)\n",
    "    \n",
    "    # Return a handle which contains a reference to the photo object\n",
    "    # wich must be kept live or else the picture disappears\n",
    "    return photo\n",
    "\n",
    "# Create a canvas\n",
    "w, h = 300, 200\n",
    "window = tk.Tk()\n",
    "window.title(\"A figure in a canvas\")\n",
    "canvas = tk.Canvas(window, width=w, height=h)\n",
    "canvas.pack()\n",
    "\n",
    "# Create the figure we desire to add to an existing canvas\n",
    "fig = matplotlib.figure.Figure(figsize=(2,1))\n",
    "ax = fig.add_axes([0,0,1,1])\n",
    "ax.plot( SciPyModel.SimulationData.Deterministic.Data )\n",
    "\n",
    "# Keep this handle alive, or else figure will disappear\n",
    "fig_photo = draw_figure(canvas, fig, loc=(100,100))\n",
    "\n",
    "# Let Tk take over\n",
    "tk.mainloop()"
   ]
  },
  {
   "cell_type": "markdown",
   "metadata": {},
   "source": [
    "### Sample from Nullspace"
   ]
  },
  {
   "cell_type": "code",
   "execution_count": 6,
   "metadata": {
    "ExecuteTime": {
     "end_time": "2018-04-18T18:17:22.355309Z",
     "start_time": "2018-04-18T18:17:15.682576Z"
    },
    "deletable": false,
    "editable": false,
    "run_control": {
     "frozen": true
    }
   },
   "outputs": [],
   "source": [
    "SciPyModel = SBML2SciPy.createNullSpaceFunction( SciPyModel )"
   ]
  },
  {
   "cell_type": "code",
   "execution_count": 67,
   "metadata": {
    "ExecuteTime": {
     "end_time": "2018-04-18T18:40:46.111706Z",
     "start_time": "2018-04-18T18:40:45.014740Z"
    }
   },
   "outputs": [
    {
     "data": {
      "image/png": "[encoded data removed]",
      "text/plain": [
       "<matplotlib.figure.Figure at 0x7fada14a8e50>"
      ]
     },
     "metadata": {},
     "output_type": "display_data"
    }
   ],
   "source": [
    "import numpy as np\n",
    "from matplotlib import pyplot as plt\n",
    "%matplotlib inline\n",
    "TVec = np.linspace(SciPyModel.SimulationData.TimeStart,\n",
    "                   SciPyModel.SimulationData.TimeEnd,\n",
    "                   SciPyModel.SimulationData.DataPoints)\n",
    "\n",
    "plt.close()\n",
    "plt.figure(figsize=(10, 5))\n",
    "\n",
    "LineObjs = plt.plot(TVec, SciPyModel.SimulationData.Deterministic.Data)\n",
    "plt.grid()\n",
    "\n",
    "plt.title('Simulation with Original Parameterization')\n",
    "plt.xlabel('Time')\n",
    "plt.ylabel('Concentrations')\n",
    "\n",
    "plt.legend(LineObjs, SciPyModel.Species.Names)\n",
    "\n",
    "plt.show()"
   ]
  },
  {
   "cell_type": "code",
   "execution_count": 70,
   "metadata": {
    "ExecuteTime": {
     "end_time": "2018-04-18T18:41:59.621681Z",
     "start_time": "2018-04-18T18:41:59.603386Z"
    }
   },
   "outputs": [],
   "source": [
    "import itertools\n",
    "\n",
    "NullSpace = SciPyModel.ToolboxFunctions.NullSpaceFunction(\n",
    "    list(\n",
    "        itertools.compress(SciPyModel.Parameters.Value,\n",
    "                           np.invert(SciPyModel.Parameters.KineticFlag))),\n",
    "    SciPyModel.Species.Value)\n",
    "\n",
    "RandG = np.random.rand(NullSpace.shape[1], 1)\n",
    "\n",
    "Sample = NullSpace.dot(RandG)\n",
    "\n",
    "numpy.savetxt(\"NullSpaceTest.csv\", NullSpace, delimiter=\",\")"
   ]
  },
  {
   "cell_type": "code",
   "execution_count": 50,
   "metadata": {
    "ExecuteTime": {
     "end_time": "2018-04-18T18:36:45.787983Z",
     "start_time": "2018-04-18T18:36:45.749733Z"
    }
   },
   "outputs": [
    {
     "name": "stdout",
     "output_type": "stream",
     "text": [
      "[0.0001, 0.0017, 0.0738, 0.25, 0.25, 0.25, 0.25, 0.25, 0.25, 0.25, 0.25, 0.25, 0.25, 0.25, 0.25, 0.25, 0.25, 0.25, 0.25, 0.25, 0.25, 0.25, 0.25, 0.25, 0.25, 0.25]\n",
      "[ 1.  1.  1.  1.  1.  1.  1.  1.  1.  1.  1.  1.  1.  1.  1.  1.  1.  1.\n",
      "  1.  1.  1.  0.  0.  0.]\n"
     ]
    }
   ],
   "source": [
    "print list(\n",
    "        itertools.compress(SciPyModel.Parameters.Value,\n",
    "                           np.invert(SciPyModel.Parameters.KineticFlag)))\n",
    "\n",
    "print SciPyModel.Species.Value"
   ]
  },
  {
   "cell_type": "code",
   "execution_count": null,
   "metadata": {},
   "outputs": [],
   "source": []
  }
 ],
 "metadata": {
  "kernelspec": {
   "display_name": "Python 2",
   "language": "python",
   "name": "python2"
  },
  "language_info": {
   "codemirror_mode": {
    "name": "ipython",
    "version": 2
   },
   "file_extension": ".py",
   "mimetype": "text/x-python",
   "name": "python",
   "nbconvert_exporter": "python",
   "pygments_lexer": "ipython2",
   "version": "2.7.12"
  },
  "toc": {
   "nav_menu": {},
   "number_sections": false,
   "sideBar": true,
   "skip_h1_title": false,
   "toc_cell": true,
   "toc_position": {},
   "toc_section_display": "block",
   "toc_window_display": false
  },
  "varInspector": {
   "cols": {
    "lenName": 16,
    "lenType": 16,
    "lenVar": 40
   },
   "kernels_config": {
    "python": {
     "delete_cmd_postfix": "",
     "delete_cmd_prefix": "del ",
     "library": "var_list.py",
     "varRefreshCmd": "print(var_dic_list())"
    },
    "r": {
     "delete_cmd_postfix": ") ",
     "delete_cmd_prefix": "rm(",
     "library": "var_list.r",
     "varRefreshCmd": "cat(var_dic_list()) "
    }
   },
   "oldHeight": 446,
   "position": {
    "height": "468px",
    "left": "1012px",
    "right": "19px",
    "top": "119px",
    "width": "335px"
   },
   "types_to_exclude": [
    "module",
    "function",
    "builtin_function_or_method",
    "instance",
    "_Feature"
   ],
   "varInspector_section_display": "block",
   "window_display": false
  }
 },
 "nbformat": 4,
 "nbformat_minor": 2
}
