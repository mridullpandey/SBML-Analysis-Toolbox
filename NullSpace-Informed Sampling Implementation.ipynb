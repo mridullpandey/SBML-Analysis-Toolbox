{
 "cells": [
  {
   "cell_type": "markdown",
   "metadata": {},
   "source": [
    "### Notebook Description\n",
    "\n",
    "This notebook walks through the approach for implementing a method for generating parameter samples leveraging the properties of the nullspace matrix. The goal of this implementation is to establish a preliminary baseline method for initial deployment and subsequent improvement.\n",
    "\n",
    "The approach demonstrated here follows a one-at-a-time process, where single parameter samples are chosen from the sample space and collected into a full set to be output from the function. In later versions, this process will be replaced with a Latin-Hypercube styled approach to achieve more robust representation of the parameter space."
   ]
  },
  {
   "cell_type": "markdown",
   "metadata": {},
   "source": [
    "### Import SBML Model\n",
    "\n",
    "Before we begin the implementation, we must use previously discussed methods to create a SciPyModel of the proper form."
   ]
  },
  {
   "cell_type": "code",
   "execution_count": 1,
   "metadata": {
    "ExecuteTime": {
     "end_time": "2018-04-23T23:50:59.764854Z",
     "start_time": "2018-04-23T23:50:55.458301Z"
    }
   },
   "outputs": [],
   "source": [
    "from utils import SBML2SciPy\n",
    "SciPyModel = SBML2SciPy.importSBMLFile(SBML2SciPy.createSciPyModel())\n",
    "SciPyModel = SBML2SciPy.writeODEFunction( SciPyModel )\n",
    "SciPyModel = SBML2SciPy.createNullSpaceFunction( SciPyModel )"
   ]
  },
  {
   "cell_type": "markdown",
   "metadata": {},
   "source": [
    "### Specify Required Data\n",
    "\n",
    "First the user must specify data on the sampling in the `SciPyModel` structure."
   ]
  },
  {
   "cell_type": "code",
   "execution_count": 2,
   "metadata": {
    "ExecuteTime": {
     "end_time": "2018-04-23T23:50:59.795866Z",
     "start_time": "2018-04-23T23:50:59.769649Z"
    }
   },
   "outputs": [],
   "source": [
    "import numpy\n",
    "\n",
    "# Specify the number of parameter sets to draw from the sample space\n",
    "SciPyModel.SimulationData.Sensitivity.Global.NumSamples = 100\n",
    "\n",
    "# Specify the minimum bounds for each parameter\n",
    "SciPyModel.Parameters.MinimumValue = numpy.zeros(SciPyModel.Parameters.Quantity)\n",
    "\n",
    "# Specify the maximum bounds for each parameter\n",
    "SciPyModel.Parameters.MaximumValue = numpy.ones(SciPyModel.Parameters.Quantity)*2."
   ]
  },
  {
   "cell_type": "markdown",
   "metadata": {},
   "source": [
    "### Initialize Parameter Array\n",
    "\n",
    "An empty numpy array is required to capture the parameter sets as they are generated one-at-a-time."
   ]
  },
  {
   "cell_type": "code",
   "execution_count": 3,
   "metadata": {
    "ExecuteTime": {
     "end_time": "2018-04-23T23:50:59.852990Z",
     "start_time": "2018-04-23T23:50:59.808737Z"
    }
   },
   "outputs": [],
   "source": [
    "SciPyModel.SimulationData.Sensitivity.Global.ParameterSets = numpy.zeros([\n",
    "    SciPyModel.SimulationData.Sensitivity.Global.NumSamples,\n",
    "    SciPyModel.Parameters.Quantity\n",
    "])"
   ]
  },
  {
   "cell_type": "markdown",
   "metadata": {},
   "source": [
    "### Generate Parameter Sets\n",
    "\n",
    "Finally we loop to generate"
   ]
  },
  {
   "cell_type": "code",
   "execution_count": 4,
   "metadata": {
    "ExecuteTime": {
     "end_time": "2018-04-23T23:51:00.066029Z",
     "start_time": "2018-04-23T23:50:59.860163Z"
    }
   },
   "outputs": [],
   "source": [
    "for i in range(SciPyModel.SimulationData.Sensitivity.Global.NumSamples):\n",
    "\n",
    "    KSample = numpy.ones(sum(SciPyModel.Parameters.KineticFlag)) * numpy.inf\n",
    "\n",
    "    counter = 0\n",
    "    while counter < 10000:\n",
    "\n",
    "        RanSample = numpy.random.rand(\n",
    "            SciPyModel.Parameters.NullSpaceDimension +\n",
    "            sum([not c for c in SciPyModel.Parameters.KineticFlag]))\n",
    "\n",
    "        ESample = RanSample[SciPyModel.Parameters.NullSpaceDimension:]\n",
    "\n",
    "        KSample = SciPyModel.ToolboxFunctions.NullSpaceFunction(\n",
    "            list(ESample), list(SciPyModel.Species.Value)).dot(\n",
    "                list(RanSample[:SciPyModel.Parameters.NullSpaceDimension]))\n",
    "\n",
    "        if not ((KSample < SciPyModel.Parameters.\n",
    "                 MinimumValue[SciPyModel.Parameters.KineticFlag]).any() or\n",
    "                (KSample > SciPyModel.Parameters.\n",
    "                 MaximumValue[SciPyModel.Parameters.KineticFlag]).any()):\n",
    "            break\n",
    "\n",
    "        counter += 1\n",
    "\n",
    "    SciPyModel.SimulationData.Sensitivity.Global.ParameterSets[\n",
    "        i, :] = numpy.concatenate([KSample.tolist()[0],\n",
    "                                       ESample.tolist()])"
   ]
  },
  {
   "cell_type": "markdown",
   "metadata": {
    "ExecuteTime": {
     "end_time": "2018-04-23T23:38:05.835492Z",
     "start_time": "2018-04-23T23:38:05.812431Z"
    }
   },
   "source": [
    "### Validate Parameter Sets"
   ]
  },
  {
   "cell_type": "code",
   "execution_count": 7,
   "metadata": {
    "ExecuteTime": {
     "end_time": "2018-04-23T23:51:49.924271Z",
     "start_time": "2018-04-23T23:51:46.479923Z"
    }
   },
   "outputs": [
    {
     "data": {
      "image/png": "[encoded data removed]",
      "text/plain": [
       "<matplotlib.figure.Figure at 0x7fc136619750>"
      ]
     },
     "metadata": {},
     "output_type": "display_data"
    }
   ],
   "source": [
    "from matplotlib import pyplot as plt\n",
    "\n",
    "plt.close()\n",
    "plt.figure(figsize=(10, 5))\n",
    "\n",
    "SciPyModel.SimulationData.TimeStart = 0\n",
    "SciPyModel.SimulationData.TimeEnd = 10\n",
    "SciPyModel.SimulationData.DataPoints = 100\n",
    "\n",
    "for i in range(SciPyModel.SimulationData.Sensitivity.Global.NumSamples):\n",
    "\n",
    "    SciPyModel.Parameters.Value = SciPyModel.SimulationData.Sensitivity.Global.ParameterSets[\n",
    "        i, :]\n",
    "    SciPyModel = SBML2SciPy.integrateODEFunction(SciPyModel)\n",
    "    plt.plot(SciPyModel.SimulationData.Deterministic.TimeVector,\n",
    "             SciPyModel.SimulationData.Deterministic.Data)\n",
    "    \n",
    "plt.grid()\n",
    "plt.show()"
   ]
  },
  {
   "cell_type": "markdown",
   "metadata": {},
   "source": [
    "### Plot Sample Space"
   ]
  },
  {
   "cell_type": "code",
   "execution_count": 12,
   "metadata": {
    "ExecuteTime": {
     "end_time": "2018-04-23T23:58:20.367058Z",
     "start_time": "2018-04-23T23:58:18.166650Z"
    }
   },
   "outputs": [
    {
     "data": {
      "image/png": "[encoded data removed]",
      "text/plain": [
       "<matplotlib.figure.Figure at 0x7fc1365310d0>"
      ]
     },
     "metadata": {},
     "output_type": "display_data"
    }
   ],
   "source": [
    "plt.figure(figsize=(10, 3 * SciPyModel.Parameters.Quantity))\n",
    "\n",
    "for i in range(SciPyModel.Parameters.Quantity):\n",
    "\n",
    "    plt.subplot(SciPyModel.Parameters.Quantity, 1, i + 1)\n",
    "\n",
    "    plt.hlines(1, SciPyModel.Parameters.MinimumValue[i],\n",
    "               SciPyModel.Parameters.MaximumValue[i])  # Draw a horizontal line\n",
    "\n",
    "    plt.eventplot(\n",
    "        SciPyModel.SimulationData.Sensitivity.Global.ParameterSets[:, i],\n",
    "        orientation='horizontal',\n",
    "        colors='b')\n",
    "    plt.axis('off')\n",
    "    plt.title(SciPyModel.Parameters.Names[i])\n",
    "\n",
    "plt.show()"
   ]
  },
  {
   "cell_type": "code",
   "execution_count": null,
   "metadata": {},
   "outputs": [],
   "source": []
  }
 ],
 "metadata": {
  "kernelspec": {
   "display_name": "Python 2",
   "language": "python",
   "name": "python2"
  },
  "language_info": {
   "codemirror_mode": {
    "name": "ipython",
    "version": 2
   },
   "file_extension": ".py",
   "mimetype": "text/x-python",
   "name": "python",
   "nbconvert_exporter": "python",
   "pygments_lexer": "ipython2",
   "version": "2.7.12"
  },
  "toc": {
   "nav_menu": {},
   "number_sections": true,
   "sideBar": true,
   "skip_h1_title": false,
   "toc_cell": false,
   "toc_position": {},
   "toc_section_display": "block",
   "toc_window_display": true
  },
  "varInspector": {
   "cols": {
    "lenName": 16,
    "lenType": 16,
    "lenVar": 40
   },
   "kernels_config": {
    "python": {
     "delete_cmd_postfix": "",
     "delete_cmd_prefix": "del ",
     "library": "var_list.py",
     "varRefreshCmd": "print(var_dic_list())"
    },
    "r": {
     "delete_cmd_postfix": ") ",
     "delete_cmd_prefix": "rm(",
     "library": "var_list.r",
     "varRefreshCmd": "cat(var_dic_list()) "
    }
   },
   "types_to_exclude": [
    "module",
    "function",
    "builtin_function_or_method",
    "instance",
    "_Feature"
   ],
   "window_display": false
  }
 },
 "nbformat": 4,
 "nbformat_minor": 2
}
